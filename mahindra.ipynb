{
 "cells": [
  {
   "cell_type": "markdown",
   "metadata": {},
   "source": [
    "# Mahindra & Mahindra Data Analysis and Binary classification"
   ]
  },
  {
   "cell_type": "code",
   "execution_count": 2,
   "metadata": {},
   "outputs": [],
   "source": [
    "#Importing DATA calucation and manipulation libraries\n",
    "import numpy as np\n",
    "import pandas as pd\n",
    "\n",
    "#Importing neccessary plotting libraries\n",
    "import seaborn as sns\n",
    "import matplotlib.pyplot as plt\n",
    "%matplotlib inline"
   ]
  },
  {
   "cell_type": "code",
   "execution_count": 3,
   "metadata": {},
   "outputs": [],
   "source": [
    "#to ignore all warnings\n",
    "import warnings\n",
    "warnings.filterwarnings(\"ignore\")"
   ]
  },
  {
   "cell_type": "code",
   "execution_count": 99,
   "metadata": {},
   "outputs": [
    {
     "name": "stdout",
     "output_type": "stream",
     "text": [
      "Data frame Dimensions::\n",
      "TRAIN:(199609, 29)\n",
      "TEST1:(90718, 28)\n",
      "TEST2:(72581, 28)\n"
     ]
    }
   ],
   "source": [
    "#reading the csv files using pandas\n",
    "train = pd.read_csv(\"training_dataset.csv\")\n",
    "test1 = pd.read_csv(\"test1_data.csv\")\n",
    "test2 = pd.read_csv(\"test2_data.csv\")\n",
    "print('Data frame Dimensions::\\nTRAIN:{}\\nTEST1:{}\\nTEST2:{}'.format(train.shape,test1.shape,test2.shape))"
   ]
  },
  {
   "cell_type": "code",
   "execution_count": 100,
   "metadata": {},
   "outputs": [
    {
     "data": {
      "text/html": [
       "<div>\n",
       "<style scoped>\n",
       "    .dataframe tbody tr th:only-of-type {\n",
       "        vertical-align: middle;\n",
       "    }\n",
       "\n",
       "    .dataframe tbody tr th {\n",
       "        vertical-align: top;\n",
       "    }\n",
       "\n",
       "    .dataframe thead th {\n",
       "        text-align: right;\n",
       "    }\n",
       "</style>\n",
       "<table border=\"1\" class=\"dataframe\">\n",
       "  <thead>\n",
       "    <tr style=\"text-align: right;\">\n",
       "      <th></th>\n",
       "      <th>Variable1</th>\n",
       "      <th>Variable2</th>\n",
       "      <th>Variable3</th>\n",
       "      <th>Variable4</th>\n",
       "      <th>Variable5</th>\n",
       "      <th>Variable6</th>\n",
       "      <th>Variable7</th>\n",
       "      <th>Variable8</th>\n",
       "      <th>Variable9</th>\n",
       "      <th>Variable10</th>\n",
       "      <th>...</th>\n",
       "      <th>Variable20</th>\n",
       "      <th>Variable21</th>\n",
       "      <th>Variable22</th>\n",
       "      <th>Variable23</th>\n",
       "      <th>Variable24</th>\n",
       "      <th>Variable25</th>\n",
       "      <th>Variable26</th>\n",
       "      <th>Variable27</th>\n",
       "      <th>Variable28</th>\n",
       "      <th>Target</th>\n",
       "    </tr>\n",
       "  </thead>\n",
       "  <tbody>\n",
       "    <tr>\n",
       "      <th>0</th>\n",
       "      <td>1</td>\n",
       "      <td>ARO-4742</td>\n",
       "      <td>1</td>\n",
       "      <td>APHRNG1692</td>\n",
       "      <td>May-16</td>\n",
       "      <td>N</td>\n",
       "      <td>9.314022e+09</td>\n",
       "      <td>Col-6930</td>\n",
       "      <td>PKSA016674</td>\n",
       "      <td>USG1</td>\n",
       "      <td>...</td>\n",
       "      <td>NaN</td>\n",
       "      <td>NaN</td>\n",
       "      <td>VAR SULP TT3 PS</td>\n",
       "      <td>NaN</td>\n",
       "      <td>N</td>\n",
       "      <td>NaN</td>\n",
       "      <td>COM2</td>\n",
       "      <td>1150.0</td>\n",
       "      <td>MFTRC322</td>\n",
       "      <td>0</td>\n",
       "    </tr>\n",
       "    <tr>\n",
       "      <th>1</th>\n",
       "      <td>2</td>\n",
       "      <td>ARO-4928</td>\n",
       "      <td>2</td>\n",
       "      <td>APFPTV9946</td>\n",
       "      <td>Feb-17</td>\n",
       "      <td>N</td>\n",
       "      <td>9.251002e+09</td>\n",
       "      <td>Col-6930</td>\n",
       "      <td>PA2Z013889</td>\n",
       "      <td>USG4</td>\n",
       "      <td>...</td>\n",
       "      <td>NaN</td>\n",
       "      <td>NaN</td>\n",
       "      <td>VAR SULP TT4</td>\n",
       "      <td>NaN</td>\n",
       "      <td>N</td>\n",
       "      <td>NaN</td>\n",
       "      <td>COM1</td>\n",
       "      <td>1150.0</td>\n",
       "      <td>MFTRC322</td>\n",
       "      <td>0</td>\n",
       "    </tr>\n",
       "    <tr>\n",
       "      <th>2</th>\n",
       "      <td>3</td>\n",
       "      <td>ARO-3778</td>\n",
       "      <td>2</td>\n",
       "      <td>APHRNG1692</td>\n",
       "      <td>Dec-15</td>\n",
       "      <td>NaN</td>\n",
       "      <td>9.451552e+09</td>\n",
       "      <td>Col-4259</td>\n",
       "      <td>PCEM018562</td>\n",
       "      <td>USG4</td>\n",
       "      <td>...</td>\n",
       "      <td>NaN</td>\n",
       "      <td>NaN</td>\n",
       "      <td>VAR SULP DI TT3</td>\n",
       "      <td>NaN</td>\n",
       "      <td>N</td>\n",
       "      <td>NaN</td>\n",
       "      <td>COM3</td>\n",
       "      <td>1150.0</td>\n",
       "      <td>MFTRC322</td>\n",
       "      <td>0</td>\n",
       "    </tr>\n",
       "    <tr>\n",
       "      <th>3</th>\n",
       "      <td>4</td>\n",
       "      <td>ARO-4998</td>\n",
       "      <td>1</td>\n",
       "      <td>APFPTV154265</td>\n",
       "      <td>Sep-16</td>\n",
       "      <td>N</td>\n",
       "      <td>9.416109e+09</td>\n",
       "      <td>Col-4259</td>\n",
       "      <td>PTRW14933</td>\n",
       "      <td>USG4</td>\n",
       "      <td>...</td>\n",
       "      <td>NaN</td>\n",
       "      <td>NaN</td>\n",
       "      <td>VAR SULP DI TT3 PS</td>\n",
       "      <td>NaN</td>\n",
       "      <td>N</td>\n",
       "      <td>NaN</td>\n",
       "      <td>COM1</td>\n",
       "      <td>1000.0</td>\n",
       "      <td>MFTRC322</td>\n",
       "      <td>0</td>\n",
       "    </tr>\n",
       "    <tr>\n",
       "      <th>4</th>\n",
       "      <td>5</td>\n",
       "      <td>ARO-3627</td>\n",
       "      <td>2</td>\n",
       "      <td>APHRNG1692</td>\n",
       "      <td>Feb-16</td>\n",
       "      <td>N</td>\n",
       "      <td>9.500040e+09</td>\n",
       "      <td>Col-4259</td>\n",
       "      <td>PAM0026696</td>\n",
       "      <td>USG1</td>\n",
       "      <td>...</td>\n",
       "      <td>NaN</td>\n",
       "      <td>NaN</td>\n",
       "      <td>VAR SULP TT4 PS</td>\n",
       "      <td>NaN</td>\n",
       "      <td>N</td>\n",
       "      <td>NaN</td>\n",
       "      <td>COM1</td>\n",
       "      <td>1150.0</td>\n",
       "      <td>MAHEC465</td>\n",
       "      <td>0</td>\n",
       "    </tr>\n",
       "  </tbody>\n",
       "</table>\n",
       "<p>5 rows × 29 columns</p>\n",
       "</div>"
      ],
      "text/plain": [
       "   Variable1 Variable2  Variable3     Variable4 Variable5 Variable6  \\\n",
       "0          1  ARO-4742          1    APHRNG1692    May-16         N   \n",
       "1          2  ARO-4928          2    APFPTV9946    Feb-17         N   \n",
       "2          3  ARO-3778          2    APHRNG1692    Dec-15       NaN   \n",
       "3          4  ARO-4998          1  APFPTV154265    Sep-16         N   \n",
       "4          5  ARO-3627          2    APHRNG1692    Feb-16         N   \n",
       "\n",
       "      Variable7 Variable8   Variable9 Variable10  ...   Variable20  \\\n",
       "0  9.314022e+09  Col-6930  PKSA016674       USG1  ...          NaN   \n",
       "1  9.251002e+09  Col-6930  PA2Z013889       USG4  ...          NaN   \n",
       "2  9.451552e+09  Col-4259  PCEM018562       USG4  ...          NaN   \n",
       "3  9.416109e+09  Col-4259   PTRW14933       USG4  ...          NaN   \n",
       "4  9.500040e+09  Col-4259  PAM0026696       USG1  ...          NaN   \n",
       "\n",
       "   Variable21          Variable22 Variable23 Variable24  Variable25  \\\n",
       "0         NaN     VAR SULP TT3 PS        NaN          N         NaN   \n",
       "1         NaN        VAR SULP TT4        NaN          N         NaN   \n",
       "2         NaN     VAR SULP DI TT3        NaN          N         NaN   \n",
       "3         NaN  VAR SULP DI TT3 PS        NaN          N         NaN   \n",
       "4         NaN     VAR SULP TT4 PS        NaN          N         NaN   \n",
       "\n",
       "  Variable26 Variable27 Variable28 Target  \n",
       "0       COM2     1150.0   MFTRC322      0  \n",
       "1       COM1     1150.0   MFTRC322      0  \n",
       "2       COM3     1150.0   MFTRC322      0  \n",
       "3       COM1     1000.0   MFTRC322      0  \n",
       "4       COM1     1150.0   MAHEC465      0  \n",
       "\n",
       "[5 rows x 29 columns]"
      ]
     },
     "execution_count": 100,
     "metadata": {},
     "output_type": "execute_result"
    }
   ],
   "source": [
    "train.head()  #showing the first 5 rows of dataframe"
   ]
  },
  {
   "cell_type": "markdown",
   "metadata": {},
   "source": [
    "## Exploratory Data Analysis"
   ]
  },
  {
   "cell_type": "code",
   "execution_count": 101,
   "metadata": {},
   "outputs": [
    {
     "name": "stdout",
     "output_type": "stream",
     "text": [
      "<class 'pandas.core.frame.DataFrame'>\n",
      "RangeIndex: 199609 entries, 0 to 199608\n",
      "Data columns (total 29 columns):\n",
      "Variable1     199609 non-null int64\n",
      "Variable2     199609 non-null object\n",
      "Variable3     199609 non-null int64\n",
      "Variable4     199609 non-null object\n",
      "Variable5     199609 non-null object\n",
      "Variable6     153218 non-null object\n",
      "Variable7     188074 non-null float64\n",
      "Variable8     199609 non-null object\n",
      "Variable9     199609 non-null object\n",
      "Variable10    199609 non-null object\n",
      "Variable11    199609 non-null object\n",
      "Variable12    162791 non-null float64\n",
      "Variable13    199609 non-null object\n",
      "Variable14    199609 non-null object\n",
      "Variable15    199609 non-null object\n",
      "Variable16    24905 non-null float64\n",
      "Variable17    199609 non-null object\n",
      "Variable18    141070 non-null object\n",
      "Variable19    199609 non-null object\n",
      "Variable20    23829 non-null object\n",
      "Variable21    0 non-null float64\n",
      "Variable22    199609 non-null object\n",
      "Variable23    39483 non-null object\n",
      "Variable24    199609 non-null object\n",
      "Variable25    16808 non-null object\n",
      "Variable26    199609 non-null object\n",
      "Variable27    165446 non-null float64\n",
      "Variable28    199609 non-null object\n",
      "Target        199609 non-null int64\n",
      "dtypes: float64(5), int64(3), object(21)\n",
      "memory usage: 44.2+ MB\n"
     ]
    }
   ],
   "source": [
    "#Showing Meta data:\n",
    "train.info()"
   ]
  },
  {
   "cell_type": "code",
   "execution_count": 215,
   "metadata": {},
   "outputs": [
    {
     "name": "stdout",
     "output_type": "stream",
     "text": [
      "Descriptive Statastics of our Training Data:\n"
     ]
    },
    {
     "data": {
      "text/html": [
       "<div>\n",
       "<style scoped>\n",
       "    .dataframe tbody tr th:only-of-type {\n",
       "        vertical-align: middle;\n",
       "    }\n",
       "\n",
       "    .dataframe tbody tr th {\n",
       "        vertical-align: top;\n",
       "    }\n",
       "\n",
       "    .dataframe thead th {\n",
       "        text-align: right;\n",
       "    }\n",
       "</style>\n",
       "<table border=\"1\" class=\"dataframe\">\n",
       "  <thead>\n",
       "    <tr style=\"text-align: right;\">\n",
       "      <th></th>\n",
       "      <th>count</th>\n",
       "      <th>mean</th>\n",
       "      <th>std</th>\n",
       "      <th>min</th>\n",
       "      <th>25%</th>\n",
       "      <th>50%</th>\n",
       "      <th>75%</th>\n",
       "      <th>max</th>\n",
       "    </tr>\n",
       "  </thead>\n",
       "  <tbody>\n",
       "    <tr>\n",
       "      <th>Variable1</th>\n",
       "      <td>199609.0</td>\n",
       "      <td>9.980500e+04</td>\n",
       "      <td>5.762230e+04</td>\n",
       "      <td>1.000000e+00</td>\n",
       "      <td>4.990300e+04</td>\n",
       "      <td>9.980500e+04</td>\n",
       "      <td>1.497070e+05</td>\n",
       "      <td>1.996090e+05</td>\n",
       "    </tr>\n",
       "    <tr>\n",
       "      <th>Variable3</th>\n",
       "      <td>199609.0</td>\n",
       "      <td>3.629831e+00</td>\n",
       "      <td>2.273030e+00</td>\n",
       "      <td>0.000000e+00</td>\n",
       "      <td>2.000000e+00</td>\n",
       "      <td>3.000000e+00</td>\n",
       "      <td>4.000000e+00</td>\n",
       "      <td>9.000000e+00</td>\n",
       "    </tr>\n",
       "    <tr>\n",
       "      <th>Variable7</th>\n",
       "      <td>188074.0</td>\n",
       "      <td>9.437428e+09</td>\n",
       "      <td>1.937600e+08</td>\n",
       "      <td>9.110001e+09</td>\n",
       "      <td>9.262702e+09</td>\n",
       "      <td>9.442907e+09</td>\n",
       "      <td>9.591303e+09</td>\n",
       "      <td>9.855457e+09</td>\n",
       "    </tr>\n",
       "    <tr>\n",
       "      <th>Variable12</th>\n",
       "      <td>162791.0</td>\n",
       "      <td>1.686957e+02</td>\n",
       "      <td>1.533836e+02</td>\n",
       "      <td>1.000000e+00</td>\n",
       "      <td>8.000000e+01</td>\n",
       "      <td>1.100000e+02</td>\n",
       "      <td>1.900000e+02</td>\n",
       "      <td>6.500000e+02</td>\n",
       "    </tr>\n",
       "    <tr>\n",
       "      <th>Variable16</th>\n",
       "      <td>24905.0</td>\n",
       "      <td>2.117606e+02</td>\n",
       "      <td>5.882970e+03</td>\n",
       "      <td>0.000000e+00</td>\n",
       "      <td>1.000000e+00</td>\n",
       "      <td>1.000000e+00</td>\n",
       "      <td>1.000000e+00</td>\n",
       "      <td>5.000000e+05</td>\n",
       "    </tr>\n",
       "    <tr>\n",
       "      <th>Variable21</th>\n",
       "      <td>0.0</td>\n",
       "      <td>NaN</td>\n",
       "      <td>NaN</td>\n",
       "      <td>NaN</td>\n",
       "      <td>NaN</td>\n",
       "      <td>NaN</td>\n",
       "      <td>NaN</td>\n",
       "      <td>NaN</td>\n",
       "    </tr>\n",
       "    <tr>\n",
       "      <th>Variable27</th>\n",
       "      <td>165446.0</td>\n",
       "      <td>1.433633e+03</td>\n",
       "      <td>5.886596e+02</td>\n",
       "      <td>1.000000e+00</td>\n",
       "      <td>1.150000e+03</td>\n",
       "      <td>1.150000e+03</td>\n",
       "      <td>1.600000e+03</td>\n",
       "      <td>3.000000e+03</td>\n",
       "    </tr>\n",
       "    <tr>\n",
       "      <th>Target</th>\n",
       "      <td>199609.0</td>\n",
       "      <td>1.698270e-01</td>\n",
       "      <td>3.754817e-01</td>\n",
       "      <td>0.000000e+00</td>\n",
       "      <td>0.000000e+00</td>\n",
       "      <td>0.000000e+00</td>\n",
       "      <td>0.000000e+00</td>\n",
       "      <td>1.000000e+00</td>\n",
       "    </tr>\n",
       "  </tbody>\n",
       "</table>\n",
       "</div>"
      ],
      "text/plain": [
       "               count          mean           std           min           25%  \\\n",
       "Variable1   199609.0  9.980500e+04  5.762230e+04  1.000000e+00  4.990300e+04   \n",
       "Variable3   199609.0  3.629831e+00  2.273030e+00  0.000000e+00  2.000000e+00   \n",
       "Variable7   188074.0  9.437428e+09  1.937600e+08  9.110001e+09  9.262702e+09   \n",
       "Variable12  162791.0  1.686957e+02  1.533836e+02  1.000000e+00  8.000000e+01   \n",
       "Variable16   24905.0  2.117606e+02  5.882970e+03  0.000000e+00  1.000000e+00   \n",
       "Variable21       0.0           NaN           NaN           NaN           NaN   \n",
       "Variable27  165446.0  1.433633e+03  5.886596e+02  1.000000e+00  1.150000e+03   \n",
       "Target      199609.0  1.698270e-01  3.754817e-01  0.000000e+00  0.000000e+00   \n",
       "\n",
       "                     50%           75%           max  \n",
       "Variable1   9.980500e+04  1.497070e+05  1.996090e+05  \n",
       "Variable3   3.000000e+00  4.000000e+00  9.000000e+00  \n",
       "Variable7   9.442907e+09  9.591303e+09  9.855457e+09  \n",
       "Variable12  1.100000e+02  1.900000e+02  6.500000e+02  \n",
       "Variable16  1.000000e+00  1.000000e+00  5.000000e+05  \n",
       "Variable21           NaN           NaN           NaN  \n",
       "Variable27  1.150000e+03  1.600000e+03  3.000000e+03  \n",
       "Target      0.000000e+00  0.000000e+00  1.000000e+00  "
      ]
     },
     "execution_count": 215,
     "metadata": {},
     "output_type": "execute_result"
    }
   ],
   "source": [
    "print('Descriptive Statastics of our Training Data:')\n",
    "train.describe().T"
   ]
  },
  {
   "cell_type": "code",
   "execution_count": 216,
   "metadata": {},
   "outputs": [
    {
     "data": {
      "text/plain": [
       "Variable1          0\n",
       "Variable2          0\n",
       "Variable3          0\n",
       "Variable4          0\n",
       "Variable5          0\n",
       "Variable6      46391\n",
       "Variable7      11535\n",
       "Variable8          0\n",
       "Variable9          0\n",
       "Variable10         0\n",
       "Variable11         0\n",
       "Variable12     36818\n",
       "Variable13         0\n",
       "Variable14         0\n",
       "Variable15         0\n",
       "Variable16    174704\n",
       "Variable17         0\n",
       "Variable18     58539\n",
       "Variable19         0\n",
       "Variable20    175780\n",
       "Variable21    199609\n",
       "Variable22         0\n",
       "Variable23    160126\n",
       "Variable24         0\n",
       "Variable25    182801\n",
       "Variable26         0\n",
       "Variable27     34163\n",
       "Variable28         0\n",
       "Target             0\n",
       "dtype: int64"
      ]
     },
     "execution_count": 216,
     "metadata": {},
     "output_type": "execute_result"
    }
   ],
   "source": [
    "#Checking for missing values\n",
    "pd.isnull(train).sum()"
   ]
  },
  {
   "cell_type": "markdown",
   "metadata": {},
   "source": [
    "Yes, missing values are present in some of the features in our dataset. "
   ]
  },
  {
   "cell_type": "code",
   "execution_count": 217,
   "metadata": {},
   "outputs": [
    {
     "data": {
      "text/plain": [
       "Variable1       0.00\n",
       "Variable2       0.00\n",
       "Variable3       0.00\n",
       "Variable4       0.00\n",
       "Variable5       0.00\n",
       "Variable6      23.24\n",
       "Variable7       5.78\n",
       "Variable8       0.00\n",
       "Variable9       0.00\n",
       "Variable10      0.00\n",
       "Variable11      0.00\n",
       "Variable12     18.45\n",
       "Variable13      0.00\n",
       "Variable14      0.00\n",
       "Variable15      0.00\n",
       "Variable16     87.52\n",
       "Variable17      0.00\n",
       "Variable18     29.33\n",
       "Variable19      0.00\n",
       "Variable20     88.06\n",
       "Variable21    100.00\n",
       "Variable22      0.00\n",
       "Variable23     80.22\n",
       "Variable24      0.00\n",
       "Variable25     91.58\n",
       "Variable26      0.00\n",
       "Variable27     17.11\n",
       "Variable28      0.00\n",
       "Target          0.00\n",
       "dtype: float64"
      ]
     },
     "execution_count": 217,
     "metadata": {},
     "output_type": "execute_result"
    }
   ],
   "source": [
    "# Checking the percentage of missing values in the features\n",
    "round((pd.isnull(train).sum()/len(train))*100, 2)"
   ]
  },
  {
   "cell_type": "code",
   "execution_count": 109,
   "metadata": {},
   "outputs": [
    {
     "name": "stdout",
     "output_type": "stream",
     "text": [
      "Dimensions of Combined data: (362908, 28) \n"
     ]
    }
   ],
   "source": [
    "#concating(combining) train and test data sets \n",
    "data = pd.concat([train.drop('Target',axis=1),test1,test2],axis = 0)\n",
    "\n",
    "print(\"Dimensions of Combined data: {} \".format(data.shape))"
   ]
  },
  {
   "cell_type": "code",
   "execution_count": 110,
   "metadata": {},
   "outputs": [],
   "source": [
    "#Dropping the features with more than 60% of missing values\n",
    "data.drop(['Variable16','Variable20','Variable21','Variable23', 'Variable25'],axis = 1,inplace=True)"
   ]
  },
  {
   "cell_type": "code",
   "execution_count": 111,
   "metadata": {},
   "outputs": [],
   "source": [
    "#Dropping variable1 since it is a serial number and not a useful feature for analysis:\n",
    "data.drop(['Variable1'],axis = 1,inplace = True)"
   ]
  },
  {
   "cell_type": "markdown",
   "metadata": {},
   "source": [
    "## Distribution of Variables (Univariate Analysis)"
   ]
  },
  {
   "cell_type": "code",
   "execution_count": 112,
   "metadata": {},
   "outputs": [
    {
     "data": {
      "text/html": [
       "<div>\n",
       "<style scoped>\n",
       "    .dataframe tbody tr th:only-of-type {\n",
       "        vertical-align: middle;\n",
       "    }\n",
       "\n",
       "    .dataframe tbody tr th {\n",
       "        vertical-align: top;\n",
       "    }\n",
       "\n",
       "    .dataframe thead th {\n",
       "        text-align: right;\n",
       "    }\n",
       "</style>\n",
       "<table border=\"1\" class=\"dataframe\">\n",
       "  <thead>\n",
       "    <tr style=\"text-align: right;\">\n",
       "      <th></th>\n",
       "      <th>Variable2</th>\n",
       "      <th>Variable3</th>\n",
       "      <th>Variable4</th>\n",
       "      <th>Variable5</th>\n",
       "      <th>Variable6</th>\n",
       "      <th>Variable7</th>\n",
       "      <th>Variable8</th>\n",
       "      <th>Variable9</th>\n",
       "      <th>Variable10</th>\n",
       "      <th>Variable11</th>\n",
       "      <th>...</th>\n",
       "      <th>Variable14</th>\n",
       "      <th>Variable15</th>\n",
       "      <th>Variable17</th>\n",
       "      <th>Variable18</th>\n",
       "      <th>Variable19</th>\n",
       "      <th>Variable22</th>\n",
       "      <th>Variable24</th>\n",
       "      <th>Variable26</th>\n",
       "      <th>Variable27</th>\n",
       "      <th>Variable28</th>\n",
       "    </tr>\n",
       "  </thead>\n",
       "  <tbody>\n",
       "    <tr>\n",
       "      <th>0</th>\n",
       "      <td>ARO-4742</td>\n",
       "      <td>1</td>\n",
       "      <td>APHRNG1692</td>\n",
       "      <td>May-16</td>\n",
       "      <td>N</td>\n",
       "      <td>9.314022e+09</td>\n",
       "      <td>Col-6930</td>\n",
       "      <td>PKSA016674</td>\n",
       "      <td>USG1</td>\n",
       "      <td>LOTYPE1000</td>\n",
       "      <td>...</td>\n",
       "      <td>B191</td>\n",
       "      <td>Type-206</td>\n",
       "      <td>MFTRV9754</td>\n",
       "      <td>N</td>\n",
       "      <td>LKSA18434</td>\n",
       "      <td>VAR SULP TT3 PS</td>\n",
       "      <td>N</td>\n",
       "      <td>COM2</td>\n",
       "      <td>1150.0</td>\n",
       "      <td>MFTRC322</td>\n",
       "    </tr>\n",
       "    <tr>\n",
       "      <th>1</th>\n",
       "      <td>ARO-4928</td>\n",
       "      <td>2</td>\n",
       "      <td>APFPTV9946</td>\n",
       "      <td>Feb-17</td>\n",
       "      <td>N</td>\n",
       "      <td>9.251002e+09</td>\n",
       "      <td>Col-6930</td>\n",
       "      <td>PA2Z013889</td>\n",
       "      <td>USG4</td>\n",
       "      <td>LOTYPE500</td>\n",
       "      <td>...</td>\n",
       "      <td>C818</td>\n",
       "      <td>Type-367</td>\n",
       "      <td>MFTRV9754</td>\n",
       "      <td>N</td>\n",
       "      <td>LA2Z11295</td>\n",
       "      <td>VAR SULP TT4</td>\n",
       "      <td>N</td>\n",
       "      <td>COM1</td>\n",
       "      <td>1150.0</td>\n",
       "      <td>MFTRC322</td>\n",
       "    </tr>\n",
       "    <tr>\n",
       "      <th>2</th>\n",
       "      <td>ARO-3778</td>\n",
       "      <td>2</td>\n",
       "      <td>APHRNG1692</td>\n",
       "      <td>Dec-15</td>\n",
       "      <td>NaN</td>\n",
       "      <td>9.451552e+09</td>\n",
       "      <td>Col-4259</td>\n",
       "      <td>PCEM018562</td>\n",
       "      <td>USG4</td>\n",
       "      <td>LOTYPE1000</td>\n",
       "      <td>...</td>\n",
       "      <td>E919</td>\n",
       "      <td>Type-206</td>\n",
       "      <td>MFTRV9754</td>\n",
       "      <td>NaN</td>\n",
       "      <td>LCEM41939</td>\n",
       "      <td>VAR SULP DI TT3</td>\n",
       "      <td>N</td>\n",
       "      <td>COM3</td>\n",
       "      <td>1150.0</td>\n",
       "      <td>MFTRC322</td>\n",
       "    </tr>\n",
       "  </tbody>\n",
       "</table>\n",
       "<p>3 rows × 22 columns</p>\n",
       "</div>"
      ],
      "text/plain": [
       "  Variable2  Variable3   Variable4 Variable5 Variable6     Variable7  \\\n",
       "0  ARO-4742          1  APHRNG1692    May-16         N  9.314022e+09   \n",
       "1  ARO-4928          2  APFPTV9946    Feb-17         N  9.251002e+09   \n",
       "2  ARO-3778          2  APHRNG1692    Dec-15       NaN  9.451552e+09   \n",
       "\n",
       "  Variable8   Variable9 Variable10  Variable11    ...      Variable14  \\\n",
       "0  Col-6930  PKSA016674       USG1  LOTYPE1000    ...            B191   \n",
       "1  Col-6930  PA2Z013889       USG4   LOTYPE500    ...            C818   \n",
       "2  Col-4259  PCEM018562       USG4  LOTYPE1000    ...            E919   \n",
       "\n",
       "  Variable15 Variable17 Variable18 Variable19       Variable22 Variable24  \\\n",
       "0   Type-206  MFTRV9754          N  LKSA18434  VAR SULP TT3 PS          N   \n",
       "1   Type-367  MFTRV9754          N  LA2Z11295     VAR SULP TT4          N   \n",
       "2   Type-206  MFTRV9754        NaN  LCEM41939  VAR SULP DI TT3          N   \n",
       "\n",
       "  Variable26 Variable27 Variable28  \n",
       "0       COM2     1150.0   MFTRC322  \n",
       "1       COM1     1150.0   MFTRC322  \n",
       "2       COM3     1150.0   MFTRC322  \n",
       "\n",
       "[3 rows x 22 columns]"
      ]
     },
     "execution_count": 112,
     "metadata": {},
     "output_type": "execute_result"
    }
   ],
   "source": [
    "data.head(3)"
   ]
  },
  {
   "cell_type": "code",
   "execution_count": 113,
   "metadata": {},
   "outputs": [
    {
     "data": {
      "image/png": "[encoded data removed]",
      "text/plain": [
       "<Figure size 1440x432 with 1 Axes>"
      ]
     },
     "metadata": {
      "needs_background": "light"
     },
     "output_type": "display_data"
    }
   ],
   "source": [
    "#Variable2:\n",
    "plt.figure(figsize=[20,6])\n",
    "sns.countplot(train.Variable2)\n",
    "plt.show()"
   ]
  },
  {
   "cell_type": "code",
   "execution_count": 15,
   "metadata": {},
   "outputs": [
    {
     "data": {
      "image/png": "[encoded data removed]",
      "text/plain": [
       "<Figure size 720x360 with 1 Axes>"
      ]
     },
     "metadata": {
      "needs_background": "light"
     },
     "output_type": "display_data"
    }
   ],
   "source": [
    "#Variable3:\n",
    "plt.figure(figsize=[10,5])\n",
    "sns.countplot(train.Variable3)\n",
    "plt.show()"
   ]
  },
  {
   "cell_type": "code",
   "execution_count": 16,
   "metadata": {},
   "outputs": [
    {
     "data": {
      "image/png": "[encoded data removed]",
      "text/plain": [
       "<Figure size 2016x720 with 1 Axes>"
      ]
     },
     "metadata": {
      "needs_background": "light"
     },
     "output_type": "display_data"
    }
   ],
   "source": [
    "#Variable4:\n",
    "plt.figure(figsize=[28,10])\n",
    "sns.countplot(train.Variable4)\n",
    "plt.show()"
   ]
  },
  {
   "cell_type": "code",
   "execution_count": 17,
   "metadata": {},
   "outputs": [
    {
     "data": {
      "image/png": "[encoded data removed]",
      "text/plain": [
       "<Figure size 1008x432 with 1 Axes>"
      ]
     },
     "metadata": {
      "needs_background": "light"
     },
     "output_type": "display_data"
    }
   ],
   "source": [
    "#Variable5:\n",
    "plt.figure(figsize=[14,6])\n",
    "sns.countplot(train.Variable5)\n",
    "plt.show()"
   ]
  },
  {
   "cell_type": "code",
   "execution_count": 18,
   "metadata": {},
   "outputs": [
    {
     "data": {
      "text/plain": [
       "270"
      ]
     },
     "execution_count": 18,
     "metadata": {},
     "output_type": "execute_result"
    }
   ],
   "source": [
    "train.Variable9.value_counts().count() #there are 270 different categories are present in Variable9"
   ]
  },
  {
   "cell_type": "code",
   "execution_count": 19,
   "metadata": {},
   "outputs": [
    {
     "data": {
      "image/png": "[encoded data removed]",
      "text/plain": [
       "<Figure size 432x288 with 1 Axes>"
      ]
     },
     "metadata": {
      "needs_background": "light"
     },
     "output_type": "display_data"
    }
   ],
   "source": [
    "#Variable10:\n",
    "plt.figure(figsize=[6,4])\n",
    "sns.countplot(train.Variable10)\n",
    "plt.show()"
   ]
  },
  {
   "cell_type": "code",
   "execution_count": 20,
   "metadata": {},
   "outputs": [
    {
     "data": {
      "image/png": "[encoded data removed]",
      "text/plain": [
       "<Figure size 432x288 with 1 Axes>"
      ]
     },
     "metadata": {
      "needs_background": "light"
     },
     "output_type": "display_data"
    }
   ],
   "source": [
    "#Variable11:\n",
    "plt.figure(figsize=[6,4])\n",
    "sns.countplot(train.Variable11)\n",
    "plt.show()"
   ]
  },
  {
   "cell_type": "code",
   "execution_count": 21,
   "metadata": {},
   "outputs": [
    {
     "data": {
      "text/plain": [
       "24"
      ]
     },
     "execution_count": 21,
     "metadata": {},
     "output_type": "execute_result"
    }
   ],
   "source": [
    "train.Variable13.value_counts().count() #there are 24 different categories are present in Variable13"
   ]
  },
  {
   "cell_type": "code",
   "execution_count": 22,
   "metadata": {},
   "outputs": [
    {
     "data": {
      "image/png": "[encoded data removed]",
      "text/plain": [
       "<Figure size 1584x432 with 1 Axes>"
      ]
     },
     "metadata": {
      "needs_background": "light"
     },
     "output_type": "display_data"
    }
   ],
   "source": [
    "#Variable13:\n",
    "plt.figure(figsize=[22,6])\n",
    "sns.countplot(train.Variable13)\n",
    "plt.show()"
   ]
  },
  {
   "cell_type": "code",
   "execution_count": 23,
   "metadata": {},
   "outputs": [
    {
     "data": {
      "image/png": "[encoded data removed]",
      "text/plain": [
       "<Figure size 720x360 with 1 Axes>"
      ]
     },
     "metadata": {
      "needs_background": "light"
     },
     "output_type": "display_data"
    }
   ],
   "source": [
    "#Variable14:\n",
    "plt.figure(figsize=[10,5])\n",
    "sns.countplot(train.Variable14)\n",
    "plt.show()"
   ]
  },
  {
   "cell_type": "code",
   "execution_count": 24,
   "metadata": {},
   "outputs": [
    {
     "data": {
      "image/png": "[encoded data removed]",
      "text/plain": [
       "<Figure size 720x360 with 1 Axes>"
      ]
     },
     "metadata": {
      "needs_background": "light"
     },
     "output_type": "display_data"
    }
   ],
   "source": [
    "#Variable15\n",
    "plt.figure(figsize=[10,5])\n",
    "sns.countplot(train.Variable15)\n",
    "plt.show()"
   ]
  },
  {
   "cell_type": "code",
   "execution_count": 25,
   "metadata": {},
   "outputs": [
    {
     "data": {
      "text/plain": [
       "17"
      ]
     },
     "execution_count": 25,
     "metadata": {},
     "output_type": "execute_result"
    }
   ],
   "source": [
    "train.Variable17.value_counts().count() #there are 17 different categories are present in Variable13"
   ]
  },
  {
   "cell_type": "code",
   "execution_count": 26,
   "metadata": {},
   "outputs": [
    {
     "data": {
      "image/png": "[encoded data removed]",
      "text/plain": [
       "<Figure size 1584x432 with 1 Axes>"
      ]
     },
     "metadata": {
      "needs_background": "light"
     },
     "output_type": "display_data"
    }
   ],
   "source": [
    "plt.figure(figsize=[22,6])\n",
    "sns.countplot(train.Variable17)\n",
    "plt.show()"
   ]
  },
  {
   "cell_type": "code",
   "execution_count": 27,
   "metadata": {},
   "outputs": [
    {
     "data": {
      "text/plain": [
       "540"
      ]
     },
     "execution_count": 27,
     "metadata": {},
     "output_type": "execute_result"
    }
   ],
   "source": [
    "train.Variable19.value_counts().count() #there are 540 different categories are present in Variable19"
   ]
  },
  {
   "cell_type": "code",
   "execution_count": 28,
   "metadata": {},
   "outputs": [
    {
     "data": {
      "text/plain": [
       "16"
      ]
     },
     "execution_count": 28,
     "metadata": {},
     "output_type": "execute_result"
    }
   ],
   "source": [
    "train.Variable22.value_counts().count() #there are 16 different categories are present in Variable22"
   ]
  },
  {
   "cell_type": "code",
   "execution_count": 29,
   "metadata": {},
   "outputs": [
    {
     "data": {
      "image/png": "[encoded data removed]",
      "text/plain": [
       "<Figure size 1872x576 with 1 Axes>"
      ]
     },
     "metadata": {
      "needs_background": "light"
     },
     "output_type": "display_data"
    }
   ],
   "source": [
    "plt.figure(figsize=[26,8])\n",
    "sns.countplot(train.Variable22)\n",
    "plt.show()"
   ]
  },
  {
   "cell_type": "code",
   "execution_count": 30,
   "metadata": {},
   "outputs": [
    {
     "data": {
      "text/plain": [
       "<matplotlib.axes._subplots.AxesSubplot at 0x1d4d91c4898>"
      ]
     },
     "execution_count": 30,
     "metadata": {},
     "output_type": "execute_result"
    },
    {
     "data": {
      "image/png": "[encoded data removed]",
      "text/plain": [
       "<Figure size 432x288 with 1 Axes>"
      ]
     },
     "metadata": {
      "needs_background": "light"
     },
     "output_type": "display_data"
    }
   ],
   "source": [
    "#Variable 24\n",
    "sns.countplot(train.Variable24)"
   ]
  },
  {
   "cell_type": "code",
   "execution_count": 31,
   "metadata": {},
   "outputs": [
    {
     "data": {
      "image/png": "[encoded data removed]",
      "text/plain": [
       "<Figure size 432x288 with 1 Axes>"
      ]
     },
     "metadata": {
      "needs_background": "light"
     },
     "output_type": "display_data"
    }
   ],
   "source": [
    "plt.figure(figsize=[6,4])\n",
    "sns.countplot(train.Variable26)\n",
    "plt.show()"
   ]
  },
  {
   "cell_type": "code",
   "execution_count": 32,
   "metadata": {},
   "outputs": [
    {
     "data": {
      "text/plain": [
       "63"
      ]
     },
     "execution_count": 32,
     "metadata": {},
     "output_type": "execute_result"
    }
   ],
   "source": [
    "train.Variable28.value_counts().count() #there are 63 different categories are present in Variable28"
   ]
  },
  {
   "cell_type": "code",
   "execution_count": 33,
   "metadata": {},
   "outputs": [
    {
     "data": {
      "image/png": "[encoded data removed]",
      "text/plain": [
       "<Figure size 576x360 with 1 Axes>"
      ]
     },
     "metadata": {
      "needs_background": "light"
     },
     "output_type": "display_data"
    }
   ],
   "source": [
    "#Distribution of Target Feature\n",
    "plt.figure(figsize=[8,5])\n",
    "sns.countplot(train.Target)\n",
    "plt.show()"
   ]
  },
  {
   "cell_type": "markdown",
   "metadata": {},
   "source": [
    "## Missing value Treatment"
   ]
  },
  {
   "cell_type": "code",
   "execution_count": 114,
   "metadata": {},
   "outputs": [],
   "source": [
    "#Duplicating the dataframes inorder to preserve the data in main datasets\n",
    "df = data.copy()"
   ]
  },
  {
   "cell_type": "code",
   "execution_count": 115,
   "metadata": {},
   "outputs": [],
   "source": [
    "#imputing missing values using simple imputer library\n",
    "from sklearn.impute import SimpleImputer\n",
    "imputer1 = SimpleImputer(missing_values=np.nan, strategy='most_frequent',copy=True)\n",
    "imputer2 = SimpleImputer(missing_values=np.nan, strategy='median',copy=True)\n",
    "\n",
    "df[['Variable6','Variable18']] = imputer1.fit_transform(df[['Variable6','Variable18']])\n",
    "df[['Variable7','Variable12','Variable27']] = imputer2.fit_transform(df[['Variable7','Variable12','Variable27']])"
   ]
  },
  {
   "cell_type": "code",
   "execution_count": 116,
   "metadata": {},
   "outputs": [
    {
     "name": "stdout",
     "output_type": "stream",
     "text": [
      "Missing value counts in our data:: \n",
      "Variable2     0\n",
      "Variable3     0\n",
      "Variable4     0\n",
      "Variable5     0\n",
      "Variable6     0\n",
      "Variable7     0\n",
      "Variable8     0\n",
      "Variable9     0\n",
      "Variable10    0\n",
      "Variable11    0\n",
      "Variable12    0\n",
      "Variable13    0\n",
      "Variable14    0\n",
      "Variable15    0\n",
      "Variable17    0\n",
      "Variable18    0\n",
      "Variable19    0\n",
      "Variable22    0\n",
      "Variable24    0\n",
      "Variable26    0\n",
      "Variable27    0\n",
      "Variable28    0\n",
      "dtype: int64\n"
     ]
    }
   ],
   "source": [
    "print('Missing value counts in our data:: \\n{}'.format(pd.isnull(df).sum()))"
   ]
  },
  {
   "cell_type": "markdown",
   "metadata": {},
   "source": [
    "Now, there are no missing values are present in our datasets as all are imputed."
   ]
  },
  {
   "cell_type": "code",
   "execution_count": 117,
   "metadata": {
    "scrolled": false
   },
   "outputs": [
    {
     "data": {
      "image/png": "[encoded data removed]",
      "text/plain": [
       "<Figure size 576x288 with 1 Axes>"
      ]
     },
     "metadata": {
      "needs_background": "light"
     },
     "output_type": "display_data"
    },
    {
     "data": {
      "image/png": "[encoded data removed]",
      "text/plain": [
       "<Figure size 432x288 with 1 Axes>"
      ]
     },
     "metadata": {
      "needs_background": "light"
     },
     "output_type": "display_data"
    }
   ],
   "source": [
    "#Variable7 distribution\n",
    "plt.figure(figsize=[8,4])\n",
    "sns.distplot(df.Variable7,kde=True)\n",
    "plt.show()\n",
    "sns.boxplot(df.Variable7)\n",
    "plt.show()"
   ]
  },
  {
   "cell_type": "code",
   "execution_count": 118,
   "metadata": {},
   "outputs": [
    {
     "data": {
      "image/png": "[encoded data removed]",
      "text/plain": [
       "<Figure size 576x288 with 1 Axes>"
      ]
     },
     "metadata": {
      "needs_background": "light"
     },
     "output_type": "display_data"
    }
   ],
   "source": [
    "plt.figure(figsize=[8,4])\n",
    "sns.distplot(df.Variable12,kde=True)\n",
    "plt.show()"
   ]
  },
  {
   "cell_type": "code",
   "execution_count": 119,
   "metadata": {},
   "outputs": [
    {
     "data": {
      "image/png": "[encoded data removed]",
      "text/plain": [
       "<Figure size 576x288 with 1 Axes>"
      ]
     },
     "metadata": {
      "needs_background": "light"
     },
     "output_type": "display_data"
    }
   ],
   "source": [
    "plt.figure(figsize=[8,4])\n",
    "sns.distplot(df.Variable27,kde=True)\n",
    "plt.show()"
   ]
  },
  {
   "cell_type": "code",
   "execution_count": 120,
   "metadata": {},
   "outputs": [
    {
     "name": "stdout",
     "output_type": "stream",
     "text": [
      "13961\n",
      "414\n",
      "762\n"
     ]
    }
   ],
   "source": [
    "#since there are more levels in variables 7,12,27 we can consider them as continuous.\n",
    "print(df.Variable7.value_counts().count())\n",
    "print(df.Variable12.value_counts().count())\n",
    "print(df.Variable27.value_counts().count())"
   ]
  },
  {
   "cell_type": "markdown",
   "metadata": {},
   "source": [
    "### Reducing categorical levels"
   ]
  },
  {
   "cell_type": "markdown",
   "metadata": {},
   "source": [
    "In univariate analysis, we found that some of the variables are having more categories in it.. so we should ave to reduce the no. of levels by equating the categories which are less than threshold level to 'others'"
   ]
  },
  {
   "cell_type": "code",
   "execution_count": 121,
   "metadata": {},
   "outputs": [],
   "source": [
    "df1 = df.copy()"
   ]
  },
  {
   "cell_type": "code",
   "execution_count": 122,
   "metadata": {},
   "outputs": [
    {
     "data": {
      "text/plain": [
       "Jan    44717\n",
       "May    44575\n",
       "Feb    44460\n",
       "Apr    39042\n",
       "Mar    35688\n",
       "Oct    25683\n",
       "Sep    24067\n",
       "Dec    22039\n",
       "Aug    21635\n",
       "Jul    20838\n",
       "Jun    20618\n",
       "Nov    19546\n",
       "Name: Variable5, dtype: int64"
      ]
     },
     "execution_count": 122,
     "metadata": {},
     "output_type": "execute_result"
    }
   ],
   "source": [
    "#extrating month:\n",
    "import re\n",
    "\n",
    "def get_month(x):\n",
    "    month = re.findall(r'\\w+',x)[0]\n",
    "    return month\n",
    "\n",
    "df1['Variable5'] = df1['Variable5'].apply(get_month)\n",
    "df1.Variable5.value_counts()"
   ]
  },
  {
   "cell_type": "code",
   "execution_count": 123,
   "metadata": {},
   "outputs": [],
   "source": [
    "#Variable 4\n",
    "threshold = 1000 #whatever value that makes sense to you\n",
    "l = []\n",
    "\n",
    "for i in list(df1['Variable4'].unique()):\n",
    "     if len(df1.loc[df1['Variable4'] == i]) < threshold:\n",
    "            l.append(i) \n",
    "\n",
    "df1['Variable4'] =  df1['Variable4'].replace(l,'others')"
   ]
  },
  {
   "cell_type": "code",
   "execution_count": 124,
   "metadata": {},
   "outputs": [],
   "source": [
    "#Variable 8\n",
    "threshold = 5000\n",
    "l = []\n",
    "\n",
    "for i in list(df1['Variable8'].unique()):\n",
    "     if len(df1.loc[df1['Variable8'] == i]) < threshold:\n",
    "            l.append(i)      \n",
    "\n",
    "df1['Variable8'] =  df1['Variable8'].replace(l,'others')"
   ]
  },
  {
   "cell_type": "code",
   "execution_count": 125,
   "metadata": {},
   "outputs": [],
   "source": [
    "#Variable 9\n",
    "threshold = 900\n",
    "l = []\n",
    "\n",
    "for i in list(df1['Variable9'].unique()):\n",
    "     if len(df1.loc[df1['Variable9'] == i]) < threshold:\n",
    "            l.append(i)      \n",
    "\n",
    "df1['Variable9'] =  df1['Variable9'].replace(l,'others')"
   ]
  },
  {
   "cell_type": "code",
   "execution_count": 126,
   "metadata": {},
   "outputs": [],
   "source": [
    "#Variable 13\n",
    "threshold = 9000\n",
    "l = []\n",
    "\n",
    "for i in list(df1['Variable13'].unique()):\n",
    "     if len(df1.loc[df1['Variable13'] == i]) < threshold:\n",
    "            l.append(i)      \n",
    "\n",
    "df1['Variable13'] =  df1['Variable13'].replace(l,'others')"
   ]
  },
  {
   "cell_type": "code",
   "execution_count": 127,
   "metadata": {},
   "outputs": [],
   "source": [
    "#Variable 17\n",
    "threshold = 10000\n",
    "l = []\n",
    "\n",
    "for i in list(df1['Variable17'].unique()):\n",
    "     if len(df1.loc[df1['Variable17'] == i]) < threshold:\n",
    "            l.append(i)      \n",
    "\n",
    "df1['Variable17'] =  df1['Variable17'].replace(l,'others')"
   ]
  },
  {
   "cell_type": "code",
   "execution_count": 128,
   "metadata": {},
   "outputs": [],
   "source": [
    "#Variable 19\n",
    "threshold = 700\n",
    "l = []\n",
    "\n",
    "for i in list(df1['Variable19'].unique()):\n",
    "     if len(df1.loc[df1['Variable19'] == i]) < threshold:\n",
    "            l.append(i)      \n",
    "\n",
    "df1['Variable19'] =  df1['Variable19'].replace(l,'others')"
   ]
  },
  {
   "cell_type": "code",
   "execution_count": 129,
   "metadata": {},
   "outputs": [],
   "source": [
    "#Variable 22\n",
    "threshold = 10000\n",
    "l = []\n",
    "\n",
    "for i in list(df1['Variable22'].unique()):\n",
    "     if len(df1.loc[df1['Variable22'] == i]) < threshold:\n",
    "            l.append(i)      \n",
    "\n",
    "df1['Variable22'] =  df1['Variable22'].replace(l,'others')"
   ]
  },
  {
   "cell_type": "code",
   "execution_count": 130,
   "metadata": {},
   "outputs": [],
   "source": [
    "#Variable 28\n",
    "threshold = 2000\n",
    "l = []\n",
    "\n",
    "for i in list(df1['Variable28'].unique()):\n",
    "     if len(df1.loc[df1['Variable28'] == i]) < threshold:\n",
    "            l.append(i)      \n",
    "\n",
    "df1['Variable28'] =  df1['Variable28'].replace(l,'others')"
   ]
  },
  {
   "cell_type": "code",
   "execution_count": 219,
   "metadata": {},
   "outputs": [
    {
     "data": {
      "image/png": "[encoded data removed]",
      "text/plain": [
       "<Figure size 720x360 with 1 Axes>"
      ]
     },
     "metadata": {
      "needs_background": "light"
     },
     "output_type": "display_data"
    },
    {
     "data": {
      "image/png": "[encoded data removed]",
      "text/plain": [
       "<Figure size 720x360 with 1 Axes>"
      ]
     },
     "metadata": {
      "needs_background": "light"
     },
     "output_type": "display_data"
    }
   ],
   "source": [
    "#Variable28 distribution before reducing levels\n",
    "plt.figure(figsize=[10,5])\n",
    "sns.countplot(df['Variable28'])\n",
    "plt.show()\n",
    "#Variable28 didtribution after:\n",
    "plt.figure(figsize=[10,5])\n",
    "sns.countplot(df1['Variable28'])\n",
    "plt.show()"
   ]
  },
  {
   "cell_type": "markdown",
   "metadata": {},
   "source": [
    "we can observe above that the number of levels in variable28 are significantly reduced from 63 to 8 levels(mapping low frequency levels with others)"
   ]
  },
  {
   "cell_type": "markdown",
   "metadata": {},
   "source": [
    "### Feature Encoding"
   ]
  },
  {
   "cell_type": "code",
   "execution_count": 132,
   "metadata": {},
   "outputs": [
    {
     "name": "stdout",
     "output_type": "stream",
     "text": [
      "['Variable2', 'Variable3', 'Variable4', 'Variable5', 'Variable6', 'Variable8', 'Variable9', 'Variable10', 'Variable11', 'Variable13', 'Variable14', 'Variable15', 'Variable17', 'Variable18', 'Variable19', 'Variable22', 'Variable24', 'Variable26', 'Variable28']\n"
     ]
    }
   ],
   "source": [
    "#getting a list of categorical variables\n",
    "a = ['Variable7','Variable12','Variable27'] #considering continous since levels are high\n",
    "cat = []\n",
    "\n",
    "for i in list(df1.columns):\n",
    "    if i not in a:\n",
    "        cat.append(i)\n",
    "print(cat)"
   ]
  },
  {
   "cell_type": "code",
   "execution_count": 133,
   "metadata": {},
   "outputs": [
    {
     "data": {
      "text/html": [
       "<div>\n",
       "<style scoped>\n",
       "    .dataframe tbody tr th:only-of-type {\n",
       "        vertical-align: middle;\n",
       "    }\n",
       "\n",
       "    .dataframe tbody tr th {\n",
       "        vertical-align: top;\n",
       "    }\n",
       "\n",
       "    .dataframe thead th {\n",
       "        text-align: right;\n",
       "    }\n",
       "</style>\n",
       "<table border=\"1\" class=\"dataframe\">\n",
       "  <thead>\n",
       "    <tr style=\"text-align: right;\">\n",
       "      <th></th>\n",
       "      <th>Variable7</th>\n",
       "      <th>Variable12</th>\n",
       "      <th>Variable27</th>\n",
       "      <th>Variable2_ARO-1926</th>\n",
       "      <th>Variable2_ARO-2179</th>\n",
       "      <th>Variable2_ARO-2201</th>\n",
       "      <th>Variable2_ARO-2441</th>\n",
       "      <th>Variable2_ARO-2734</th>\n",
       "      <th>Variable2_ARO-2812</th>\n",
       "      <th>Variable2_ARO-2917</th>\n",
       "      <th>...</th>\n",
       "      <th>Variable24_Y</th>\n",
       "      <th>Variable26_COM2</th>\n",
       "      <th>Variable26_COM3</th>\n",
       "      <th>Variable28_MDTC240</th>\n",
       "      <th>Variable28_MFTRC322</th>\n",
       "      <th>Variable28_MMXLC411</th>\n",
       "      <th>Variable28_MMXTC301</th>\n",
       "      <th>Variable28_MOTHC256</th>\n",
       "      <th>Variable28_MPUPC287</th>\n",
       "      <th>Variable28_others</th>\n",
       "    </tr>\n",
       "  </thead>\n",
       "  <tbody>\n",
       "    <tr>\n",
       "      <th>0</th>\n",
       "      <td>9.314022e+09</td>\n",
       "      <td>180.0</td>\n",
       "      <td>1150.0</td>\n",
       "      <td>0</td>\n",
       "      <td>0</td>\n",
       "      <td>0</td>\n",
       "      <td>0</td>\n",
       "      <td>0</td>\n",
       "      <td>0</td>\n",
       "      <td>0</td>\n",
       "      <td>...</td>\n",
       "      <td>0</td>\n",
       "      <td>1</td>\n",
       "      <td>0</td>\n",
       "      <td>0</td>\n",
       "      <td>1</td>\n",
       "      <td>0</td>\n",
       "      <td>0</td>\n",
       "      <td>0</td>\n",
       "      <td>0</td>\n",
       "      <td>0</td>\n",
       "    </tr>\n",
       "    <tr>\n",
       "      <th>1</th>\n",
       "      <td>9.251002e+09</td>\n",
       "      <td>80.0</td>\n",
       "      <td>1150.0</td>\n",
       "      <td>0</td>\n",
       "      <td>0</td>\n",
       "      <td>0</td>\n",
       "      <td>0</td>\n",
       "      <td>0</td>\n",
       "      <td>0</td>\n",
       "      <td>0</td>\n",
       "      <td>...</td>\n",
       "      <td>0</td>\n",
       "      <td>0</td>\n",
       "      <td>0</td>\n",
       "      <td>0</td>\n",
       "      <td>1</td>\n",
       "      <td>0</td>\n",
       "      <td>0</td>\n",
       "      <td>0</td>\n",
       "      <td>0</td>\n",
       "      <td>0</td>\n",
       "    </tr>\n",
       "    <tr>\n",
       "      <th>2</th>\n",
       "      <td>9.451552e+09</td>\n",
       "      <td>100.0</td>\n",
       "      <td>1150.0</td>\n",
       "      <td>0</td>\n",
       "      <td>0</td>\n",
       "      <td>0</td>\n",
       "      <td>0</td>\n",
       "      <td>0</td>\n",
       "      <td>0</td>\n",
       "      <td>0</td>\n",
       "      <td>...</td>\n",
       "      <td>0</td>\n",
       "      <td>0</td>\n",
       "      <td>1</td>\n",
       "      <td>0</td>\n",
       "      <td>1</td>\n",
       "      <td>0</td>\n",
       "      <td>0</td>\n",
       "      <td>0</td>\n",
       "      <td>0</td>\n",
       "      <td>0</td>\n",
       "    </tr>\n",
       "    <tr>\n",
       "      <th>3</th>\n",
       "      <td>9.416109e+09</td>\n",
       "      <td>300.0</td>\n",
       "      <td>1000.0</td>\n",
       "      <td>0</td>\n",
       "      <td>0</td>\n",
       "      <td>0</td>\n",
       "      <td>0</td>\n",
       "      <td>0</td>\n",
       "      <td>0</td>\n",
       "      <td>0</td>\n",
       "      <td>...</td>\n",
       "      <td>0</td>\n",
       "      <td>0</td>\n",
       "      <td>0</td>\n",
       "      <td>0</td>\n",
       "      <td>1</td>\n",
       "      <td>0</td>\n",
       "      <td>0</td>\n",
       "      <td>0</td>\n",
       "      <td>0</td>\n",
       "      <td>0</td>\n",
       "    </tr>\n",
       "    <tr>\n",
       "      <th>4</th>\n",
       "      <td>9.500040e+09</td>\n",
       "      <td>100.0</td>\n",
       "      <td>1150.0</td>\n",
       "      <td>0</td>\n",
       "      <td>0</td>\n",
       "      <td>0</td>\n",
       "      <td>0</td>\n",
       "      <td>0</td>\n",
       "      <td>0</td>\n",
       "      <td>0</td>\n",
       "      <td>...</td>\n",
       "      <td>0</td>\n",
       "      <td>0</td>\n",
       "      <td>0</td>\n",
       "      <td>0</td>\n",
       "      <td>0</td>\n",
       "      <td>0</td>\n",
       "      <td>0</td>\n",
       "      <td>0</td>\n",
       "      <td>0</td>\n",
       "      <td>0</td>\n",
       "    </tr>\n",
       "  </tbody>\n",
       "</table>\n",
       "<p>5 rows × 413 columns</p>\n",
       "</div>"
      ],
      "text/plain": [
       "      Variable7  Variable12  Variable27  Variable2_ARO-1926  \\\n",
       "0  9.314022e+09       180.0      1150.0                   0   \n",
       "1  9.251002e+09        80.0      1150.0                   0   \n",
       "2  9.451552e+09       100.0      1150.0                   0   \n",
       "3  9.416109e+09       300.0      1000.0                   0   \n",
       "4  9.500040e+09       100.0      1150.0                   0   \n",
       "\n",
       "   Variable2_ARO-2179  Variable2_ARO-2201  Variable2_ARO-2441  \\\n",
       "0                   0                   0                   0   \n",
       "1                   0                   0                   0   \n",
       "2                   0                   0                   0   \n",
       "3                   0                   0                   0   \n",
       "4                   0                   0                   0   \n",
       "\n",
       "   Variable2_ARO-2734  Variable2_ARO-2812  Variable2_ARO-2917  \\\n",
       "0                   0                   0                   0   \n",
       "1                   0                   0                   0   \n",
       "2                   0                   0                   0   \n",
       "3                   0                   0                   0   \n",
       "4                   0                   0                   0   \n",
       "\n",
       "         ...          Variable24_Y  Variable26_COM2  Variable26_COM3  \\\n",
       "0        ...                     0                1                0   \n",
       "1        ...                     0                0                0   \n",
       "2        ...                     0                0                1   \n",
       "3        ...                     0                0                0   \n",
       "4        ...                     0                0                0   \n",
       "\n",
       "   Variable28_MDTC240  Variable28_MFTRC322  Variable28_MMXLC411  \\\n",
       "0                   0                    1                    0   \n",
       "1                   0                    1                    0   \n",
       "2                   0                    1                    0   \n",
       "3                   0                    1                    0   \n",
       "4                   0                    0                    0   \n",
       "\n",
       "   Variable28_MMXTC301  Variable28_MOTHC256  Variable28_MPUPC287  \\\n",
       "0                    0                    0                    0   \n",
       "1                    0                    0                    0   \n",
       "2                    0                    0                    0   \n",
       "3                    0                    0                    0   \n",
       "4                    0                    0                    0   \n",
       "\n",
       "   Variable28_others  \n",
       "0                  0  \n",
       "1                  0  \n",
       "2                  0  \n",
       "3                  0  \n",
       "4                  0  \n",
       "\n",
       "[5 rows x 413 columns]"
      ]
     },
     "execution_count": 133,
     "metadata": {},
     "output_type": "execute_result"
    }
   ],
   "source": [
    "#using One hot encoding for all Nominal categorical variables\n",
    "df_oh = pd.get_dummies(df1, columns = cat, drop_first=True)\n",
    "df_oh.head()"
   ]
  },
  {
   "cell_type": "markdown",
   "metadata": {},
   "source": [
    "### Chi-square test of Independence "
   ]
  },
  {
   "cell_type": "code",
   "execution_count": 134,
   "metadata": {},
   "outputs": [
    {
     "data": {
      "text/plain": [
       "(199609, 410)"
      ]
     },
     "execution_count": 134,
     "metadata": {},
     "output_type": "execute_result"
    }
   ],
   "source": [
    "df_cat = df_oh[:len(train)].drop(['Variable7','Variable12','Variable27'],axis = 1)\n",
    "cat_oh = list(df_cat.columns)\n",
    "df_cat.shape"
   ]
  },
  {
   "cell_type": "code",
   "execution_count": 135,
   "metadata": {},
   "outputs": [],
   "source": [
    "#performing chi_square test to know the significant features\n",
    "from scipy.stats import chisquare,chi2_contingency\n",
    "cat_col = []\n",
    "chi_pvalue = []\n",
    "chi_name = []\n",
    "\n",
    "def chi_sq(i):\n",
    "    ct = pd.crosstab(df_cat[i],train['Target'])\n",
    "    chi_pvalue.append(chi2_contingency(ct)[1])\n",
    "    chi_name.append(i)\n",
    "\n",
    "for i in cat_oh:\n",
    "    chi_sq(i)\n",
    "\n",
    "chi_data = pd.DataFrame()\n",
    "chi_data['Pvalue'] = chi_pvalue\n",
    "chi_data.index = chi_name"
   ]
  },
  {
   "cell_type": "code",
   "execution_count": 136,
   "metadata": {},
   "outputs": [
    {
     "data": {
      "image/png": "[encoded data removed]",
      "text/plain": [
       "<Figure size 864x576 with 1 Axes>"
      ]
     },
     "metadata": {
      "needs_background": "light"
     },
     "output_type": "display_data"
    },
    {
     "name": "stdout",
     "output_type": "stream",
     "text": [
      "There are 100 insignificant features which are having P-value > 0.05\n"
     ]
    }
   ],
   "source": [
    "plt.figure(figsize=[12,8])\n",
    "plt.title('P-Values of Chisquare test with ''Target'' as Target Categorical Attribute',fontsize=16)\n",
    "cd = chi_data[chi_data['Pvalue'] > 0.05].Pvalue.sort_values()\n",
    "x = cd.plot(kind='barh')\n",
    "x.set_xlabel('P-Values',fontsize=15)\n",
    "x.set_ylabel('Independent Categorical Attributes',fontsize=15)\n",
    "plt.show()\n",
    "print('There are {} insignificant features which are having P-value > 0.05'.format(len(cd)))"
   ]
  },
  {
   "cell_type": "code",
   "execution_count": 137,
   "metadata": {},
   "outputs": [],
   "source": [
    "#filtering the list of only significant features\n",
    "insig_features = list(cd.index)\n",
    "significant = []\n",
    "\n",
    "for i in df_oh.columns:\n",
    "    if i not in insig_features:\n",
    "        significant.append(i)"
   ]
  },
  {
   "cell_type": "markdown",
   "metadata": {},
   "source": [
    "### Scaling data "
   ]
  },
  {
   "cell_type": "code",
   "execution_count": 138,
   "metadata": {},
   "outputs": [],
   "source": [
    "from sklearn.preprocessing import MinMaxScaler"
   ]
  },
  {
   "cell_type": "code",
   "execution_count": 220,
   "metadata": {},
   "outputs": [
    {
     "data": {
      "text/plain": [
       "(362908, 313)"
      ]
     },
     "execution_count": 220,
     "metadata": {},
     "output_type": "execute_result"
    }
   ],
   "source": [
    "df_oh[significant].shape"
   ]
  },
  {
   "cell_type": "code",
   "execution_count": 140,
   "metadata": {},
   "outputs": [],
   "source": [
    "#Scaling all the features to the same scale using min max scaler:\n",
    "scaler = MinMaxScaler()\n",
    "features = df_oh[significant]\n",
    "\n",
    "df_std = scaler.fit_transform(features)\n",
    "df_std = pd.DataFrame(df_std,columns = features.columns)"
   ]
  },
  {
   "cell_type": "code",
   "execution_count": 141,
   "metadata": {},
   "outputs": [
    {
     "data": {
      "text/html": [
       "<div>\n",
       "<style scoped>\n",
       "    .dataframe tbody tr th:only-of-type {\n",
       "        vertical-align: middle;\n",
       "    }\n",
       "\n",
       "    .dataframe tbody tr th {\n",
       "        vertical-align: top;\n",
       "    }\n",
       "\n",
       "    .dataframe thead th {\n",
       "        text-align: right;\n",
       "    }\n",
       "</style>\n",
       "<table border=\"1\" class=\"dataframe\">\n",
       "  <thead>\n",
       "    <tr style=\"text-align: right;\">\n",
       "      <th></th>\n",
       "      <th>Variable7</th>\n",
       "      <th>Variable12</th>\n",
       "      <th>Variable27</th>\n",
       "      <th>Variable2_ARO-1926</th>\n",
       "      <th>Variable2_ARO-2201</th>\n",
       "      <th>Variable2_ARO-2441</th>\n",
       "      <th>Variable2_ARO-2812</th>\n",
       "      <th>Variable2_ARO-2917</th>\n",
       "      <th>Variable2_ARO-3076</th>\n",
       "      <th>Variable2_ARO-3608</th>\n",
       "      <th>...</th>\n",
       "      <th>Variable22_others</th>\n",
       "      <th>Variable24_Y</th>\n",
       "      <th>Variable26_COM2</th>\n",
       "      <th>Variable26_COM3</th>\n",
       "      <th>Variable28_MFTRC322</th>\n",
       "      <th>Variable28_MMXLC411</th>\n",
       "      <th>Variable28_MMXTC301</th>\n",
       "      <th>Variable28_MOTHC256</th>\n",
       "      <th>Variable28_MPUPC287</th>\n",
       "      <th>Variable28_others</th>\n",
       "    </tr>\n",
       "  </thead>\n",
       "  <tbody>\n",
       "    <tr>\n",
       "      <th>0</th>\n",
       "      <td>0.273686</td>\n",
       "      <td>0.275809</td>\n",
       "      <td>0.383128</td>\n",
       "      <td>0.0</td>\n",
       "      <td>0.0</td>\n",
       "      <td>0.0</td>\n",
       "      <td>0.0</td>\n",
       "      <td>0.0</td>\n",
       "      <td>0.0</td>\n",
       "      <td>0.0</td>\n",
       "      <td>...</td>\n",
       "      <td>0.0</td>\n",
       "      <td>0.0</td>\n",
       "      <td>1.0</td>\n",
       "      <td>0.0</td>\n",
       "      <td>1.0</td>\n",
       "      <td>0.0</td>\n",
       "      <td>0.0</td>\n",
       "      <td>0.0</td>\n",
       "      <td>0.0</td>\n",
       "      <td>0.0</td>\n",
       "    </tr>\n",
       "    <tr>\n",
       "      <th>1</th>\n",
       "      <td>0.189147</td>\n",
       "      <td>0.121726</td>\n",
       "      <td>0.383128</td>\n",
       "      <td>0.0</td>\n",
       "      <td>0.0</td>\n",
       "      <td>0.0</td>\n",
       "      <td>0.0</td>\n",
       "      <td>0.0</td>\n",
       "      <td>0.0</td>\n",
       "      <td>0.0</td>\n",
       "      <td>...</td>\n",
       "      <td>0.0</td>\n",
       "      <td>0.0</td>\n",
       "      <td>0.0</td>\n",
       "      <td>0.0</td>\n",
       "      <td>1.0</td>\n",
       "      <td>0.0</td>\n",
       "      <td>0.0</td>\n",
       "      <td>0.0</td>\n",
       "      <td>0.0</td>\n",
       "      <td>0.0</td>\n",
       "    </tr>\n",
       "    <tr>\n",
       "      <th>2</th>\n",
       "      <td>0.458177</td>\n",
       "      <td>0.152542</td>\n",
       "      <td>0.383128</td>\n",
       "      <td>0.0</td>\n",
       "      <td>0.0</td>\n",
       "      <td>0.0</td>\n",
       "      <td>0.0</td>\n",
       "      <td>0.0</td>\n",
       "      <td>0.0</td>\n",
       "      <td>0.0</td>\n",
       "      <td>...</td>\n",
       "      <td>0.0</td>\n",
       "      <td>0.0</td>\n",
       "      <td>0.0</td>\n",
       "      <td>1.0</td>\n",
       "      <td>1.0</td>\n",
       "      <td>0.0</td>\n",
       "      <td>0.0</td>\n",
       "      <td>0.0</td>\n",
       "      <td>0.0</td>\n",
       "      <td>0.0</td>\n",
       "    </tr>\n",
       "  </tbody>\n",
       "</table>\n",
       "<p>3 rows × 313 columns</p>\n",
       "</div>"
      ],
      "text/plain": [
       "   Variable7  Variable12  Variable27  Variable2_ARO-1926  Variable2_ARO-2201  \\\n",
       "0   0.273686    0.275809    0.383128                 0.0                 0.0   \n",
       "1   0.189147    0.121726    0.383128                 0.0                 0.0   \n",
       "2   0.458177    0.152542    0.383128                 0.0                 0.0   \n",
       "\n",
       "   Variable2_ARO-2441  Variable2_ARO-2812  Variable2_ARO-2917  \\\n",
       "0                 0.0                 0.0                 0.0   \n",
       "1                 0.0                 0.0                 0.0   \n",
       "2                 0.0                 0.0                 0.0   \n",
       "\n",
       "   Variable2_ARO-3076  Variable2_ARO-3608        ...          \\\n",
       "0                 0.0                 0.0        ...           \n",
       "1                 0.0                 0.0        ...           \n",
       "2                 0.0                 0.0        ...           \n",
       "\n",
       "   Variable22_others  Variable24_Y  Variable26_COM2  Variable26_COM3  \\\n",
       "0                0.0           0.0              1.0              0.0   \n",
       "1                0.0           0.0              0.0              0.0   \n",
       "2                0.0           0.0              0.0              1.0   \n",
       "\n",
       "   Variable28_MFTRC322  Variable28_MMXLC411  Variable28_MMXTC301  \\\n",
       "0                  1.0                  0.0                  0.0   \n",
       "1                  1.0                  0.0                  0.0   \n",
       "2                  1.0                  0.0                  0.0   \n",
       "\n",
       "   Variable28_MOTHC256  Variable28_MPUPC287  Variable28_others  \n",
       "0                  0.0                  0.0                0.0  \n",
       "1                  0.0                  0.0                0.0  \n",
       "2                  0.0                  0.0                0.0  \n",
       "\n",
       "[3 rows x 313 columns]"
      ]
     },
     "execution_count": 141,
     "metadata": {},
     "output_type": "execute_result"
    }
   ],
   "source": [
    "df_std.head(3)"
   ]
  },
  {
   "cell_type": "markdown",
   "metadata": {},
   "source": [
    "## Model Building"
   ]
  },
  {
   "cell_type": "code",
   "execution_count": 143,
   "metadata": {},
   "outputs": [],
   "source": [
    "# importing classification model building libraries \n",
    "from sklearn.tree import DecisionTreeClassifier\n",
    "from sklearn.neighbors import KNeighborsClassifier\n",
    "from sklearn.naive_bayes import GaussianNB\n",
    "from sklearn.naive_bayes import MultinomialNB\n",
    "from sklearn.naive_bayes import BernoulliNB\n",
    "from sklearn.linear_model import LogisticRegression\n",
    "# Importing train-test-split and performance metrices\n",
    "from sklearn.model_selection import train_test_split\n",
    "from sklearn.metrics import accuracy_score,f1_score,recall_score,precision_score,confusion_matrix,classification_report,roc_curve, auc"
   ]
  },
  {
   "cell_type": "code",
   "execution_count": 144,
   "metadata": {},
   "outputs": [
    {
     "data": {
      "text/plain": [
       "((159687, 313), (39922, 313))"
      ]
     },
     "execution_count": 144,
     "metadata": {},
     "output_type": "execute_result"
    }
   ],
   "source": [
    "X = df_std[:len(train)] #training independent feature set\n",
    "Y = train['Target'] #training target feature set\n",
    "T1 = df_std[len(train):len(train)+len(test1)] #scaled test1 data\n",
    "T2 = df_std[len(train)+len(test1):]   #scaled test2 data\n",
    "\n",
    "# Splitting the data into train and validation sets\n",
    "xtrain, xval, ytrain, yval = train_test_split(X,Y,test_size=0.2, random_state = 25)\n",
    "xtrain.shape,xval.shape"
   ]
  },
  {
   "cell_type": "code",
   "execution_count": 147,
   "metadata": {},
   "outputs": [
    {
     "data": {
      "text/plain": [
       "((90718, 313), (72581, 313))"
      ]
     },
     "execution_count": 147,
     "metadata": {},
     "output_type": "execute_result"
    }
   ],
   "source": [
    "T1.shape,T2.shape #Dimensions of test1 and test2"
   ]
  },
  {
   "cell_type": "markdown",
   "metadata": {},
   "source": [
    "### DATA SAMPLING"
   ]
  },
  {
   "cell_type": "markdown",
   "metadata": {},
   "source": [
    "#### Downsampling"
   ]
  },
  {
   "cell_type": "code",
   "execution_count": 148,
   "metadata": {},
   "outputs": [
    {
     "data": {
      "text/plain": [
       "((27070, 314), (132617, 314))"
      ]
     },
     "execution_count": 148,
     "metadata": {},
     "output_type": "execute_result"
    }
   ],
   "source": [
    "train_df = xtrain.copy()\n",
    "train_df['Target'] = ytrain\n",
    "# Separating majority and minority classes\n",
    "majority = train_df[train_df.Target==0]\n",
    "minority = train_df[train_df.Target==1]\n",
    "minority.shape,majority.shape"
   ]
  },
  {
   "cell_type": "code",
   "execution_count": 149,
   "metadata": {},
   "outputs": [
    {
     "data": {
      "text/plain": [
       "0    40605\n",
       "1    27070\n",
       "Name: Target, dtype: int64"
      ]
     },
     "execution_count": 149,
     "metadata": {},
     "output_type": "execute_result"
    }
   ],
   "source": [
    "from sklearn.utils import resample\n",
    "\n",
    "n_samples = int(len(minority)*1.5)\n",
    "\n",
    "majority_ds = resample(majority, replace=False, n_samples = n_samples, random_state=25)\n",
    " \n",
    "# Combine minority class with downsampled majority class\n",
    "train_ds = pd.concat([majority_ds,minority])\n",
    " \n",
    "# Display new class counts\n",
    "train_ds.Target.value_counts()"
   ]
  },
  {
   "cell_type": "code",
   "execution_count": 150,
   "metadata": {},
   "outputs": [],
   "source": [
    "xtrain_ds = train_ds.drop(['Target'],axis=1)\n",
    "ytrain_ds = train_ds['Target']"
   ]
  },
  {
   "cell_type": "markdown",
   "metadata": {},
   "source": [
    "#### 2.Upsampling "
   ]
  },
  {
   "cell_type": "code",
   "execution_count": 152,
   "metadata": {},
   "outputs": [
    {
     "name": "stdout",
     "output_type": "stream",
     "text": [
      "Before UpSampling, counts of label '1': 27070\n",
      "Before UpSampling, counts of label '0': 132617 \n",
      "\n",
      "After UpSampling, counts of label '1': 99462\n",
      "After UpSampling, counts of label '0': 132617 \n",
      "\n"
     ]
    }
   ],
   "source": [
    "from imblearn.over_sampling import SMOTE\n",
    "\n",
    "print(\"Before UpSampling, counts of label '1': {}\".format(sum(ytrain==1)))\n",
    "print(\"Before UpSampling, counts of label '0': {} \\n\".format(sum(ytrain==0)))\n",
    "\n",
    "smt = SMOTE(sampling_strategy=0.75,k_neighbors=11,random_state = 25)   #Synthetic Minority Over Sampling Technique\n",
    "xtrain_us, ytrain_us = smt.fit_sample(xtrain,ytrain)\n",
    "\n",
    "print(\"After UpSampling, counts of label '1': {}\".format(sum(ytrain_us==1)))\n",
    "print(\"After UpSampling, counts of label '0': {} \\n\".format(sum(ytrain_us==0)))"
   ]
  },
  {
   "cell_type": "markdown",
   "metadata": {},
   "source": [
    "### 1.logistic regression"
   ]
  },
  {
   "cell_type": "code",
   "execution_count": 221,
   "metadata": {},
   "outputs": [
    {
     "name": "stdout",
     "output_type": "stream",
     "text": [
      "              precision    recall  f1-score   support\n",
      "\n",
      "           0       0.90      0.96      0.93     33093\n",
      "           1       0.71      0.46      0.56      6829\n",
      "\n",
      "   micro avg       0.88      0.88      0.88     39922\n",
      "   macro avg       0.81      0.71      0.74     39922\n",
      "weighted avg       0.87      0.88      0.87     39922\n",
      "\n",
      "[[31833  1260]\n",
      " [ 3682  3147]]\n"
     ]
    }
   ],
   "source": [
    "logistic = LogisticRegression(random_state=25)\n",
    "logistic.fit(xtrain,ytrain)\n",
    "y_pred = logistic.predict(xval)\n",
    "\n",
    "print(classification_report(yval, y_pred))\n",
    "print(confusion_matrix(yval,y_pred))"
   ]
  },
  {
   "cell_type": "code",
   "execution_count": 222,
   "metadata": {},
   "outputs": [
    {
     "data": {
      "text/html": [
       "<div>\n",
       "<style scoped>\n",
       "    .dataframe tbody tr th:only-of-type {\n",
       "        vertical-align: middle;\n",
       "    }\n",
       "\n",
       "    .dataframe tbody tr th {\n",
       "        vertical-align: top;\n",
       "    }\n",
       "\n",
       "    .dataframe thead th {\n",
       "        text-align: right;\n",
       "    }\n",
       "</style>\n",
       "<table border=\"1\" class=\"dataframe\">\n",
       "  <thead>\n",
       "    <tr style=\"text-align: right;\">\n",
       "      <th></th>\n",
       "      <th>Classifier</th>\n",
       "      <th>Training Accuracy</th>\n",
       "      <th>Validation Accuracy</th>\n",
       "      <th>Recall</th>\n",
       "      <th>Precision</th>\n",
       "      <th>F1 Score</th>\n",
       "      <th>AUC</th>\n",
       "    </tr>\n",
       "  </thead>\n",
       "  <tbody>\n",
       "    <tr>\n",
       "      <th>0</th>\n",
       "      <td>Logistic</td>\n",
       "      <td>0.876277</td>\n",
       "      <td>0.876209</td>\n",
       "      <td>0.460829</td>\n",
       "      <td>0.714091</td>\n",
       "      <td>0.560164</td>\n",
       "      <td>0.711377</td>\n",
       "    </tr>\n",
       "  </tbody>\n",
       "</table>\n",
       "</div>"
      ],
      "text/plain": [
       "  Classifier  Training Accuracy  Validation Accuracy    Recall  Precision  \\\n",
       "0   Logistic           0.876277             0.876209  0.460829   0.714091   \n",
       "\n",
       "   F1 Score       AUC  \n",
       "0  0.560164  0.711377  "
      ]
     },
     "execution_count": 222,
     "metadata": {},
     "output_type": "execute_result"
    }
   ],
   "source": [
    "score = accuracy_score(yval,y_pred)\n",
    "recall = recall_score(yval,y_pred)\n",
    "precision = precision_score(yval,y_pred)\n",
    "f1score = f1_score(yval,y_pred)\n",
    "training = logistic.score(xtrain,ytrain)\n",
    "fpr,tpr, _ = roc_curve(yval, y_pred)\n",
    "roc_auc = auc(fpr,tpr)\n",
    "\n",
    "log_results = pd.DataFrame({'Classifier':['Logistic'], 'Training Accuracy':[training],\n",
    "                          'Validation Accuracy': [score],'Recall':[recall],\n",
    "                          'Precision':[precision],'F1 Score':[f1score],'AUC':[roc_auc]})\n",
    "\n",
    "log_results"
   ]
  },
  {
   "cell_type": "markdown",
   "metadata": {},
   "source": [
    "### 2.Decision Tree"
   ]
  },
  {
   "cell_type": "code",
   "execution_count": null,
   "metadata": {},
   "outputs": [],
   "source": [
    "from sklearn.model_selection import GridSearchCV\n",
    "#for decision tree: \n",
    "#parameter={'max_depth':np.arange(1,25),'criterion':['gini','entropy']}\n",
    "#gs = GridSearchCV(dt,parameter,cv=3)\n",
    "#gs.fit(xtrain,ytrain)\n",
    "#gs.best_params_"
   ]
  },
  {
   "cell_type": "code",
   "execution_count": 225,
   "metadata": {},
   "outputs": [
    {
     "name": "stdout",
     "output_type": "stream",
     "text": [
      "[[31015  2078]\n",
      " [ 2208  4621]]\n",
      "              precision    recall  f1-score   support\n",
      "\n",
      "           0       0.93      0.94      0.94     33093\n",
      "           1       0.69      0.68      0.68      6829\n",
      "\n",
      "   micro avg       0.89      0.89      0.89     39922\n",
      "   macro avg       0.81      0.81      0.81     39922\n",
      "weighted avg       0.89      0.89      0.89     39922\n",
      "\n"
     ]
    }
   ],
   "source": [
    "dt = DecisionTreeClassifier(criterion='gini',random_state=25)\n",
    "dt.fit(xtrain,ytrain)\n",
    "y_pred = dt.predict(xval)\n",
    "\n",
    "print(confusion_matrix(yval,y_pred))\n",
    "print(classification_report(yval,y_pred))"
   ]
  },
  {
   "cell_type": "code",
   "execution_count": 226,
   "metadata": {},
   "outputs": [
    {
     "data": {
      "text/html": [
       "<div>\n",
       "<style scoped>\n",
       "    .dataframe tbody tr th:only-of-type {\n",
       "        vertical-align: middle;\n",
       "    }\n",
       "\n",
       "    .dataframe tbody tr th {\n",
       "        vertical-align: top;\n",
       "    }\n",
       "\n",
       "    .dataframe thead th {\n",
       "        text-align: right;\n",
       "    }\n",
       "</style>\n",
       "<table border=\"1\" class=\"dataframe\">\n",
       "  <thead>\n",
       "    <tr style=\"text-align: right;\">\n",
       "      <th></th>\n",
       "      <th>Classifier</th>\n",
       "      <th>Training Accuracy</th>\n",
       "      <th>Validation Accuracy</th>\n",
       "      <th>Recall</th>\n",
       "      <th>Precision</th>\n",
       "      <th>F1 Score</th>\n",
       "      <th>AUC</th>\n",
       "    </tr>\n",
       "  </thead>\n",
       "  <tbody>\n",
       "    <tr>\n",
       "      <th>0</th>\n",
       "      <td>Logistic</td>\n",
       "      <td>0.876277</td>\n",
       "      <td>0.876209</td>\n",
       "      <td>0.460829</td>\n",
       "      <td>0.714091</td>\n",
       "      <td>0.560164</td>\n",
       "      <td>0.711377</td>\n",
       "    </tr>\n",
       "    <tr>\n",
       "      <th>0</th>\n",
       "      <td>Decision Tree</td>\n",
       "      <td>0.998034</td>\n",
       "      <td>0.892641</td>\n",
       "      <td>0.676673</td>\n",
       "      <td>0.689804</td>\n",
       "      <td>0.683176</td>\n",
       "      <td>0.806940</td>\n",
       "    </tr>\n",
       "  </tbody>\n",
       "</table>\n",
       "</div>"
      ],
      "text/plain": [
       "      Classifier  Training Accuracy  Validation Accuracy    Recall  Precision  \\\n",
       "0       Logistic           0.876277             0.876209  0.460829   0.714091   \n",
       "0  Decision Tree           0.998034             0.892641  0.676673   0.689804   \n",
       "\n",
       "   F1 Score       AUC  \n",
       "0  0.560164  0.711377  \n",
       "0  0.683176  0.806940  "
      ]
     },
     "execution_count": 226,
     "metadata": {},
     "output_type": "execute_result"
    }
   ],
   "source": [
    "score = accuracy_score(yval,y_pred)\n",
    "recall = recall_score(yval,y_pred)\n",
    "precision = precision_score(yval,y_pred)\n",
    "f1score = f1_score(yval,y_pred)\n",
    "training = dt.score(xtrain,ytrain)\n",
    "fpr,tpr, _ = roc_curve(yval, y_pred)\n",
    "roc_auc = auc(fpr,tpr)\n",
    "\n",
    "dt_results = pd.DataFrame({'Classifier':['Decision Tree'], 'Training Accuracy':[training],\n",
    "                          'Validation Accuracy': [score],'Recall':[recall],\n",
    "                          'Precision':[precision],'F1 Score':[f1score],'AUC':[roc_auc]})\n",
    "\n",
    "final = pd.concat([log_results,dt_results],axis=0)\n",
    "final"
   ]
  },
  {
   "cell_type": "markdown",
   "metadata": {},
   "source": [
    "### 3.Random Forest classifier"
   ]
  },
  {
   "cell_type": "code",
   "execution_count": 110,
   "metadata": {},
   "outputs": [],
   "source": [
    "from sklearn.model_selection import GridSearchCV\n",
    "#GRID SEARCH: \n",
    "#parameter={'n_estimators':np.arange(40,201)}\n",
    "#gs = GridSearchCV(rfc,parameter,cv=4,scoring='roc_auc')\n",
    "#gs.fit(xtrain,ytrain)\n",
    "#gs.best_params_"
   ]
  },
  {
   "cell_type": "code",
   "execution_count": 227,
   "metadata": {},
   "outputs": [
    {
     "name": "stdout",
     "output_type": "stream",
     "text": [
      "[[29989  3104]\n",
      " [ 1149  5680]]\n",
      "              precision    recall  f1-score   support\n",
      "\n",
      "           0       0.96      0.91      0.93     33093\n",
      "           1       0.65      0.83      0.73      6829\n",
      "\n",
      "   micro avg       0.89      0.89      0.89     39922\n",
      "   macro avg       0.80      0.87      0.83     39922\n",
      "weighted avg       0.91      0.89      0.90     39922\n",
      "\n"
     ]
    }
   ],
   "source": [
    "from sklearn.ensemble import RandomForestClassifier \n",
    "\n",
    "rfc = RandomForestClassifier(n_estimators=81,random_state=25)\n",
    "rfc.fit(xtrain_ds,ytrain_ds)\n",
    "y_pred = rfc.predict(xval)\n",
    "\n",
    "print(confusion_matrix(yval,y_pred))\n",
    "print(classification_report(yval,y_pred))"
   ]
  },
  {
   "cell_type": "code",
   "execution_count": 228,
   "metadata": {},
   "outputs": [
    {
     "data": {
      "text/html": [
       "<div>\n",
       "<style scoped>\n",
       "    .dataframe tbody tr th:only-of-type {\n",
       "        vertical-align: middle;\n",
       "    }\n",
       "\n",
       "    .dataframe tbody tr th {\n",
       "        vertical-align: top;\n",
       "    }\n",
       "\n",
       "    .dataframe thead th {\n",
       "        text-align: right;\n",
       "    }\n",
       "</style>\n",
       "<table border=\"1\" class=\"dataframe\">\n",
       "  <thead>\n",
       "    <tr style=\"text-align: right;\">\n",
       "      <th></th>\n",
       "      <th>Classifier</th>\n",
       "      <th>Training Accuracy</th>\n",
       "      <th>Validation Accuracy</th>\n",
       "      <th>Recall</th>\n",
       "      <th>Precision</th>\n",
       "      <th>F1 Score</th>\n",
       "      <th>AUC</th>\n",
       "    </tr>\n",
       "  </thead>\n",
       "  <tbody>\n",
       "    <tr>\n",
       "      <th>0</th>\n",
       "      <td>Logistic</td>\n",
       "      <td>0.876277</td>\n",
       "      <td>0.876209</td>\n",
       "      <td>0.460829</td>\n",
       "      <td>0.714091</td>\n",
       "      <td>0.560164</td>\n",
       "      <td>0.711377</td>\n",
       "    </tr>\n",
       "    <tr>\n",
       "      <th>0</th>\n",
       "      <td>Decision Tree</td>\n",
       "      <td>0.998034</td>\n",
       "      <td>0.892641</td>\n",
       "      <td>0.676673</td>\n",
       "      <td>0.689804</td>\n",
       "      <td>0.683176</td>\n",
       "      <td>0.806940</td>\n",
       "    </tr>\n",
       "    <tr>\n",
       "      <th>0</th>\n",
       "      <td>Random Forest</td>\n",
       "      <td>0.998050</td>\n",
       "      <td>0.893467</td>\n",
       "      <td>0.831747</td>\n",
       "      <td>0.646630</td>\n",
       "      <td>0.727599</td>\n",
       "      <td>0.868975</td>\n",
       "    </tr>\n",
       "  </tbody>\n",
       "</table>\n",
       "</div>"
      ],
      "text/plain": [
       "      Classifier  Training Accuracy  Validation Accuracy    Recall  Precision  \\\n",
       "0       Logistic           0.876277             0.876209  0.460829   0.714091   \n",
       "0  Decision Tree           0.998034             0.892641  0.676673   0.689804   \n",
       "0  Random Forest           0.998050             0.893467  0.831747   0.646630   \n",
       "\n",
       "   F1 Score       AUC  \n",
       "0  0.560164  0.711377  \n",
       "0  0.683176  0.806940  \n",
       "0  0.727599  0.868975  "
      ]
     },
     "execution_count": 228,
     "metadata": {},
     "output_type": "execute_result"
    }
   ],
   "source": [
    "score = accuracy_score(yval,y_pred)\n",
    "recall = recall_score(yval,y_pred)\n",
    "precision = precision_score(yval,y_pred)\n",
    "f1score = f1_score(yval,y_pred)\n",
    "training = rfc.score(xtrain_ds,ytrain_ds)\n",
    "fpr,tpr, _ = roc_curve(yval, y_pred)\n",
    "roc_auc = auc(fpr,tpr)\n",
    "\n",
    "rfc_results = pd.DataFrame({'Classifier':['Random Forest'], 'Training Accuracy':[training],\n",
    "                          'Validation Accuracy': [score],'Recall':[recall],\n",
    "                          'Precision':[precision],'F1 Score':[f1score],'AUC':[roc_auc]})\n",
    "\n",
    "final = pd.concat([final,rfc_results],axis=0)\n",
    "final"
   ]
  },
  {
   "cell_type": "markdown",
   "metadata": {},
   "source": [
    "### ADA boost Classifier"
   ]
  },
  {
   "cell_type": "code",
   "execution_count": 209,
   "metadata": {},
   "outputs": [
    {
     "name": "stdout",
     "output_type": "stream",
     "text": [
      "[[31997  1096]\n",
      " [ 4320  2509]]\n",
      "              precision    recall  f1-score   support\n",
      "\n",
      "           0       0.88      0.97      0.92     33093\n",
      "           1       0.70      0.37      0.48      6829\n",
      "\n",
      "   micro avg       0.86      0.86      0.86     39922\n",
      "   macro avg       0.79      0.67      0.70     39922\n",
      "weighted avg       0.85      0.86      0.85     39922\n",
      "\n"
     ]
    }
   ],
   "source": [
    "from sklearn.ensemble import AdaBoostClassifier\n",
    "\n",
    "abc = AdaBoostClassifier(n_estimators=31,random_state=25)\n",
    "abc.fit(xtrain,ytrain)\n",
    "y_pred = abc.predict(xval)\n",
    "\n",
    "print(confusion_matrix(yval,y_pred))\n",
    "print(classification_report(yval,y_pred))"
   ]
  },
  {
   "cell_type": "code",
   "execution_count": 210,
   "metadata": {},
   "outputs": [
    {
     "data": {
      "text/html": [
       "<div>\n",
       "<style scoped>\n",
       "    .dataframe tbody tr th:only-of-type {\n",
       "        vertical-align: middle;\n",
       "    }\n",
       "\n",
       "    .dataframe tbody tr th {\n",
       "        vertical-align: top;\n",
       "    }\n",
       "\n",
       "    .dataframe thead th {\n",
       "        text-align: right;\n",
       "    }\n",
       "</style>\n",
       "<table border=\"1\" class=\"dataframe\">\n",
       "  <thead>\n",
       "    <tr style=\"text-align: right;\">\n",
       "      <th></th>\n",
       "      <th>Classifier</th>\n",
       "      <th>Training Accuracy</th>\n",
       "      <th>Validation Accuracy</th>\n",
       "      <th>Recall</th>\n",
       "      <th>Precision</th>\n",
       "      <th>F1 Score</th>\n",
       "      <th>AUC</th>\n",
       "    </tr>\n",
       "  </thead>\n",
       "  <tbody>\n",
       "    <tr>\n",
       "      <th>0</th>\n",
       "      <td>Logistic</td>\n",
       "      <td>0.876277</td>\n",
       "      <td>0.892641</td>\n",
       "      <td>0.676673</td>\n",
       "      <td>0.689804</td>\n",
       "      <td>0.683176</td>\n",
       "      <td>0.806940</td>\n",
       "    </tr>\n",
       "    <tr>\n",
       "      <th>0</th>\n",
       "      <td>Decision Tree</td>\n",
       "      <td>0.998034</td>\n",
       "      <td>0.892641</td>\n",
       "      <td>0.676673</td>\n",
       "      <td>0.689804</td>\n",
       "      <td>0.683176</td>\n",
       "      <td>0.806940</td>\n",
       "    </tr>\n",
       "    <tr>\n",
       "      <th>0</th>\n",
       "      <td>Random Forest</td>\n",
       "      <td>0.998009</td>\n",
       "      <td>0.918591</td>\n",
       "      <td>0.639039</td>\n",
       "      <td>0.847543</td>\n",
       "      <td>0.728669</td>\n",
       "      <td>0.807659</td>\n",
       "    </tr>\n",
       "    <tr>\n",
       "      <th>0</th>\n",
       "      <td>Ada Boost</td>\n",
       "      <td>0.864986</td>\n",
       "      <td>0.864335</td>\n",
       "      <td>0.367404</td>\n",
       "      <td>0.695978</td>\n",
       "      <td>0.480928</td>\n",
       "      <td>0.667142</td>\n",
       "    </tr>\n",
       "  </tbody>\n",
       "</table>\n",
       "</div>"
      ],
      "text/plain": [
       "      Classifier  Training Accuracy  Validation Accuracy    Recall  Precision  \\\n",
       "0       Logistic           0.876277             0.892641  0.676673   0.689804   \n",
       "0  Decision Tree           0.998034             0.892641  0.676673   0.689804   \n",
       "0  Random Forest           0.998009             0.918591  0.639039   0.847543   \n",
       "0      Ada Boost           0.864986             0.864335  0.367404   0.695978   \n",
       "\n",
       "   F1 Score       AUC  \n",
       "0  0.683176  0.806940  \n",
       "0  0.683176  0.806940  \n",
       "0  0.728669  0.807659  \n",
       "0  0.480928  0.667142  "
      ]
     },
     "execution_count": 210,
     "metadata": {},
     "output_type": "execute_result"
    }
   ],
   "source": [
    "score = accuracy_score(yval,y_pred)\n",
    "recall = recall_score(yval,y_pred)\n",
    "precision = precision_score(yval,y_pred)\n",
    "f1score = f1_score(yval,y_pred)\n",
    "training = abc.score(xtrain,ytrain)\n",
    "fpr,tpr, _ = roc_curve(yval, y_pred)\n",
    "roc_auc = auc(fpr,tpr)\n",
    "\n",
    "abc_results = pd.DataFrame({'Classifier':['Ada Boost'], 'Training Accuracy':[training],\n",
    "                          'Validation Accuracy': [score],'Recall':[recall],\n",
    "                          'Precision':[precision],'F1 Score':[f1score],'AUC':[roc_auc]})\n",
    "\n",
    "final = pd.concat([final,abc_results],axis=0)\n",
    "final"
   ]
  },
  {
   "cell_type": "markdown",
   "metadata": {},
   "source": [
    "## Gradient Boost"
   ]
  },
  {
   "cell_type": "code",
   "execution_count": 211,
   "metadata": {},
   "outputs": [
    {
     "name": "stdout",
     "output_type": "stream",
     "text": [
      "[[32246   847]\n",
      " [ 4120  2709]]\n",
      "              precision    recall  f1-score   support\n",
      "\n",
      "           0       0.89      0.97      0.93     33093\n",
      "           1       0.76      0.40      0.52      6829\n",
      "\n",
      "   micro avg       0.88      0.88      0.88     39922\n",
      "   macro avg       0.82      0.69      0.73     39922\n",
      "weighted avg       0.87      0.88      0.86     39922\n",
      "\n"
     ]
    }
   ],
   "source": [
    "from sklearn.ensemble import GradientBoostingClassifier\n",
    "\n",
    "gbc = GradientBoostingClassifier(n_estimators=101,random_state=25)\n",
    "gbc.fit(xtrain,ytrain)\n",
    "y_pred = gbc.predict(xval)\n",
    "\n",
    "print(confusion_matrix(yval,y_pred))\n",
    "print(classification_report(yval,y_pred))"
   ]
  },
  {
   "cell_type": "code",
   "execution_count": 212,
   "metadata": {},
   "outputs": [
    {
     "data": {
      "text/html": [
       "<div>\n",
       "<style scoped>\n",
       "    .dataframe tbody tr th:only-of-type {\n",
       "        vertical-align: middle;\n",
       "    }\n",
       "\n",
       "    .dataframe tbody tr th {\n",
       "        vertical-align: top;\n",
       "    }\n",
       "\n",
       "    .dataframe thead th {\n",
       "        text-align: right;\n",
       "    }\n",
       "</style>\n",
       "<table border=\"1\" class=\"dataframe\">\n",
       "  <thead>\n",
       "    <tr style=\"text-align: right;\">\n",
       "      <th></th>\n",
       "      <th>Classifier</th>\n",
       "      <th>Training Accuracy</th>\n",
       "      <th>Validation Accuracy</th>\n",
       "      <th>Recall</th>\n",
       "      <th>Precision</th>\n",
       "      <th>F1 Score</th>\n",
       "      <th>AUC</th>\n",
       "    </tr>\n",
       "  </thead>\n",
       "  <tbody>\n",
       "    <tr>\n",
       "      <th>0</th>\n",
       "      <td>Logistic</td>\n",
       "      <td>0.876277</td>\n",
       "      <td>0.892641</td>\n",
       "      <td>0.676673</td>\n",
       "      <td>0.689804</td>\n",
       "      <td>0.683176</td>\n",
       "      <td>0.806940</td>\n",
       "    </tr>\n",
       "    <tr>\n",
       "      <th>0</th>\n",
       "      <td>Decision Tree</td>\n",
       "      <td>0.998034</td>\n",
       "      <td>0.892641</td>\n",
       "      <td>0.676673</td>\n",
       "      <td>0.689804</td>\n",
       "      <td>0.683176</td>\n",
       "      <td>0.806940</td>\n",
       "    </tr>\n",
       "    <tr>\n",
       "      <th>0</th>\n",
       "      <td>Random Forest</td>\n",
       "      <td>0.998009</td>\n",
       "      <td>0.918591</td>\n",
       "      <td>0.639039</td>\n",
       "      <td>0.847543</td>\n",
       "      <td>0.728669</td>\n",
       "      <td>0.807659</td>\n",
       "    </tr>\n",
       "    <tr>\n",
       "      <th>0</th>\n",
       "      <td>Ada Boost</td>\n",
       "      <td>0.864986</td>\n",
       "      <td>0.864335</td>\n",
       "      <td>0.367404</td>\n",
       "      <td>0.695978</td>\n",
       "      <td>0.480928</td>\n",
       "      <td>0.667142</td>\n",
       "    </tr>\n",
       "    <tr>\n",
       "      <th>0</th>\n",
       "      <td>Gradient Boost</td>\n",
       "      <td>0.877730</td>\n",
       "      <td>0.875582</td>\n",
       "      <td>0.396691</td>\n",
       "      <td>0.761811</td>\n",
       "      <td>0.521714</td>\n",
       "      <td>0.685548</td>\n",
       "    </tr>\n",
       "  </tbody>\n",
       "</table>\n",
       "</div>"
      ],
      "text/plain": [
       "       Classifier  Training Accuracy  Validation Accuracy    Recall  \\\n",
       "0        Logistic           0.876277             0.892641  0.676673   \n",
       "0   Decision Tree           0.998034             0.892641  0.676673   \n",
       "0   Random Forest           0.998009             0.918591  0.639039   \n",
       "0       Ada Boost           0.864986             0.864335  0.367404   \n",
       "0  Gradient Boost           0.877730             0.875582  0.396691   \n",
       "\n",
       "   Precision  F1 Score       AUC  \n",
       "0   0.689804  0.683176  0.806940  \n",
       "0   0.689804  0.683176  0.806940  \n",
       "0   0.847543  0.728669  0.807659  \n",
       "0   0.695978  0.480928  0.667142  \n",
       "0   0.761811  0.521714  0.685548  "
      ]
     },
     "execution_count": 212,
     "metadata": {},
     "output_type": "execute_result"
    }
   ],
   "source": [
    "score = accuracy_score(yval,y_pred)\n",
    "recall = recall_score(yval,y_pred)\n",
    "precision = precision_score(yval,y_pred)\n",
    "f1score = f1_score(yval,y_pred)\n",
    "training = gbc.score(xtrain,ytrain)\n",
    "fpr,tpr, _ = roc_curve(yval, y_pred)\n",
    "roc_auc = auc(fpr,tpr)\n",
    "\n",
    "gbc_results = pd.DataFrame({'Classifier':['Gradient Boost'], 'Training Accuracy':[training],\n",
    "                          'Validation Accuracy': [score],'Recall':[recall],\n",
    "                          'Precision':[precision],'F1 Score':[f1score],'AUC':[roc_auc]})\n",
    "\n",
    "final=pd.concat([final,gbc_results],axis=0)\n",
    "final"
   ]
  },
  {
   "cell_type": "markdown",
   "metadata": {},
   "source": [
    "### STACKED MODEL"
   ]
  },
  {
   "cell_type": "code",
   "execution_count": 213,
   "metadata": {},
   "outputs": [],
   "source": [
    "from sklearn.ensemble import BaggingClassifier,VotingClassifier\n",
    "from xgboost import XGBClassifier\n",
    "\n",
    "seed = 25\n",
    "dtcl = DecisionTreeClassifier(criterion = 'gini', random_state=seed)\n",
    "rfcl = RandomForestClassifier(n_estimators=61,random_state=seed)\n",
    "bgcl = BaggingClassifier(base_estimator=dtcl, n_estimators=61 , random_state=seed)\n",
    "gbc = GradientBoostingClassifier(n_estimators=61,random_state=seed)"
   ]
  },
  {
   "cell_type": "code",
   "execution_count": null,
   "metadata": {},
   "outputs": [],
   "source": [
    "sc = VotingClassifier(estimators = [('dt', dtcl), ('rf', rfcl), ('bgcl', bgcl),('gbc',gbc)], voting = 'hard')\n",
    "sc.fit(xtrain_ds,ytrain_ds)\n",
    "y_pred = sc.predict(xval)\n",
    "\n",
    "print(confusion_matrix(yval,y_pred))\n",
    "print(classification_report(yval,y_pred))"
   ]
  },
  {
   "cell_type": "code",
   "execution_count": 196,
   "metadata": {},
   "outputs": [
    {
     "data": {
      "text/html": [
       "<div>\n",
       "<style scoped>\n",
       "    .dataframe tbody tr th:only-of-type {\n",
       "        vertical-align: middle;\n",
       "    }\n",
       "\n",
       "    .dataframe tbody tr th {\n",
       "        vertical-align: top;\n",
       "    }\n",
       "\n",
       "    .dataframe thead th {\n",
       "        text-align: right;\n",
       "    }\n",
       "</style>\n",
       "<table border=\"1\" class=\"dataframe\">\n",
       "  <thead>\n",
       "    <tr style=\"text-align: right;\">\n",
       "      <th></th>\n",
       "      <th>Classifier</th>\n",
       "      <th>Training Accuracy</th>\n",
       "      <th>Validation Accuracy</th>\n",
       "      <th>Recall</th>\n",
       "      <th>Precision</th>\n",
       "      <th>F1 Score</th>\n",
       "      <th>AUC</th>\n",
       "    </tr>\n",
       "  </thead>\n",
       "  <tbody>\n",
       "    <tr>\n",
       "      <th>0</th>\n",
       "      <td>Logistic</td>\n",
       "      <td>0.815397</td>\n",
       "      <td>0.836757</td>\n",
       "      <td>0.770684</td>\n",
       "      <td>0.515273</td>\n",
       "      <td>0.617614</td>\n",
       "      <td>0.810538</td>\n",
       "    </tr>\n",
       "    <tr>\n",
       "      <th>0</th>\n",
       "      <td>Decision Tree</td>\n",
       "      <td>0.998050</td>\n",
       "      <td>0.858925</td>\n",
       "      <td>0.793381</td>\n",
       "      <td>0.562092</td>\n",
       "      <td>0.658003</td>\n",
       "      <td>0.832916</td>\n",
       "    </tr>\n",
       "    <tr>\n",
       "      <th>0</th>\n",
       "      <td>Random Forest</td>\n",
       "      <td>0.998050</td>\n",
       "      <td>0.893467</td>\n",
       "      <td>0.831747</td>\n",
       "      <td>0.646630</td>\n",
       "      <td>0.727599</td>\n",
       "      <td>0.868975</td>\n",
       "    </tr>\n",
       "    <tr>\n",
       "      <th>0</th>\n",
       "      <td>Ada Boost</td>\n",
       "      <td>0.800236</td>\n",
       "      <td>0.817795</td>\n",
       "      <td>0.752087</td>\n",
       "      <td>0.479239</td>\n",
       "      <td>0.585433</td>\n",
       "      <td>0.791720</td>\n",
       "    </tr>\n",
       "    <tr>\n",
       "      <th>0</th>\n",
       "      <td>Gradient Boost</td>\n",
       "      <td>0.827676</td>\n",
       "      <td>0.847578</td>\n",
       "      <td>0.764241</td>\n",
       "      <td>0.538374</td>\n",
       "      <td>0.631725</td>\n",
       "      <td>0.814508</td>\n",
       "    </tr>\n",
       "    <tr>\n",
       "      <th>0</th>\n",
       "      <td>Stacked</td>\n",
       "      <td>0.997961</td>\n",
       "      <td>0.902059</td>\n",
       "      <td>0.795431</td>\n",
       "      <td>0.683700</td>\n",
       "      <td>0.735346</td>\n",
       "      <td>0.859747</td>\n",
       "    </tr>\n",
       "  </tbody>\n",
       "</table>\n",
       "</div>"
      ],
      "text/plain": [
       "       Classifier  Training Accuracy  Validation Accuracy    Recall  \\\n",
       "0        Logistic           0.815397             0.836757  0.770684   \n",
       "0   Decision Tree           0.998050             0.858925  0.793381   \n",
       "0   Random Forest           0.998050             0.893467  0.831747   \n",
       "0       Ada Boost           0.800236             0.817795  0.752087   \n",
       "0  Gradient Boost           0.827676             0.847578  0.764241   \n",
       "0         Stacked           0.997961             0.902059  0.795431   \n",
       "\n",
       "   Precision  F1 Score       AUC  \n",
       "0   0.515273  0.617614  0.810538  \n",
       "0   0.562092  0.658003  0.832916  \n",
       "0   0.646630  0.727599  0.868975  \n",
       "0   0.479239  0.585433  0.791720  \n",
       "0   0.538374  0.631725  0.814508  \n",
       "0   0.683700  0.735346  0.859747  "
      ]
     },
     "execution_count": 196,
     "metadata": {},
     "output_type": "execute_result"
    }
   ],
   "source": [
    "score = accuracy_score(yval,y_pred)\n",
    "recall = recall_score(yval,y_pred)\n",
    "precision = precision_score(yval,y_pred)\n",
    "f1score = f1_score(yval,y_pred)\n",
    "training = sc.score(xtrain_ds,ytrain_ds)\n",
    "fpr,tpr, _ = roc_curve(yval, y_pred)\n",
    "roc_auc = auc(fpr,tpr)\n",
    "\n",
    "sc_results = pd.DataFrame({'Classifier':['Stacked'], 'Training Accuracy':[training],\n",
    "                          'Validation Accuracy': [score],'Recall':[recall],\n",
    "                          'Precision':[precision],'F1 Score':[f1score],'AUC':[roc_auc]})\n",
    "\n",
    "final = pd.concat([final,sc_results],axis=0)\n",
    "final"
   ]
  },
  {
   "cell_type": "code",
   "execution_count": 230,
   "metadata": {
    "scrolled": true
   },
   "outputs": [
    {
     "name": "stdout",
     "output_type": "stream",
     "text": [
      "Area under Curve : 0.8689753451865176\n"
     ]
    },
    {
     "data": {
      "image/png": "[encoded data removed]",
      "text/plain": [
       "<Figure size 432x288 with 1 Axes>"
      ]
     },
     "metadata": {
      "needs_background": "light"
     },
     "output_type": "display_data"
    }
   ],
   "source": [
    "print('Area under Curve :',roc_auc)\n",
    "plt.figure()\n",
    "plt.plot(fpr, tpr)\n",
    "plt.xlim([0.0, 1.0])\n",
    "plt.ylim([0.0, 1.0])\n",
    "plt.xlabel('False Positive Rate')\n",
    "plt.ylabel('True Positive Rate')\n",
    "plt.title('Receiver operating characteristics of RANDOM FOREST classifier')\n",
    "plt.show()"
   ]
  },
  {
   "cell_type": "markdown",
   "metadata": {},
   "source": [
    "#### So,far the best algorithm that gives us good AUC value is RANDOM FOREST CLASSIFIER which gave us highest recall score as well along with AUC (Good True positive rate)"
   ]
  },
  {
   "cell_type": "markdown",
   "metadata": {},
   "source": [
    "### Prediction on TEST1"
   ]
  },
  {
   "cell_type": "code",
   "execution_count": 75,
   "metadata": {},
   "outputs": [],
   "source": [
    "yp = rfc.predict(T1)\n",
    "len(yp),len(test1)"
   ]
  },
  {
   "cell_type": "code",
   "execution_count": 78,
   "metadata": {},
   "outputs": [
    {
     "data": {
      "text/html": [
       "<div>\n",
       "<style scoped>\n",
       "    .dataframe tbody tr th:only-of-type {\n",
       "        vertical-align: middle;\n",
       "    }\n",
       "\n",
       "    .dataframe tbody tr th {\n",
       "        vertical-align: top;\n",
       "    }\n",
       "\n",
       "    .dataframe thead th {\n",
       "        text-align: right;\n",
       "    }\n",
       "</style>\n",
       "<table border=\"1\" class=\"dataframe\">\n",
       "  <thead>\n",
       "    <tr style=\"text-align: right;\">\n",
       "      <th></th>\n",
       "      <th>ID</th>\n",
       "      <th>Class</th>\n",
       "    </tr>\n",
       "  </thead>\n",
       "  <tbody>\n",
       "    <tr>\n",
       "      <th>0</th>\n",
       "      <td>1</td>\n",
       "      <td>0</td>\n",
       "    </tr>\n",
       "    <tr>\n",
       "      <th>1</th>\n",
       "      <td>2</td>\n",
       "      <td>0</td>\n",
       "    </tr>\n",
       "    <tr>\n",
       "      <th>2</th>\n",
       "      <td>3</td>\n",
       "      <td>1</td>\n",
       "    </tr>\n",
       "    <tr>\n",
       "      <th>3</th>\n",
       "      <td>4</td>\n",
       "      <td>0</td>\n",
       "    </tr>\n",
       "    <tr>\n",
       "      <th>4</th>\n",
       "      <td>5</td>\n",
       "      <td>0</td>\n",
       "    </tr>\n",
       "  </tbody>\n",
       "</table>\n",
       "</div>"
      ],
      "text/plain": [
       "   ID  Class\n",
       "0   1      0\n",
       "1   2      0\n",
       "2   3      1\n",
       "3   4      0\n",
       "4   5      0"
      ]
     },
     "execution_count": 78,
     "metadata": {},
     "output_type": "execute_result"
    }
   ],
   "source": [
    "sub1 = pd.DataFrame()\n",
    "sub1[\"ID\"] = test1[\"Variable1\"]\n",
    "sub1['Class'] = yp\n",
    "sub1.head()"
   ]
  },
  {
   "cell_type": "code",
   "execution_count": 79,
   "metadata": {},
   "outputs": [],
   "source": [
    "sub1.to_csv(\"machinelearning_saipraneeth_veldandi_us.csv\", index = False)"
   ]
  },
  {
   "cell_type": "markdown",
   "metadata": {},
   "source": [
    "### Prediction on TEST2"
   ]
  },
  {
   "cell_type": "code",
   "execution_count": 197,
   "metadata": {},
   "outputs": [
    {
     "data": {
      "text/plain": [
       "(72581, 72581)"
      ]
     },
     "execution_count": 197,
     "metadata": {},
     "output_type": "execute_result"
    }
   ],
   "source": [
    "yp = sc.predict(T2)\n",
    "len(yp),len(test2)"
   ]
  },
  {
   "cell_type": "code",
   "execution_count": 199,
   "metadata": {},
   "outputs": [
    {
     "data": {
      "text/html": [
       "<div>\n",
       "<style scoped>\n",
       "    .dataframe tbody tr th:only-of-type {\n",
       "        vertical-align: middle;\n",
       "    }\n",
       "\n",
       "    .dataframe tbody tr th {\n",
       "        vertical-align: top;\n",
       "    }\n",
       "\n",
       "    .dataframe thead th {\n",
       "        text-align: right;\n",
       "    }\n",
       "</style>\n",
       "<table border=\"1\" class=\"dataframe\">\n",
       "  <thead>\n",
       "    <tr style=\"text-align: right;\">\n",
       "      <th></th>\n",
       "      <th>ID</th>\n",
       "      <th>Class</th>\n",
       "    </tr>\n",
       "  </thead>\n",
       "  <tbody>\n",
       "    <tr>\n",
       "      <th>0</th>\n",
       "      <td>1</td>\n",
       "      <td>0</td>\n",
       "    </tr>\n",
       "    <tr>\n",
       "      <th>1</th>\n",
       "      <td>2</td>\n",
       "      <td>1</td>\n",
       "    </tr>\n",
       "    <tr>\n",
       "      <th>2</th>\n",
       "      <td>3</td>\n",
       "      <td>0</td>\n",
       "    </tr>\n",
       "    <tr>\n",
       "      <th>3</th>\n",
       "      <td>4</td>\n",
       "      <td>0</td>\n",
       "    </tr>\n",
       "    <tr>\n",
       "      <th>4</th>\n",
       "      <td>5</td>\n",
       "      <td>0</td>\n",
       "    </tr>\n",
       "  </tbody>\n",
       "</table>\n",
       "</div>"
      ],
      "text/plain": [
       "   ID  Class\n",
       "0   1      0\n",
       "1   2      1\n",
       "2   3      0\n",
       "3   4      0\n",
       "4   5      0"
      ]
     },
     "execution_count": 199,
     "metadata": {},
     "output_type": "execute_result"
    }
   ],
   "source": [
    "sub2 = pd.DataFrame()\n",
    "sub2[\"ID\"] = test2[\"Variable1\"]\n",
    "sub2['Class'] = yp\n",
    "sub2.head()"
   ]
  },
  {
   "cell_type": "code",
   "execution_count": 200,
   "metadata": {},
   "outputs": [],
   "source": [
    "sub2.to_csv(\"machinelearning_saipraneeth_veldandi_dsp.csv\", index = False)"
   ]
  },
  {
   "cell_type": "markdown",
   "metadata": {},
   "source": [
    "## THE END................THANK YOU "
   ]
  }
 ],
 "metadata": {
  "kernelspec": {
   "display_name": "Python 3",
   "language": "python",
   "name": "python3"
  },
  "language_info": {
   "codemirror_mode": {
    "name": "ipython",
    "version": 3
   },
   "file_extension": ".py",
   "mimetype": "text/x-python",
   "name": "python",
   "nbconvert_exporter": "python",
   "pygments_lexer": "ipython3",
   "version": "3.7.1"
  }
 },
 "nbformat": 4,
 "nbformat_minor": 2
}
