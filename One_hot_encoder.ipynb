{
 "cells": [
  {
   "cell_type": "code",
   "execution_count": 1,
   "metadata": {},
   "outputs": [],
   "source": [
    "import pandas as pd\n",
    "import numpy as np"
   ]
  },
  {
   "cell_type": "code",
   "execution_count": 2,
   "metadata": {},
   "outputs": [],
   "source": [
    "data=pd.read_csv(\"training_dataset.csv\")"
   ]
  },
  {
   "cell_type": "code",
   "execution_count": 3,
   "metadata": {},
   "outputs": [
    {
     "data": {
      "text/html": [
       "<div>\n",
       "<style scoped>\n",
       "    .dataframe tbody tr th:only-of-type {\n",
       "        vertical-align: middle;\n",
       "    }\n",
       "\n",
       "    .dataframe tbody tr th {\n",
       "        vertical-align: top;\n",
       "    }\n",
       "\n",
       "    .dataframe thead th {\n",
       "        text-align: right;\n",
       "    }\n",
       "</style>\n",
       "<table border=\"1\" class=\"dataframe\">\n",
       "  <thead>\n",
       "    <tr style=\"text-align: right;\">\n",
       "      <th></th>\n",
       "      <th>Variable1</th>\n",
       "      <th>Variable2</th>\n",
       "      <th>Variable3</th>\n",
       "      <th>Variable4</th>\n",
       "      <th>Variable5</th>\n",
       "      <th>Variable6</th>\n",
       "      <th>Variable7</th>\n",
       "      <th>Variable8</th>\n",
       "      <th>Variable9</th>\n",
       "      <th>Variable10</th>\n",
       "      <th>...</th>\n",
       "      <th>Variable20</th>\n",
       "      <th>Variable21</th>\n",
       "      <th>Variable22</th>\n",
       "      <th>Variable23</th>\n",
       "      <th>Variable24</th>\n",
       "      <th>Variable25</th>\n",
       "      <th>Variable26</th>\n",
       "      <th>Variable27</th>\n",
       "      <th>Variable28</th>\n",
       "      <th>Target</th>\n",
       "    </tr>\n",
       "  </thead>\n",
       "  <tbody>\n",
       "    <tr>\n",
       "      <th>0</th>\n",
       "      <td>1</td>\n",
       "      <td>ARO-4742</td>\n",
       "      <td>1</td>\n",
       "      <td>APHRNG1692</td>\n",
       "      <td>May-16</td>\n",
       "      <td>N</td>\n",
       "      <td>9.314022e+09</td>\n",
       "      <td>Col-6930</td>\n",
       "      <td>PKSA016674</td>\n",
       "      <td>USG1</td>\n",
       "      <td>...</td>\n",
       "      <td>NaN</td>\n",
       "      <td>NaN</td>\n",
       "      <td>VAR SULP TT3 PS</td>\n",
       "      <td>NaN</td>\n",
       "      <td>N</td>\n",
       "      <td>NaN</td>\n",
       "      <td>COM2</td>\n",
       "      <td>1150.0</td>\n",
       "      <td>MFTRC322</td>\n",
       "      <td>0</td>\n",
       "    </tr>\n",
       "    <tr>\n",
       "      <th>1</th>\n",
       "      <td>2</td>\n",
       "      <td>ARO-4928</td>\n",
       "      <td>2</td>\n",
       "      <td>APFPTV9946</td>\n",
       "      <td>Feb-17</td>\n",
       "      <td>N</td>\n",
       "      <td>9.251002e+09</td>\n",
       "      <td>Col-6930</td>\n",
       "      <td>PA2Z013889</td>\n",
       "      <td>USG4</td>\n",
       "      <td>...</td>\n",
       "      <td>NaN</td>\n",
       "      <td>NaN</td>\n",
       "      <td>VAR SULP TT4</td>\n",
       "      <td>NaN</td>\n",
       "      <td>N</td>\n",
       "      <td>NaN</td>\n",
       "      <td>COM1</td>\n",
       "      <td>1150.0</td>\n",
       "      <td>MFTRC322</td>\n",
       "      <td>0</td>\n",
       "    </tr>\n",
       "    <tr>\n",
       "      <th>2</th>\n",
       "      <td>3</td>\n",
       "      <td>ARO-3778</td>\n",
       "      <td>2</td>\n",
       "      <td>APHRNG1692</td>\n",
       "      <td>Dec-15</td>\n",
       "      <td>NaN</td>\n",
       "      <td>9.451552e+09</td>\n",
       "      <td>Col-4259</td>\n",
       "      <td>PCEM018562</td>\n",
       "      <td>USG4</td>\n",
       "      <td>...</td>\n",
       "      <td>NaN</td>\n",
       "      <td>NaN</td>\n",
       "      <td>VAR SULP DI TT3</td>\n",
       "      <td>NaN</td>\n",
       "      <td>N</td>\n",
       "      <td>NaN</td>\n",
       "      <td>COM3</td>\n",
       "      <td>1150.0</td>\n",
       "      <td>MFTRC322</td>\n",
       "      <td>0</td>\n",
       "    </tr>\n",
       "    <tr>\n",
       "      <th>3</th>\n",
       "      <td>4</td>\n",
       "      <td>ARO-4998</td>\n",
       "      <td>1</td>\n",
       "      <td>APFPTV154265</td>\n",
       "      <td>Sep-16</td>\n",
       "      <td>N</td>\n",
       "      <td>9.416109e+09</td>\n",
       "      <td>Col-4259</td>\n",
       "      <td>PTRW14933</td>\n",
       "      <td>USG4</td>\n",
       "      <td>...</td>\n",
       "      <td>NaN</td>\n",
       "      <td>NaN</td>\n",
       "      <td>VAR SULP DI TT3 PS</td>\n",
       "      <td>NaN</td>\n",
       "      <td>N</td>\n",
       "      <td>NaN</td>\n",
       "      <td>COM1</td>\n",
       "      <td>1000.0</td>\n",
       "      <td>MFTRC322</td>\n",
       "      <td>0</td>\n",
       "    </tr>\n",
       "    <tr>\n",
       "      <th>4</th>\n",
       "      <td>5</td>\n",
       "      <td>ARO-3627</td>\n",
       "      <td>2</td>\n",
       "      <td>APHRNG1692</td>\n",
       "      <td>Feb-16</td>\n",
       "      <td>N</td>\n",
       "      <td>9.500040e+09</td>\n",
       "      <td>Col-4259</td>\n",
       "      <td>PAM0026696</td>\n",
       "      <td>USG1</td>\n",
       "      <td>...</td>\n",
       "      <td>NaN</td>\n",
       "      <td>NaN</td>\n",
       "      <td>VAR SULP TT4 PS</td>\n",
       "      <td>NaN</td>\n",
       "      <td>N</td>\n",
       "      <td>NaN</td>\n",
       "      <td>COM1</td>\n",
       "      <td>1150.0</td>\n",
       "      <td>MAHEC465</td>\n",
       "      <td>0</td>\n",
       "    </tr>\n",
       "  </tbody>\n",
       "</table>\n",
       "<p>5 rows × 29 columns</p>\n",
       "</div>"
      ],
      "text/plain": [
       "   Variable1 Variable2  Variable3     Variable4 Variable5 Variable6  \\\n",
       "0          1  ARO-4742          1    APHRNG1692    May-16         N   \n",
       "1          2  ARO-4928          2    APFPTV9946    Feb-17         N   \n",
       "2          3  ARO-3778          2    APHRNG1692    Dec-15       NaN   \n",
       "3          4  ARO-4998          1  APFPTV154265    Sep-16         N   \n",
       "4          5  ARO-3627          2    APHRNG1692    Feb-16         N   \n",
       "\n",
       "      Variable7 Variable8   Variable9 Variable10  ...   Variable20  \\\n",
       "0  9.314022e+09  Col-6930  PKSA016674       USG1  ...          NaN   \n",
       "1  9.251002e+09  Col-6930  PA2Z013889       USG4  ...          NaN   \n",
       "2  9.451552e+09  Col-4259  PCEM018562       USG4  ...          NaN   \n",
       "3  9.416109e+09  Col-4259   PTRW14933       USG4  ...          NaN   \n",
       "4  9.500040e+09  Col-4259  PAM0026696       USG1  ...          NaN   \n",
       "\n",
       "   Variable21          Variable22 Variable23 Variable24  Variable25  \\\n",
       "0         NaN     VAR SULP TT3 PS        NaN          N         NaN   \n",
       "1         NaN        VAR SULP TT4        NaN          N         NaN   \n",
       "2         NaN     VAR SULP DI TT3        NaN          N         NaN   \n",
       "3         NaN  VAR SULP DI TT3 PS        NaN          N         NaN   \n",
       "4         NaN     VAR SULP TT4 PS        NaN          N         NaN   \n",
       "\n",
       "  Variable26 Variable27 Variable28 Target  \n",
       "0       COM2     1150.0   MFTRC322      0  \n",
       "1       COM1     1150.0   MFTRC322      0  \n",
       "2       COM3     1150.0   MFTRC322      0  \n",
       "3       COM1     1000.0   MFTRC322      0  \n",
       "4       COM1     1150.0   MAHEC465      0  \n",
       "\n",
       "[5 rows x 29 columns]"
      ]
     },
     "execution_count": 3,
     "metadata": {},
     "output_type": "execute_result"
    }
   ],
   "source": [
    "data.head()"
   ]
  },
  {
   "cell_type": "code",
   "execution_count": 4,
   "metadata": {},
   "outputs": [
    {
     "data": {
      "text/plain": [
       "(199609, 29)"
      ]
     },
     "execution_count": 4,
     "metadata": {},
     "output_type": "execute_result"
    }
   ],
   "source": [
    "data.shape"
   ]
  },
  {
   "cell_type": "code",
   "execution_count": 5,
   "metadata": {},
   "outputs": [
    {
     "data": {
      "text/plain": [
       "Variable1          0\n",
       "Variable2          0\n",
       "Variable3          0\n",
       "Variable4          0\n",
       "Variable5          0\n",
       "Variable6      46391\n",
       "Variable7      11535\n",
       "Variable8          0\n",
       "Variable9          0\n",
       "Variable10         0\n",
       "Variable11         0\n",
       "Variable12     36818\n",
       "Variable13         0\n",
       "Variable14         0\n",
       "Variable15         0\n",
       "Variable16    174704\n",
       "Variable17         0\n",
       "Variable18     58539\n",
       "Variable19         0\n",
       "Variable20    175780\n",
       "Variable21    199609\n",
       "Variable22         0\n",
       "Variable23    160126\n",
       "Variable24         0\n",
       "Variable25    182801\n",
       "Variable26         0\n",
       "Variable27     34163\n",
       "Variable28         0\n",
       "Target             0\n",
       "dtype: int64"
      ]
     },
     "execution_count": 5,
     "metadata": {},
     "output_type": "execute_result"
    }
   ],
   "source": [
    "data.isnull().sum()"
   ]
  },
  {
   "cell_type": "code",
   "execution_count": 6,
   "metadata": {},
   "outputs": [],
   "source": [
    "data1 = data.drop(['Variable16','Variable20','Variable21','Variable23', 'Variable25'], 1)"
   ]
  },
  {
   "cell_type": "code",
   "execution_count": 7,
   "metadata": {},
   "outputs": [],
   "source": [
    "#since most of the values are NO ,lets impute the missing value with N\n",
    "data1['Variable6'].fillna('N',inplace=True)"
   ]
  },
  {
   "cell_type": "code",
   "execution_count": 8,
   "metadata": {},
   "outputs": [
    {
     "name": "stderr",
     "output_type": "stream",
     "text": [
      "C:\\Users\\sreekar chidurala\\Anaconda3\\envs\\sreekar\\lib\\site-packages\\sklearn\\utils\\deprecation.py:58: DeprecationWarning: Class Imputer is deprecated; Imputer was deprecated in version 0.20 and will be removed in 0.22. Import impute.SimpleImputer from sklearn instead.\n",
      "  warnings.warn(msg, category=DeprecationWarning)\n"
     ]
    }
   ],
   "source": [
    "#not a normal distribution.lets impute missing value with median\n",
    "from sklearn.preprocessing import Imputer\n",
    "imputer = Imputer(missing_values=np.nan, strategy='median', axis=0)\n",
    "data1[['Variable7']] = imputer.fit_transform(data1[['Variable7']])"
   ]
  },
  {
   "cell_type": "code",
   "execution_count": 9,
   "metadata": {},
   "outputs": [],
   "source": [
    "data1['Variable12'].fillna(data1['Variable12'].value_counts().index[0],inplace=True)"
   ]
  },
  {
   "cell_type": "code",
   "execution_count": 10,
   "metadata": {},
   "outputs": [],
   "source": [
    "#imputing null with 'N'   ( mode value)\n",
    "data1['Variable18'].fillna('N',inplace=True)"
   ]
  },
  {
   "cell_type": "code",
   "execution_count": 11,
   "metadata": {},
   "outputs": [],
   "source": [
    "data1[['Variable27']] = imputer.fit_transform(data1[['Variable27']])"
   ]
  },
  {
   "cell_type": "code",
   "execution_count": 12,
   "metadata": {},
   "outputs": [
    {
     "data": {
      "text/plain": [
       "Variable1     0\n",
       "Variable2     0\n",
       "Variable3     0\n",
       "Variable4     0\n",
       "Variable5     0\n",
       "Variable6     0\n",
       "Variable7     0\n",
       "Variable8     0\n",
       "Variable9     0\n",
       "Variable10    0\n",
       "Variable11    0\n",
       "Variable12    0\n",
       "Variable13    0\n",
       "Variable14    0\n",
       "Variable15    0\n",
       "Variable17    0\n",
       "Variable18    0\n",
       "Variable19    0\n",
       "Variable22    0\n",
       "Variable24    0\n",
       "Variable26    0\n",
       "Variable27    0\n",
       "Variable28    0\n",
       "Target        0\n",
       "dtype: int64"
      ]
     },
     "execution_count": 12,
     "metadata": {},
     "output_type": "execute_result"
    }
   ],
   "source": [
    "data1.isnull().sum()"
   ]
  },
  {
   "cell_type": "code",
   "execution_count": 13,
   "metadata": {},
   "outputs": [],
   "source": [
    "from sklearn.preprocessing import OneHotEncoder"
   ]
  },
  {
   "cell_type": "code",
   "execution_count": 14,
   "metadata": {},
   "outputs": [],
   "source": [
    "#80:20 split\n",
    "from sklearn.model_selection import train_test_split\n",
    "\n",
    "train, test = train_test_split(data1, test_size=0.2, random_state=0)"
   ]
  },
  {
   "cell_type": "code",
   "execution_count": 15,
   "metadata": {},
   "outputs": [
    {
     "data": {
      "text/plain": [
       "(159687, 24)"
      ]
     },
     "execution_count": 15,
     "metadata": {},
     "output_type": "execute_result"
    }
   ],
   "source": [
    "train.shape"
   ]
  },
  {
   "cell_type": "code",
   "execution_count": 16,
   "metadata": {},
   "outputs": [
    {
     "data": {
      "text/plain": [
       "(39922, 24)"
      ]
     },
     "execution_count": 16,
     "metadata": {},
     "output_type": "execute_result"
    }
   ],
   "source": [
    "test.shape"
   ]
  },
  {
   "cell_type": "code",
   "execution_count": 17,
   "metadata": {},
   "outputs": [],
   "source": [
    "y_train=train[\"Target\"]"
   ]
  },
  {
   "cell_type": "code",
   "execution_count": 18,
   "metadata": {},
   "outputs": [],
   "source": [
    "y_test=test[\"Target\"]"
   ]
  },
  {
   "cell_type": "code",
   "execution_count": 19,
   "metadata": {},
   "outputs": [],
   "source": [
    "train=train.drop(labels=\"Target\",axis=1)"
   ]
  },
  {
   "cell_type": "code",
   "execution_count": 20,
   "metadata": {},
   "outputs": [],
   "source": [
    "test=test.drop(labels=\"Target\",axis=1)"
   ]
  },
  {
   "cell_type": "code",
   "execution_count": 21,
   "metadata": {},
   "outputs": [
    {
     "data": {
      "text/plain": [
       "(159687, 23)"
      ]
     },
     "execution_count": 21,
     "metadata": {},
     "output_type": "execute_result"
    }
   ],
   "source": [
    "train.shape"
   ]
  },
  {
   "cell_type": "code",
   "execution_count": 22,
   "metadata": {},
   "outputs": [
    {
     "data": {
      "text/plain": [
       "(39922, 23)"
      ]
     },
     "execution_count": 22,
     "metadata": {},
     "output_type": "execute_result"
    }
   ],
   "source": [
    "test.shape"
   ]
  },
  {
   "cell_type": "code",
   "execution_count": 23,
   "metadata": {},
   "outputs": [],
   "source": [
    "categorical = list(train.select_dtypes(include=['object']).columns.values)\n",
    "for cat in categorical:\n",
    "    train[cat]=train[cat].astype('str')"
   ]
  },
  {
   "cell_type": "code",
   "execution_count": 36,
   "metadata": {},
   "outputs": [],
   "source": [
    "from sklearn.preprocessing import OneHotEncoder\n",
    "enc = OneHotEncoder(handle_unknown='ignore')\n",
    "enc.fit(train)\n",
    "train_enc=enc.transform(train)\n",
    "test_enc=enc.transform(test)"
   ]
  },
  {
   "cell_type": "code",
   "execution_count": 37,
   "metadata": {},
   "outputs": [
    {
     "data": {
      "text/plain": [
       "(<159687x173120 sparse matrix of type '<class 'numpy.float64'>'\n",
       " \twith 3672801 stored elements in Compressed Sparse Row format>,\n",
       " <39922x173120 sparse matrix of type '<class 'numpy.float64'>'\n",
       " \twith 877353 stored elements in Compressed Sparse Row format>)"
      ]
     },
     "execution_count": 37,
     "metadata": {},
     "output_type": "execute_result"
    }
   ],
   "source": [
    "train_enc ,test_enc"
   ]
  },
  {
   "cell_type": "code",
   "execution_count": 26,
   "metadata": {},
   "outputs": [
    {
     "data": {
      "text/plain": [
       "RandomForestClassifier(bootstrap=True, class_weight='balanced',\n",
       "            criterion='gini', max_depth=None, max_features='auto',\n",
       "            max_leaf_nodes=None, min_impurity_decrease=0.0,\n",
       "            min_impurity_split=None, min_samples_leaf=1,\n",
       "            min_samples_split=2, min_weight_fraction_leaf=0.0,\n",
       "            n_estimators=5, n_jobs=-1, oob_score=False, random_state=1,\n",
       "            verbose=0, warm_start=False)"
      ]
     },
     "execution_count": 26,
     "metadata": {},
     "output_type": "execute_result"
    }
   ],
   "source": [
    "from sklearn.model_selection import train_test_split\n",
    "from sklearn.ensemble import RandomForestClassifier\n",
    "from sklearn.metrics import classification_report, confusion_matrix, roc_curve, make_scorer\n",
    "SEED = 1\n",
    "model_full_rf = RandomForestClassifier(n_estimators=5, class_weight='balanced', random_state=SEED, n_jobs=-1)\n",
    "model_full_rf.fit(train_enc, y_train)"
   ]
  },
  {
   "cell_type": "code",
   "execution_count": 27,
   "metadata": {},
   "outputs": [
    {
     "data": {
      "text/plain": [
       "0.8906116928009619"
      ]
     },
     "execution_count": 27,
     "metadata": {},
     "output_type": "execute_result"
    }
   ],
   "source": [
    "model_full_rf.score(test_enc, y_test)"
   ]
  },
  {
   "cell_type": "code",
   "execution_count": 38,
   "metadata": {},
   "outputs": [
    {
     "name": "stderr",
     "output_type": "stream",
     "text": [
      "C:\\Users\\sreekar chidurala\\Anaconda3\\envs\\sreekar\\lib\\site-packages\\sklearn\\linear_model\\logistic.py:433: FutureWarning: Default solver will be changed to 'lbfgs' in 0.22. Specify a solver to silence this warning.\n",
      "  FutureWarning)\n"
     ]
    },
    {
     "data": {
      "text/plain": [
       "LogisticRegression(C=1.0, class_weight=None, dual=False, fit_intercept=True,\n",
       "          intercept_scaling=1, max_iter=100, multi_class='warn',\n",
       "          n_jobs=None, penalty='l2', random_state=None, solver='warn',\n",
       "          tol=0.0001, verbose=0, warm_start=False)"
      ]
     },
     "execution_count": 38,
     "metadata": {},
     "output_type": "execute_result"
    }
   ],
   "source": [
    "#logestic\n",
    "from sklearn.linear_model import LogisticRegression\n",
    "logreg = LogisticRegression()\n",
    "#from sklearn.feature_selection import RFE\n",
    "#rfe = RFE(logreg, 13)             # running RFE with 13 variables as output\n",
    "logreg.fit(train_enc,y_train)\n",
    "  "
   ]
  },
  {
   "cell_type": "code",
   "execution_count": 39,
   "metadata": {},
   "outputs": [
    {
     "data": {
      "text/plain": [
       "0.9027854315916036"
      ]
     },
     "execution_count": 39,
     "metadata": {},
     "output_type": "execute_result"
    }
   ],
   "source": [
    "logreg.score(test_enc, y_test)"
   ]
  },
  {
   "cell_type": "code",
   "execution_count": null,
   "metadata": {},
   "outputs": [],
   "source": []
  }
 ],
 "metadata": {
  "kernelspec": {
   "display_name": "Python 3",
   "language": "python",
   "name": "python3"
  },
  "language_info": {
   "codemirror_mode": {
    "name": "ipython",
    "version": 3
   },
   "file_extension": ".py",
   "mimetype": "text/x-python",
   "name": "python",
   "nbconvert_exporter": "python",
   "pygments_lexer": "ipython3",
   "version": "3.6.7"
  }
 },
 "nbformat": 4,
 "nbformat_minor": 2
}
