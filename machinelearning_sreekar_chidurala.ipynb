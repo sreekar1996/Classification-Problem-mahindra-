{
 "cells": [
  {
   "cell_type": "code",
   "execution_count": 1,
   "metadata": {},
   "outputs": [],
   "source": [
    "#imports\n",
    "import numpy as np\n",
    "import pandas as pd\n",
    "import matplotlib.pyplot as plt\n",
    "import seaborn as sns"
   ]
  },
  {
   "cell_type": "code",
   "execution_count": 81,
   "metadata": {},
   "outputs": [],
   "source": [
    "#reading the dataframes\n",
    "data=pd.read_csv(\"training_dataset.csv\")\n",
    "test=pd.read_csv(\"test1_data.csv\")"
   ]
  },
  {
   "cell_type": "code",
   "execution_count": 82,
   "metadata": {},
   "outputs": [
    {
     "data": {
      "text/html": [
       "<div>\n",
       "<style scoped>\n",
       "    .dataframe tbody tr th:only-of-type {\n",
       "        vertical-align: middle;\n",
       "    }\n",
       "\n",
       "    .dataframe tbody tr th {\n",
       "        vertical-align: top;\n",
       "    }\n",
       "\n",
       "    .dataframe thead th {\n",
       "        text-align: right;\n",
       "    }\n",
       "</style>\n",
       "<table border=\"1\" class=\"dataframe\">\n",
       "  <thead>\n",
       "    <tr style=\"text-align: right;\">\n",
       "      <th></th>\n",
       "      <th>Variable1</th>\n",
       "      <th>Variable2</th>\n",
       "      <th>Variable3</th>\n",
       "      <th>Variable4</th>\n",
       "      <th>Variable5</th>\n",
       "      <th>Variable6</th>\n",
       "      <th>Variable7</th>\n",
       "      <th>Variable8</th>\n",
       "      <th>Variable9</th>\n",
       "      <th>Variable10</th>\n",
       "      <th>...</th>\n",
       "      <th>Variable20</th>\n",
       "      <th>Variable21</th>\n",
       "      <th>Variable22</th>\n",
       "      <th>Variable23</th>\n",
       "      <th>Variable24</th>\n",
       "      <th>Variable25</th>\n",
       "      <th>Variable26</th>\n",
       "      <th>Variable27</th>\n",
       "      <th>Variable28</th>\n",
       "      <th>Target</th>\n",
       "    </tr>\n",
       "  </thead>\n",
       "  <tbody>\n",
       "    <tr>\n",
       "      <th>0</th>\n",
       "      <td>1</td>\n",
       "      <td>ARO-4742</td>\n",
       "      <td>1</td>\n",
       "      <td>APHRNG1692</td>\n",
       "      <td>May-16</td>\n",
       "      <td>N</td>\n",
       "      <td>9.314022e+09</td>\n",
       "      <td>Col-6930</td>\n",
       "      <td>PKSA016674</td>\n",
       "      <td>USG1</td>\n",
       "      <td>...</td>\n",
       "      <td>NaN</td>\n",
       "      <td>NaN</td>\n",
       "      <td>VAR SULP TT3 PS</td>\n",
       "      <td>NaN</td>\n",
       "      <td>N</td>\n",
       "      <td>NaN</td>\n",
       "      <td>COM2</td>\n",
       "      <td>1150.0</td>\n",
       "      <td>MFTRC322</td>\n",
       "      <td>0</td>\n",
       "    </tr>\n",
       "    <tr>\n",
       "      <th>1</th>\n",
       "      <td>2</td>\n",
       "      <td>ARO-4928</td>\n",
       "      <td>2</td>\n",
       "      <td>APFPTV9946</td>\n",
       "      <td>Feb-17</td>\n",
       "      <td>N</td>\n",
       "      <td>9.251002e+09</td>\n",
       "      <td>Col-6930</td>\n",
       "      <td>PA2Z013889</td>\n",
       "      <td>USG4</td>\n",
       "      <td>...</td>\n",
       "      <td>NaN</td>\n",
       "      <td>NaN</td>\n",
       "      <td>VAR SULP TT4</td>\n",
       "      <td>NaN</td>\n",
       "      <td>N</td>\n",
       "      <td>NaN</td>\n",
       "      <td>COM1</td>\n",
       "      <td>1150.0</td>\n",
       "      <td>MFTRC322</td>\n",
       "      <td>0</td>\n",
       "    </tr>\n",
       "    <tr>\n",
       "      <th>2</th>\n",
       "      <td>3</td>\n",
       "      <td>ARO-3778</td>\n",
       "      <td>2</td>\n",
       "      <td>APHRNG1692</td>\n",
       "      <td>Dec-15</td>\n",
       "      <td>NaN</td>\n",
       "      <td>9.451552e+09</td>\n",
       "      <td>Col-4259</td>\n",
       "      <td>PCEM018562</td>\n",
       "      <td>USG4</td>\n",
       "      <td>...</td>\n",
       "      <td>NaN</td>\n",
       "      <td>NaN</td>\n",
       "      <td>VAR SULP DI TT3</td>\n",
       "      <td>NaN</td>\n",
       "      <td>N</td>\n",
       "      <td>NaN</td>\n",
       "      <td>COM3</td>\n",
       "      <td>1150.0</td>\n",
       "      <td>MFTRC322</td>\n",
       "      <td>0</td>\n",
       "    </tr>\n",
       "    <tr>\n",
       "      <th>3</th>\n",
       "      <td>4</td>\n",
       "      <td>ARO-4998</td>\n",
       "      <td>1</td>\n",
       "      <td>APFPTV154265</td>\n",
       "      <td>Sep-16</td>\n",
       "      <td>N</td>\n",
       "      <td>9.416109e+09</td>\n",
       "      <td>Col-4259</td>\n",
       "      <td>PTRW14933</td>\n",
       "      <td>USG4</td>\n",
       "      <td>...</td>\n",
       "      <td>NaN</td>\n",
       "      <td>NaN</td>\n",
       "      <td>VAR SULP DI TT3 PS</td>\n",
       "      <td>NaN</td>\n",
       "      <td>N</td>\n",
       "      <td>NaN</td>\n",
       "      <td>COM1</td>\n",
       "      <td>1000.0</td>\n",
       "      <td>MFTRC322</td>\n",
       "      <td>0</td>\n",
       "    </tr>\n",
       "    <tr>\n",
       "      <th>4</th>\n",
       "      <td>5</td>\n",
       "      <td>ARO-3627</td>\n",
       "      <td>2</td>\n",
       "      <td>APHRNG1692</td>\n",
       "      <td>Feb-16</td>\n",
       "      <td>N</td>\n",
       "      <td>9.500040e+09</td>\n",
       "      <td>Col-4259</td>\n",
       "      <td>PAM0026696</td>\n",
       "      <td>USG1</td>\n",
       "      <td>...</td>\n",
       "      <td>NaN</td>\n",
       "      <td>NaN</td>\n",
       "      <td>VAR SULP TT4 PS</td>\n",
       "      <td>NaN</td>\n",
       "      <td>N</td>\n",
       "      <td>NaN</td>\n",
       "      <td>COM1</td>\n",
       "      <td>1150.0</td>\n",
       "      <td>MAHEC465</td>\n",
       "      <td>0</td>\n",
       "    </tr>\n",
       "  </tbody>\n",
       "</table>\n",
       "<p>5 rows × 29 columns</p>\n",
       "</div>"
      ],
      "text/plain": [
       "   Variable1 Variable2  Variable3     Variable4 Variable5 Variable6  \\\n",
       "0          1  ARO-4742          1    APHRNG1692    May-16         N   \n",
       "1          2  ARO-4928          2    APFPTV9946    Feb-17         N   \n",
       "2          3  ARO-3778          2    APHRNG1692    Dec-15       NaN   \n",
       "3          4  ARO-4998          1  APFPTV154265    Sep-16         N   \n",
       "4          5  ARO-3627          2    APHRNG1692    Feb-16         N   \n",
       "\n",
       "      Variable7 Variable8   Variable9 Variable10  ...   Variable20  \\\n",
       "0  9.314022e+09  Col-6930  PKSA016674       USG1  ...          NaN   \n",
       "1  9.251002e+09  Col-6930  PA2Z013889       USG4  ...          NaN   \n",
       "2  9.451552e+09  Col-4259  PCEM018562       USG4  ...          NaN   \n",
       "3  9.416109e+09  Col-4259   PTRW14933       USG4  ...          NaN   \n",
       "4  9.500040e+09  Col-4259  PAM0026696       USG1  ...          NaN   \n",
       "\n",
       "   Variable21          Variable22 Variable23 Variable24  Variable25  \\\n",
       "0         NaN     VAR SULP TT3 PS        NaN          N         NaN   \n",
       "1         NaN        VAR SULP TT4        NaN          N         NaN   \n",
       "2         NaN     VAR SULP DI TT3        NaN          N         NaN   \n",
       "3         NaN  VAR SULP DI TT3 PS        NaN          N         NaN   \n",
       "4         NaN     VAR SULP TT4 PS        NaN          N         NaN   \n",
       "\n",
       "  Variable26 Variable27 Variable28 Target  \n",
       "0       COM2     1150.0   MFTRC322      0  \n",
       "1       COM1     1150.0   MFTRC322      0  \n",
       "2       COM3     1150.0   MFTRC322      0  \n",
       "3       COM1     1000.0   MFTRC322      0  \n",
       "4       COM1     1150.0   MAHEC465      0  \n",
       "\n",
       "[5 rows x 29 columns]"
      ]
     },
     "execution_count": 82,
     "metadata": {},
     "output_type": "execute_result"
    }
   ],
   "source": [
    "data.head()"
   ]
  },
  {
   "cell_type": "code",
   "execution_count": 83,
   "metadata": {},
   "outputs": [
    {
     "data": {
      "text/html": [
       "<div>\n",
       "<style scoped>\n",
       "    .dataframe tbody tr th:only-of-type {\n",
       "        vertical-align: middle;\n",
       "    }\n",
       "\n",
       "    .dataframe tbody tr th {\n",
       "        vertical-align: top;\n",
       "    }\n",
       "\n",
       "    .dataframe thead th {\n",
       "        text-align: right;\n",
       "    }\n",
       "</style>\n",
       "<table border=\"1\" class=\"dataframe\">\n",
       "  <thead>\n",
       "    <tr style=\"text-align: right;\">\n",
       "      <th></th>\n",
       "      <th>Variable1</th>\n",
       "      <th>Variable2</th>\n",
       "      <th>Variable3</th>\n",
       "      <th>Variable4</th>\n",
       "      <th>Variable5</th>\n",
       "      <th>Variable6</th>\n",
       "      <th>Variable7</th>\n",
       "      <th>Variable8</th>\n",
       "      <th>Variable9</th>\n",
       "      <th>Variable10</th>\n",
       "      <th>...</th>\n",
       "      <th>Variable19</th>\n",
       "      <th>Variable20</th>\n",
       "      <th>Variable21</th>\n",
       "      <th>Variable22</th>\n",
       "      <th>Variable23</th>\n",
       "      <th>Variable24</th>\n",
       "      <th>Variable25</th>\n",
       "      <th>Variable26</th>\n",
       "      <th>Variable27</th>\n",
       "      <th>Variable28</th>\n",
       "    </tr>\n",
       "  </thead>\n",
       "  <tbody>\n",
       "    <tr>\n",
       "      <th>0</th>\n",
       "      <td>1</td>\n",
       "      <td>ARO-4910</td>\n",
       "      <td>2</td>\n",
       "      <td>APFPTV9946</td>\n",
       "      <td>Aug-16</td>\n",
       "      <td>N</td>\n",
       "      <td>9.572202e+09</td>\n",
       "      <td>Col-6930</td>\n",
       "      <td>PHDM013553</td>\n",
       "      <td>USG4</td>\n",
       "      <td>...</td>\n",
       "      <td>LHDM12884</td>\n",
       "      <td>NaN</td>\n",
       "      <td>NaN</td>\n",
       "      <td>VAR SULP TT4 PS</td>\n",
       "      <td>NaN</td>\n",
       "      <td>N</td>\n",
       "      <td>NaN</td>\n",
       "      <td>COM3</td>\n",
       "      <td>1900.0</td>\n",
       "      <td>MFTRC322</td>\n",
       "    </tr>\n",
       "    <tr>\n",
       "      <th>1</th>\n",
       "      <td>2</td>\n",
       "      <td>ARO-1926</td>\n",
       "      <td>8</td>\n",
       "      <td>APFPTV111550</td>\n",
       "      <td>Mar-17</td>\n",
       "      <td>NaN</td>\n",
       "      <td>9.600095e+09</td>\n",
       "      <td>Col-6930</td>\n",
       "      <td>PBAL014443</td>\n",
       "      <td>USG4</td>\n",
       "      <td>...</td>\n",
       "      <td>LBAL19777</td>\n",
       "      <td>NaN</td>\n",
       "      <td>NaN</td>\n",
       "      <td>VAR GCN TT4</td>\n",
       "      <td>OCP-4815</td>\n",
       "      <td>N</td>\n",
       "      <td>NaN</td>\n",
       "      <td>COM1</td>\n",
       "      <td>NaN</td>\n",
       "      <td>MFTRC322</td>\n",
       "    </tr>\n",
       "    <tr>\n",
       "      <th>2</th>\n",
       "      <td>3</td>\n",
       "      <td>ARO-1851</td>\n",
       "      <td>2</td>\n",
       "      <td>APHRNG1692</td>\n",
       "      <td>Jan-17</td>\n",
       "      <td>N</td>\n",
       "      <td>9.127022e+09</td>\n",
       "      <td>Col-4259</td>\n",
       "      <td>PSUP013060</td>\n",
       "      <td>USG4</td>\n",
       "      <td>...</td>\n",
       "      <td>LSU014438</td>\n",
       "      <td>NaN</td>\n",
       "      <td>NaN</td>\n",
       "      <td>VAR SULP TT4</td>\n",
       "      <td>NaN</td>\n",
       "      <td>N</td>\n",
       "      <td>NaN</td>\n",
       "      <td>COM1</td>\n",
       "      <td>2000.0</td>\n",
       "      <td>MPUPC287</td>\n",
       "    </tr>\n",
       "    <tr>\n",
       "      <th>3</th>\n",
       "      <td>4</td>\n",
       "      <td>ARO-4081</td>\n",
       "      <td>4</td>\n",
       "      <td>APFPTV154265</td>\n",
       "      <td>Dec-15</td>\n",
       "      <td>NaN</td>\n",
       "      <td>9.400001e+09</td>\n",
       "      <td>Col-4259</td>\n",
       "      <td>PGG026495</td>\n",
       "      <td>USG4</td>\n",
       "      <td>...</td>\n",
       "      <td>LGG112187</td>\n",
       "      <td>NaN</td>\n",
       "      <td>NaN</td>\n",
       "      <td>VAR SULP TT3</td>\n",
       "      <td>OCP-44334</td>\n",
       "      <td>N</td>\n",
       "      <td>NaN</td>\n",
       "      <td>COM1</td>\n",
       "      <td>NaN</td>\n",
       "      <td>MFTRC322</td>\n",
       "    </tr>\n",
       "    <tr>\n",
       "      <th>4</th>\n",
       "      <td>5</td>\n",
       "      <td>ARO-4441</td>\n",
       "      <td>3</td>\n",
       "      <td>APHRNG1692</td>\n",
       "      <td>Jan-16</td>\n",
       "      <td>N</td>\n",
       "      <td>9.134110e+09</td>\n",
       "      <td>Col-6930</td>\n",
       "      <td>PSPL018868</td>\n",
       "      <td>USG2</td>\n",
       "      <td>...</td>\n",
       "      <td>LSP017449</td>\n",
       "      <td>NaN</td>\n",
       "      <td>NaN</td>\n",
       "      <td>VAR SULP TT4</td>\n",
       "      <td>NaN</td>\n",
       "      <td>N</td>\n",
       "      <td>NaN</td>\n",
       "      <td>COM2</td>\n",
       "      <td>1150.0</td>\n",
       "      <td>MFTRC322</td>\n",
       "    </tr>\n",
       "  </tbody>\n",
       "</table>\n",
       "<p>5 rows × 28 columns</p>\n",
       "</div>"
      ],
      "text/plain": [
       "   Variable1 Variable2  Variable3     Variable4 Variable5 Variable6  \\\n",
       "0          1  ARO-4910          2    APFPTV9946    Aug-16         N   \n",
       "1          2  ARO-1926          8  APFPTV111550    Mar-17       NaN   \n",
       "2          3  ARO-1851          2    APHRNG1692    Jan-17         N   \n",
       "3          4  ARO-4081          4  APFPTV154265    Dec-15       NaN   \n",
       "4          5  ARO-4441          3    APHRNG1692    Jan-16         N   \n",
       "\n",
       "      Variable7 Variable8   Variable9 Variable10    ...     Variable19  \\\n",
       "0  9.572202e+09  Col-6930  PHDM013553       USG4    ...      LHDM12884   \n",
       "1  9.600095e+09  Col-6930  PBAL014443       USG4    ...      LBAL19777   \n",
       "2  9.127022e+09  Col-4259  PSUP013060       USG4    ...      LSU014438   \n",
       "3  9.400001e+09  Col-4259   PGG026495       USG4    ...      LGG112187   \n",
       "4  9.134110e+09  Col-6930  PSPL018868       USG2    ...      LSP017449   \n",
       "\n",
       "   Variable20 Variable21       Variable22 Variable23  Variable24 Variable25  \\\n",
       "0         NaN        NaN  VAR SULP TT4 PS        NaN           N        NaN   \n",
       "1         NaN        NaN      VAR GCN TT4   OCP-4815           N        NaN   \n",
       "2         NaN        NaN     VAR SULP TT4        NaN           N        NaN   \n",
       "3         NaN        NaN     VAR SULP TT3  OCP-44334           N        NaN   \n",
       "4         NaN        NaN     VAR SULP TT4        NaN           N        NaN   \n",
       "\n",
       "  Variable26 Variable27 Variable28  \n",
       "0       COM3     1900.0   MFTRC322  \n",
       "1       COM1        NaN   MFTRC322  \n",
       "2       COM1     2000.0   MPUPC287  \n",
       "3       COM1        NaN   MFTRC322  \n",
       "4       COM2     1150.0   MFTRC322  \n",
       "\n",
       "[5 rows x 28 columns]"
      ]
     },
     "execution_count": 83,
     "metadata": {},
     "output_type": "execute_result"
    }
   ],
   "source": [
    "test.head()"
   ]
  },
  {
   "cell_type": "code",
   "execution_count": 84,
   "metadata": {},
   "outputs": [
    {
     "data": {
      "text/plain": [
       "(199609, 29)"
      ]
     },
     "execution_count": 84,
     "metadata": {},
     "output_type": "execute_result"
    }
   ],
   "source": [
    "data.shape"
   ]
  },
  {
   "cell_type": "code",
   "execution_count": 85,
   "metadata": {},
   "outputs": [
    {
     "data": {
      "text/plain": [
       "Variable1       int64\n",
       "Variable2      object\n",
       "Variable3       int64\n",
       "Variable4      object\n",
       "Variable5      object\n",
       "Variable6      object\n",
       "Variable7     float64\n",
       "Variable8      object\n",
       "Variable9      object\n",
       "Variable10     object\n",
       "Variable11     object\n",
       "Variable12    float64\n",
       "Variable13     object\n",
       "Variable14     object\n",
       "Variable15     object\n",
       "Variable16    float64\n",
       "Variable17     object\n",
       "Variable18     object\n",
       "Variable19     object\n",
       "Variable20     object\n",
       "Variable21    float64\n",
       "Variable22     object\n",
       "Variable23     object\n",
       "Variable24     object\n",
       "Variable25     object\n",
       "Variable26     object\n",
       "Variable27    float64\n",
       "Variable28     object\n",
       "Target          int64\n",
       "dtype: object"
      ]
     },
     "execution_count": 85,
     "metadata": {},
     "output_type": "execute_result"
    }
   ],
   "source": [
    "#datatypes\n",
    "data.dtypes\n"
   ]
  },
  {
   "cell_type": "markdown",
   "metadata": {},
   "source": [
    "- chescking if there any null values"
   ]
  },
  {
   "cell_type": "code",
   "execution_count": 87,
   "metadata": {},
   "outputs": [
    {
     "data": {
      "text/plain": [
       "True"
      ]
     },
     "execution_count": 87,
     "metadata": {},
     "output_type": "execute_result"
    }
   ],
   "source": [
    "data.isnull().values.any()"
   ]
  },
  {
   "cell_type": "code",
   "execution_count": 88,
   "metadata": {},
   "outputs": [
    {
     "data": {
      "text/plain": [
       "Variable1         0\n",
       "Variable2         0\n",
       "Variable3         0\n",
       "Variable4         0\n",
       "Variable5         0\n",
       "Variable6     21094\n",
       "Variable7      5335\n",
       "Variable8         0\n",
       "Variable9         0\n",
       "Variable10        0\n",
       "Variable11        0\n",
       "Variable12    16654\n",
       "Variable13        0\n",
       "Variable14        0\n",
       "Variable15        0\n",
       "Variable16    79527\n",
       "Variable17        0\n",
       "Variable18    26727\n",
       "Variable19        0\n",
       "Variable20    79861\n",
       "Variable21    90718\n",
       "Variable22        0\n",
       "Variable23    72858\n",
       "Variable24        0\n",
       "Variable25    83136\n",
       "Variable26        0\n",
       "Variable27    15460\n",
       "Variable28        0\n",
       "dtype: int64"
      ]
     },
     "execution_count": 88,
     "metadata": {},
     "output_type": "execute_result"
    }
   ],
   "source": [
    "test.isnull().sum()"
   ]
  },
  {
   "cell_type": "code",
   "execution_count": 89,
   "metadata": {},
   "outputs": [
    {
     "data": {
      "text/plain": [
       "Variable1          0\n",
       "Variable2          0\n",
       "Variable3          0\n",
       "Variable4          0\n",
       "Variable5          0\n",
       "Variable6      46391\n",
       "Variable7      11535\n",
       "Variable8          0\n",
       "Variable9          0\n",
       "Variable10         0\n",
       "Variable11         0\n",
       "Variable12     36818\n",
       "Variable13         0\n",
       "Variable14         0\n",
       "Variable15         0\n",
       "Variable16    174704\n",
       "Variable17         0\n",
       "Variable18     58539\n",
       "Variable19         0\n",
       "Variable20    175780\n",
       "Variable21    199609\n",
       "Variable22         0\n",
       "Variable23    160126\n",
       "Variable24         0\n",
       "Variable25    182801\n",
       "Variable26         0\n",
       "Variable27     34163\n",
       "Variable28         0\n",
       "Target             0\n",
       "dtype: int64"
      ]
     },
     "execution_count": 89,
     "metadata": {},
     "output_type": "execute_result"
    }
   ],
   "source": [
    "data.isnull().sum()"
   ]
  },
  {
   "cell_type": "code",
   "execution_count": 90,
   "metadata": {},
   "outputs": [
    {
     "data": {
      "text/plain": [
       "Variable1       0.00\n",
       "Variable2       0.00\n",
       "Variable3       0.00\n",
       "Variable4       0.00\n",
       "Variable5       0.00\n",
       "Variable6      23.24\n",
       "Variable7       5.78\n",
       "Variable8       0.00\n",
       "Variable9       0.00\n",
       "Variable10      0.00\n",
       "Variable11      0.00\n",
       "Variable12     18.45\n",
       "Variable13      0.00\n",
       "Variable14      0.00\n",
       "Variable15      0.00\n",
       "Variable16     87.52\n",
       "Variable17      0.00\n",
       "Variable18     29.33\n",
       "Variable19      0.00\n",
       "Variable20     88.06\n",
       "Variable21    100.00\n",
       "Variable22      0.00\n",
       "Variable23     80.22\n",
       "Variable24      0.00\n",
       "Variable25     91.58\n",
       "Variable26      0.00\n",
       "Variable27     17.11\n",
       "Variable28      0.00\n",
       "Target          0.00\n",
       "dtype: float64"
      ]
     },
     "execution_count": 90,
     "metadata": {},
     "output_type": "execute_result"
    }
   ],
   "source": [
    "# Checking the percentage of missing values\n",
    "round(100*(data.isnull().sum()/len(data.index)), 2)"
   ]
  },
  {
   "cell_type": "code",
   "execution_count": 91,
   "metadata": {},
   "outputs": [
    {
     "data": {
      "text/plain": [
       "Variable1       0.00\n",
       "Variable2       0.00\n",
       "Variable3       0.00\n",
       "Variable4       0.00\n",
       "Variable5       0.00\n",
       "Variable6      23.25\n",
       "Variable7       5.88\n",
       "Variable8       0.00\n",
       "Variable9       0.00\n",
       "Variable10      0.00\n",
       "Variable11      0.00\n",
       "Variable12     18.36\n",
       "Variable13      0.00\n",
       "Variable14      0.00\n",
       "Variable15      0.00\n",
       "Variable16     87.66\n",
       "Variable17      0.00\n",
       "Variable18     29.46\n",
       "Variable19      0.00\n",
       "Variable20     88.03\n",
       "Variable21    100.00\n",
       "Variable22      0.00\n",
       "Variable23     80.31\n",
       "Variable24      0.00\n",
       "Variable25     91.64\n",
       "Variable26      0.00\n",
       "Variable27     17.04\n",
       "Variable28      0.00\n",
       "dtype: float64"
      ]
     },
     "execution_count": 91,
     "metadata": {},
     "output_type": "execute_result"
    }
   ],
   "source": [
    "# Checking the percentage of missing values\n",
    "round(100*(test.isnull().sum()/len(test.index)), 2)"
   ]
  },
  {
   "cell_type": "code",
   "execution_count": 92,
   "metadata": {},
   "outputs": [],
   "source": [
    "#missing values with more then 50% are dropped."
   ]
  },
  {
   "cell_type": "code",
   "execution_count": 93,
   "metadata": {},
   "outputs": [],
   "source": [
    "data1 = data.drop(['Variable16','Variable20','Variable21','Variable23', 'Variable25'], 1)"
   ]
  },
  {
   "cell_type": "code",
   "execution_count": 94,
   "metadata": {},
   "outputs": [],
   "source": [
    "test1 = test.drop(['Variable16','Variable20','Variable21','Variable23', 'Variable25'], 1)"
   ]
  },
  {
   "cell_type": "code",
   "execution_count": 95,
   "metadata": {},
   "outputs": [
    {
     "data": {
      "text/plain": [
       "(199609, 24)"
      ]
     },
     "execution_count": 95,
     "metadata": {},
     "output_type": "execute_result"
    }
   ],
   "source": [
    "data1.shape"
   ]
  },
  {
   "cell_type": "code",
   "execution_count": 96,
   "metadata": {},
   "outputs": [
    {
     "data": {
      "text/plain": [
       "Variable1         0\n",
       "Variable2         0\n",
       "Variable3         0\n",
       "Variable4         0\n",
       "Variable5         0\n",
       "Variable6     46391\n",
       "Variable7     11535\n",
       "Variable8         0\n",
       "Variable9         0\n",
       "Variable10        0\n",
       "Variable11        0\n",
       "Variable12    36818\n",
       "Variable13        0\n",
       "Variable14        0\n",
       "Variable15        0\n",
       "Variable17        0\n",
       "Variable18    58539\n",
       "Variable19        0\n",
       "Variable22        0\n",
       "Variable24        0\n",
       "Variable26        0\n",
       "Variable27    34163\n",
       "Variable28        0\n",
       "Target            0\n",
       "dtype: int64"
      ]
     },
     "execution_count": 96,
     "metadata": {},
     "output_type": "execute_result"
    }
   ],
   "source": [
    "data1.isnull().sum()"
   ]
  },
  {
   "cell_type": "code",
   "execution_count": 97,
   "metadata": {},
   "outputs": [
    {
     "data": {
      "text/plain": [
       "Variable1      0.00\n",
       "Variable2      0.00\n",
       "Variable3      0.00\n",
       "Variable4      0.00\n",
       "Variable5      0.00\n",
       "Variable6     23.24\n",
       "Variable7      5.78\n",
       "Variable8      0.00\n",
       "Variable9      0.00\n",
       "Variable10     0.00\n",
       "Variable11     0.00\n",
       "Variable12    18.45\n",
       "Variable13     0.00\n",
       "Variable14     0.00\n",
       "Variable15     0.00\n",
       "Variable17     0.00\n",
       "Variable18    29.33\n",
       "Variable19     0.00\n",
       "Variable22     0.00\n",
       "Variable24     0.00\n",
       "Variable26     0.00\n",
       "Variable27    17.11\n",
       "Variable28     0.00\n",
       "Target         0.00\n",
       "dtype: float64"
      ]
     },
     "execution_count": 97,
     "metadata": {},
     "output_type": "execute_result"
    }
   ],
   "source": [
    "# Checking the percentage of missing values\n",
    "round(100*(data1.isnull().sum()/len(data1.index)), 2)"
   ]
  },
  {
   "cell_type": "code",
   "execution_count": 98,
   "metadata": {},
   "outputs": [
    {
     "name": "stdout",
     "output_type": "stream",
     "text": [
      "Variable1\n",
      "[     1      2      3 ... 199607 199608 199609]\n",
      "199609\n",
      "Variable2\n",
      "['ARO-4742' 'ARO-4928' 'ARO-3778' 'ARO-4998' 'ARO-3627' 'ARO-3608'\n",
      " 'ARO-4005' 'ARO-1926' 'ARO-4441' 'ARO-2917' 'ARO-3076' 'ARO-2201'\n",
      " 'ARO-4910' 'ARO-2179' 'ARO-2441' 'ARO-4022' 'ARO-1851' 'ARO-4081'\n",
      " 'ARO-2734' 'ARO-2812']\n",
      "20\n",
      "Variable3\n",
      "[1 2 4 3 7 0 9 8 6 5]\n",
      "10\n",
      "Variable4\n",
      "['APHRNG1692' 'APFPTV9946' 'APFPTV154265' 'APHRNG24824' 'APFPTV111550'\n",
      " 'APFPTV62618' 'APFIL14991' 'APFPTV104077' 'APFPTV141468' 'APFPTV133257'\n",
      " 'APFPTV43652' 'APFPTV14547' 'APFPTV2784' 'APFPTV54157' 'APFIL31755'\n",
      " 'APFIL24807' 'APFPTV31635' 'APFPTV123179' 'APFPTV8323' 'APFPTV73341']\n",
      "20\n",
      "Variable5\n",
      "['May-16' 'Feb-17' 'Dec-15' 'Sep-16' 'Feb-16' 'Jan-17' 'Aug-16' 'Apr-17'\n",
      " 'Jul-16' 'Apr-16' 'Nov-15' 'Mar-16' 'Jun-16' 'Jan-16' 'Mar-17' 'May-17'\n",
      " 'Oct-16']\n",
      "17\n",
      "Variable6\n",
      "['N' nan 'Y']\n",
      "3\n",
      "Variable7\n",
      "[9.31402210e+09 9.25100168e+09 9.45155193e+09 ... 9.40240289e+09\n",
      " 9.75420134e+09 9.57751472e+09]\n",
      "12256\n",
      "Variable8\n",
      "['Col-6930' 'Col-4259' 'Col-6633' 'Col-9741' 'Col-9851' 'Col-3036'\n",
      " 'Col-5663' 'Col-4330' 'Col-4720' 'Col-5130' 'Col-3908' 'Col-6164'\n",
      " 'Col-4603']\n",
      "13\n",
      "Variable9\n",
      "['PKSA016674' 'PA2Z013889' 'PCEM018562' 'PTRW14933' 'PAM0026696'\n",
      " 'PKRR015283' 'PPM0029821' 'PKD022763' 'PDAMO19064' 'PMLM012244'\n",
      " 'PAUC019509' 'PSDV13035' 'PSHV013616' 'PAD0017516' 'PSFA013354'\n",
      " 'PSUS14695' 'PAM0039938' 'PUN0016618' 'PIGB019389' 'PSTA032050'\n",
      " 'PTIA014478' 'PJS4W16155' 'PKAU017692' 'PSVA013743' 'PWIN018846'\n",
      " 'PAMIT18100' 'PSJ0012050' 'PTAM017914' 'PRDA014221' 'PSCH018698'\n",
      " 'PPPA013910' 'PUTK017120' 'PGG011104' 'PPAW014079' 'PUNI012992'\n",
      " 'PUNTA12962' 'PKAW013776' 'PSLA012759' 'PRAJV15218' 'PVDM014171'\n",
      " 'PKA0013885' 'PSAPT19182' 'PPRV16366' 'PKRNT12885' 'PITL019680'\n",
      " 'PCA0012759' 'PVIN015098' 'PSTA022542' 'PBEL015702' 'PAGRW11053'\n",
      " 'PBUA012380' 'PSHU011735' 'PRSA017268' 'PPARA11744' 'PARAN11130'\n",
      " 'PINR14118' 'PSAH011128' 'PNB0018706' 'PSTA016524' 'PBHL015070'\n",
      " 'PSUT019809' 'PRIM013094' 'PANT016983' 'PPNJ16522' 'PSKS028131'\n",
      " 'PKSM015632' 'PNAF017044' 'PLO0017233' 'PGJA019897' 'PSH016709'\n",
      " 'PDE4W14969' 'PBAS011245' 'PSRE016077' 'PSHT017349' 'PVC0015606'\n",
      " 'PRAJI17358' 'PKUM015765' 'PCI0012722' 'PRNS012229' 'PAAW018991'\n",
      " 'PRTN19317' 'PDPM011782' 'PSUP028101' 'PRAJE15882' 'PSPL018868'\n",
      " 'PKHM019305' 'PNEX011195' 'PRAJ013213' 'PSTP19035' 'PVV0017932'\n",
      " 'PINM18210' 'PSUT024785' 'PSANG19508' 'PTVS012132' 'PAVC015671'\n",
      " 'PAR0011710' 'PNAR012515' 'PBHAG19502' 'PPATW11881' 'PIGM015360'\n",
      " 'PMN0016123' 'PTVS032446' 'PJKA013333' 'PSH0013468' 'PGG026495'\n",
      " 'PBRA012585' 'PDEA016058' 'PIG015655' 'PSSW017225' 'PAUTW14708'\n",
      " 'PABA019285' 'PSTR18708' 'PPM0011793' 'PPRM011171' 'PMV0019900'\n",
      " 'PMGB011336' 'PUJW12238' 'PHAV019005' 'PGT0014425' 'PSJ017406'\n",
      " 'PSA0014837' 'PPNJ24041' 'PSRG14975' 'PRAM014432' 'PMM0019624'\n",
      " 'PGEH018281' 'PHORA21460' 'PTVS044818' 'PSHA028397' 'PKTC016254'\n",
      " 'PSTAR17185' 'PKU0016363' 'PSNM017023' 'PBAL014443' 'PAAUT12615'\n",
      " 'PLRA013664' 'PZUL015933' 'PMY0012993' 'PRTH019713' 'PHORA11179'\n",
      " 'PCRV17956' 'PBAJ018859' 'PSKL14630' 'PBRW15590' 'PAIA015320'\n",
      " 'PKIR019374' 'PSUP013060' 'PATL14832' 'PJM0017807' 'PHDM013553'\n",
      " 'PSLM019725' 'PANM013675' 'PGAN016615' 'PSAR012974' 'PSNT018189'\n",
      " 'PEAF16218' 'PRAMP11443' 'PSRC017238' 'PMOE019713' 'PMRS13515'\n",
      " 'PSAG019018' 'PRAG011953' 'PJN012750' 'PMOH017996' 'PSIM016804'\n",
      " 'PSHV16909' 'PNEM014961' 'PMAK013277' 'PSTM016282' 'PROY019848'\n",
      " 'PSWA025292' 'PMINA11408' 'PJAT015026' 'PAPA019653' 'POSM012321'\n",
      " 'PKBS017214' 'PMFP014285' 'PBIK018750' 'PNAG017063' 'POMA012977'\n",
      " 'PMO0016794' 'PST0013362' 'PACM012527' 'PROA018497' 'PSDV23977'\n",
      " 'PHM0014073' 'PNAM013549' 'PPAC015229' 'PASM016950' 'PSTL11714'\n",
      " 'PSUNS15551' 'PSKA011871' 'PEVG016112' 'PBLM013229' 'PRAJM17771'\n",
      " 'PAMO011391' 'PAKS18880' 'PBMN19066' 'PONS019668' 'PMGA18622'\n",
      " 'PMUA012665' 'PHAT015766' 'PBAI014147' 'PNM0015750' 'PASH018869'\n",
      " 'PMEET18983' 'PPATW27396' 'PSIT019358' 'PHAR027973' 'PSOM019552'\n",
      " 'PVINM19383' 'PMKM014746' 'PSHR15530' 'PTEM017274' 'PGM0018659'\n",
      " 'PRJA015526' 'PHIB017243' 'PDUA017590' 'PCSA017940' 'PIAL011306'\n",
      " 'PGDM012234' 'PBIM019144' 'PMMT015226' 'PVIJ012226' 'PAGR014598'\n",
      " 'PSNA012972' 'PBHF012520' 'PHAR013900' 'PBGM012387' 'PPRTK12498'\n",
      " 'PBHW019774' 'PNAK17880' 'PMIG018019' 'PSW0016192' 'PPUN019569'\n",
      " 'PSIA012536' 'PNAT012531' 'PBAW012143' 'PIFE018948' 'PRAU017587'\n",
      " 'PCMM012990' 'PMSM013128' 'PSATY14517' 'PMDM016249' 'PSRI022336'\n",
      " 'PJSS015489' 'PLEA012480' 'PROH011680' 'PSYR017918' 'PASMO17904'\n",
      " 'PSHRD16234' 'PSHI015195' 'PAMI013636' 'PRDA024956' 'PUTK024089'\n",
      " 'PGLM11101' 'PVTA018554' 'PICO013657' 'PVA0016850' 'PSPL036321'\n",
      " 'PMP018995' 'PSRCC19099' 'PVAK015238' 'PJW017039' 'PGUPT13356'\n",
      " 'PSIK019226' 'PMAM017715' 'PPAH012049' 'PSURY19886' 'PSON018392']\n",
      "270\n",
      "Variable10\n",
      "['USG1' 'USG4' 'USG2' 'USG3']\n",
      "4\n",
      "Variable11\n",
      "['LOTYPE1000' 'LOTYPE500' 'LOTYPE100']\n",
      "3\n",
      "Variable12\n",
      "[180.  80. 100. 300. 120. 200.  60.  70.  30. 650.  nan  90. 150. 250.\n",
      "  65. 170. 160.  40. 130. 110. 400.  75.  50. 125. 175.  22. 500.  44.\n",
      "  55.  85.  68.  25.  72.  45. 185. 122. 104.  86.  17. 140.  20.  35.\n",
      " 350.  58. 225.  12. 165.  74. 123. 158.  78.  83.  95. 190. 568. 280.\n",
      " 102. 210. 145. 450. 212.  10.  15. 251. 105.  76. 335.  52.   1.  81.\n",
      " 155.  69. 258.  84. 600. 108.   5. 121. 260.  67. 109. 288.  48. 142.\n",
      " 230. 143. 179. 128. 111. 222. 240. 231. 252. 135. 115.  57.  56.  82.\n",
      " 211.  64. 550.   8.  63.   2. 215.  98. 487. 380.  18. 270.  99. 157.\n",
      " 208. 220.  42.  92. 198. 196. 420. 202. 152. 114. 245. 209. 224. 132.\n",
      "  96.  23.  24.  62.  88. 147. 358. 235. 248. 112.  54.  43.  53.  66.\n",
      " 268.  59.  87. 312. 126. 103.  14.  36.  39.  97. 124. 167. 253. 168.\n",
      " 134. 106. 255. 188.  28. 563. 182.   3. 569.   4. 101.  89. 154. 286.\n",
      "  27. 136.  93.  11. 138. 526.  38. 156.  13. 558.  33.  49. 275. 129.\n",
      " 325. 523. 360. 256. 141. 520. 148. 370. 290.   6. 178.  79. 369. 144.\n",
      " 340.  46. 580. 645. 214. 203. 233. 118. 632. 385.  32.  37. 229. 408.\n",
      " 204. 566.  73. 186.  34. 330. 355. 320. 265.  16. 458. 480.   7. 555.\n",
      "  19.  77. 195. 508. 183. 133. 107. 509.  47. 470. 189. 285. 560.  26.\n",
      " 153. 206. 466.   9.  71. 308. 362. 236. 247. 176. 228. 305.  51. 365.\n",
      " 221. 232. 321. 291. 127. 601. 169.  21. 608. 116. 213. 533. 172. 139.\n",
      "  41. 528. 151. 557.  29. 199. 159. 375. 578. 254. 223. 421. 197. 259.\n",
      " 241. 113. 444. 352. 263. 166. 544. 336. 246. 510. 525. 266. 540. 218.\n",
      " 187. 588. 244. 131. 137. 582. 456. 412. 460. 201. 535.  94. 310. 635.\n",
      " 226. 620. 163. 545. 234. 205. 242.  31. 581. 367. 334. 440. 585.  61.\n",
      " 162. 117. 238. 177. 164. 119. 422.  91. 502. 146. 455. 299. 278. 149.\n",
      " 390. 505. 636. 322. 457. 295. 410. 552. 216. 640. 512. 351. 570. 333.\n",
      " 477. 274. 239. 503. 610. 485. 326. 257. 217. 184. 430. 192.]\n",
      "362\n",
      "Variable13\n",
      "['SC-80722' 'SC-67221' 'SC-168364' 'SC-12110' 'SC-40875' 'SC-67514'\n",
      " 'SC-56521' 'SC-114907' 'SC-67019' 'SC-131130' 'SC-191457' 'SC-26387'\n",
      " 'SC-110459' 'SC-57557' 'SC-11796' 'SC-143532' 'SC-117288' 'SC-140689'\n",
      " 'SC-127083' 'SC-169172' 'SC-86119' 'SC-62952' 'SC-62835' 'SC-88522']\n",
      "24\n",
      "Variable14\n",
      "['B191' 'C818' 'E919' 'D452' 'A121']\n",
      "5\n",
      "Variable15\n",
      "['Type-206' 'Type-367' 'Type-326' 'Type-291' 'Type-240']\n",
      "5\n",
      "Variable17\n",
      "['MFTRV9754' 'MTTV8432' 'MOTV11811' 'MMMV5201' 'MNNV12321' 'MPGV13018'\n",
      " 'MBJV14831' 'MAAV8527' 'MFMV14090' 'MALV6680' 'MTVV11032' 'MSIV9444'\n",
      " 'MRNV9809' 'MMRV7780' 'MSILV4745' 'MKMV5934' 'MSCIV8628']\n",
      "17\n",
      "Variable18\n",
      "['N' nan 'Y' 'S' 'C' 'G' 'P']\n",
      "7\n",
      "Variable19\n",
      "['LKSA18434' 'LA2Z11295' 'LCEM41939' 'LTW013178' 'LAUM32146' 'LAUM14430'\n",
      " 'LAM163241' 'LKRR15616' 'LAM154273' 'LPM019450' 'LKD039864' 'LDM047094'\n",
      " 'LMLM17944' 'LAUC23008' 'LSD017882' 'LSH066739' 'LAD012487' 'LAUC38851'\n",
      " 'LSFA14516' 'LSU022034' 'LAUM75027' 'LUN041748' 'LIGB24977' 'LSAM14596'\n",
      " 'LTIA27068' 'LDM011762' 'LJSW16763' 'LKAU12321' 'LSVA18166' 'LWN042748'\n",
      " 'LAMT19474' 'LSJ083157' 'LUN066944' 'LTAM17517' 'LAUC13692' 'LRD037737'\n",
      " 'LSCH49382' 'LPP019939' 'LUTK46390' 'LGG017856' 'LPAW13873' 'LUNI11915'\n",
      " 'LUNT65816' 'LKAW29381' 'LSLA15269' 'LRAV14709' 'LVDM16786' 'LKA057608'\n",
      " 'LSAP17541' 'LPV013217' 'LKRN67880' 'LIT029981' 'LAMT48335' 'LCA111664'\n",
      " 'LVIN13388' 'LSTA19032' 'LBEL35121' 'LAGW11603' 'LBUA25276' 'LSHU11349'\n",
      " 'LRSA13099' 'LPMT15128' 'LARN25365' 'LIN015660' 'LTIA16453' 'LSN013065'\n",
      " 'LSH056540' 'LNB034106' 'LSAU19376' 'LPP026186' 'LSJ072609' 'LBHL13447'\n",
      " 'LSA037981' 'LRIM11828' 'LANT56061' 'LPB026861' 'LSKS12968' 'LKSM28738'\n",
      " 'LCA094004' 'LSH017291' 'LNAF11084' 'LCA122710' 'LLO048425' 'LAD027315'\n",
      " 'LGJA19639' 'LSH032247' 'LDF036997' 'LKRN21250' 'LBAS55838' 'LSD021324'\n",
      " 'LSRE13825' 'LUNT27162' 'LSHT19551' 'LVC012159' 'LANT32096' 'LAMT53977'\n",
      " 'LRIA32395' 'LSJ016439' 'LSCH18403' 'LKUM18727' 'LCI029952' 'LRNS14419'\n",
      " 'LAAW42122' 'LRT011653' 'LDPM44906' 'LSUP15436' 'LRIA17392' 'LRAW28064'\n",
      " 'LSP017449' 'LKHM24777' 'LNX014005' 'LRAJ39955' 'LSA011380' 'LVV017988'\n",
      " 'LIT019370' 'LSNG16923' 'LSH144881' 'LPM023601' 'LTS071445' 'LSJ137353'\n",
      " 'LAVC12291' 'LAR013167' 'LCA079663' 'LNRN13916' 'LBHG15877' 'LTS156200'\n",
      " 'LPTW21876' 'LIGM11973' 'LMN017243' 'LTV024292' 'LJK018474' 'LSH028602'\n",
      " 'LGG112187' 'LBRA33032' 'LDEA64135' 'LIG022206' 'LKSA23810' 'LKSA66869'\n",
      " 'LSSW22768' 'LATW19806' 'LAB019471' 'LST064778' 'LPM051927' 'LPA011281'\n",
      " 'LMV014826' 'LMGB15320' 'LUJ014569' 'LHAV26591' 'LGT053601' 'LTS021823'\n",
      " 'LAVC26359' 'LSJB56449' 'LPB041392' 'LSAU36040' 'LSR019089' 'LRAS11351'\n",
      " 'LMM015253' 'LGEH17625' 'LHOR22936' 'LBAS61087' 'LTI037728' 'LSH128250'\n",
      " 'LSHA11497' 'LKTC16868' 'LSIA11144' 'LKU019278' 'LSNM15897' 'LRIA49479'\n",
      " 'LBAL19777' 'LAAM15117' 'LLRA26735' 'LGT128559' 'LZUL11488' 'LRAW15778'\n",
      " 'LKA016578' 'LPAW55939' 'LDF015440' 'LMY029126' 'LKHM39894' 'LRTH15049'\n",
      " 'LBUA12581' 'LSRD11458' 'LCR011426' 'LTS188106' 'LUN031440' 'LTS171447'\n",
      " 'LGG086438' 'LTS094459' 'LGT062577' 'LBAJ11347' 'LIT079482' 'LIGB59116'\n",
      " 'LAM284922' 'LDEA43664' 'LSK017258' 'LKRN11966' 'LAUM52708' 'LUTK16458'\n",
      " 'LPP034195' 'LVC022284' 'LBH015933' 'LAIA13443' 'LKI047403' 'LSU033609'\n",
      " 'LRIM37969' 'LAT013679' 'LJM025420' 'LRT029550' 'LHDM12884' 'LSLM19747'\n",
      " 'LANM22757' 'LGA019290' 'LAAW15701' 'LKI014870' 'LRAJ22395' 'LSAR14566'\n",
      " 'LSNT18519' 'LEA016632' 'LRAM14058' 'LVV038177' 'LSRC28818' 'LME014435'\n",
      " 'LMS018428' 'LSAG15832' 'LRAG16944' 'LJN014000' 'LMOH37605' 'LRD047955'\n",
      " 'LSIM12414' 'LKRN46168' 'LSRD31734' 'LSCH57769' 'LSV011340' 'LNEM17487'\n",
      " 'LMK029949' 'LSTM15552' 'LRO032160' 'LSWA25609' 'LRAW36901' 'LMIN12742'\n",
      " 'LSTA36903' 'LJSW39829' 'LBEL18441' 'LMK014653' 'LJTR16460' 'LAP015734'\n",
      " 'LUNT77972' 'LOSM11867' 'LMV021548' 'LKBS29383' 'LATL26975' 'LMFP32261'\n",
      " 'LBIK35476' 'LLRA17726' 'LNAG23072' 'LMM023116' 'LRAG79949' 'LLO016149'\n",
      " 'LOMA12335' 'LKAW15342' 'LMO015879' 'LRAW48375' 'LUN029621' 'LSHT24475'\n",
      " 'LST019544' 'LACM11382' 'LBAS32688' 'LIG045677' 'LROA14481' 'LSDR16979'\n",
      " 'LHM019517' 'LNAM11274' 'LBIK17085' 'LBAS23493' 'LBHL24939' 'LPAC24200'\n",
      " 'LASM15997' 'LST031017' 'LCEM18574' 'LSSA23489' 'LIT058393' 'LKD048094'\n",
      " 'LSKA13417' 'LEVG55307' 'LBLM18965' 'LRM015512' 'LSSW17408' 'LAMO16654'\n",
      " 'LJN087206' 'LAMT35983' 'LNRN38528' 'LDM057530' 'LSNM27973' 'LAA016386'\n",
      " 'LBM021120' 'LONS15553' 'LMG011707' 'LBM013947' 'LPM043983' 'LMU013380'\n",
      " 'LARN14640' 'LJN117995' 'LHAT11118' 'LUN019316' 'LTS168580' 'LNRN42246'\n",
      " 'LKAU27225' 'LBRA13215' 'LCA104715' 'LBAI21141' 'LNM011683' 'LJM039097'\n",
      " 'LAM426471' 'LPV027920' 'LASH12482' 'LMEE12893' 'LUTK88564' 'LLO035538'\n",
      " 'LSU014438' 'LKBS12701' 'LPTW16671' 'LSIT15505' 'LHBR15244' 'LKUM28459'\n",
      " 'LRD013496' 'LUTK33433' 'LSOM19016' 'LVNM13333' 'LMKM11390' 'LKSM73248'\n",
      " 'LJN037658' 'LBUA49518' 'LSIA52612' 'LIT034581' 'LTEM13682' 'LGM011123'\n",
      " 'LRJA12901' 'LHIB11983' 'LDPM13211' 'LDUA15795' 'LSFA27095' 'LPA028335'\n",
      " 'LCSA29914' 'LAR027931' 'LRD065656' 'LIAL13709' 'LIN124230' 'LGDM16820'\n",
      " 'LBIM19655' 'LUTK66728' 'LMY032371' 'LBRA25330' 'LMMT17701' 'LBAI19454'\n",
      " 'LBAL63566' 'LVJ019356' 'LAGR24497' 'LAVC39719' 'LSNV54286' 'LMO027929'\n",
      " 'LIT195511' 'LSH109028' 'LCSA38991' 'LSRC16954' 'LBRA43266' 'LDEA21804'\n",
      " 'LBF012395' 'LHM023872' 'LDEA78396' 'LWN058579' 'LHAR17360' 'LBGM15713'\n",
      " 'LSNT22755' 'LSDR37045' 'LPRK21828' 'LSIM61700' 'LRAG69459' 'LBHW19636'\n",
      " 'LKRR26592' 'LRAJ58280' 'LMIG19652' 'LSW019911' 'LMS034495' 'LSNV14055'\n",
      " 'LPUN15919' 'LMU032312' 'LNM024029' 'LGM021780' 'LUNT54093' 'LTV117136'\n",
      " 'LNAT59755' 'LBUA32429' 'LBW017314' 'LUTK72485' 'LEVG35990' 'LAGR15285'\n",
      " 'LPRK49745' 'LIFE14849' 'LRAU18586' 'LPB014743' 'LCMM14773' 'LME039103'\n",
      " 'LKUM39902' 'LKSA34244' 'LMSM19343' 'LNX023088' 'LSAT15734' 'LSNV69792'\n",
      " 'LSJ022192' 'LEVG26405' 'LOSM31430' 'LMDM18777' 'LSRI23373' 'LSAT42270'\n",
      " 'LVV069364' 'LRAM23363' 'LJSS16649' 'LSIT32144' 'LEVG18411' 'LLEA13359'\n",
      " 'LSH087222' 'LROH17389' 'LST028967' 'LRAS63593' 'LNAT27069' 'LSYR12411'\n",
      " 'LTIA34057' 'LASA19682' 'LVDM31579' 'LNRN77459' 'LROA38476' 'LPRK17624'\n",
      " 'LKI033267' 'LST091015' 'LSHD11354' 'LHOR18900' 'LSHI18278' 'LSNV34631'\n",
      " 'LWN026343' 'LAM017603' 'LIT096015' 'LMIN24475' 'LAMT72318' 'LSCH33118'\n",
      " 'LSNV47531' 'LSIM42794' 'LRDA11070' 'LSH093669' 'LRDA24480' 'LBAS48898'\n",
      " 'LSA058861' 'LUTL19290' 'LUN056033' 'LOSM42594' 'LAUC85660' 'LROA52117'\n",
      " 'LGL015851' 'LROH22635' 'LBIK24461' 'LCI018593' 'LVTA15453' 'LGT013062'\n",
      " 'LMLM24044' 'LMOH49754' 'LSKD12390' 'LICO22571' 'LANT16826' 'LVA027954'\n",
      " 'LMU045978' 'LSP041772' 'LSRD26599' 'LSA098682' 'LMN031973' 'LMP035947'\n",
      " 'LTS018919' 'LAAM24546' 'LPAW41936' 'LRJA36048' 'LSG016785' 'LSG041506'\n",
      " 'LAGR43534' 'LSYR29383' 'LMG021007' 'LIGM36285' 'LMFP22787' 'LGEH26307'\n",
      " 'LIGB62040' 'LSKS98200' 'LMFP41060' 'LVAK18878' 'LBIM24483' 'LAIA26150'\n",
      " 'LSG027838' 'LJDW17658' 'LNM044222' 'LNAG48126' 'LMY056966' 'LGUP13360'\n",
      " 'LSIK17898' 'LROA47018' 'LIT206466' 'LGG133636' 'LSAT39841' 'LASM62933'\n",
      " 'LMN027058' 'LIT121636' 'LRAJ18539' 'LZUL23085' 'LARN36129' 'LJM121006'\n",
      " 'LMFP14857' 'LBHG24998' 'LPV052135' 'LSJ031802' 'LNAG64086' 'LSA086604'\n",
      " 'LGA035559' 'LMAM17770' 'LBRA52779' 'LKRN91023' 'LNRN67175' 'LANM36640'\n",
      " 'LPAH22064' 'LAM385354' 'LSRY16397' 'LIN094258' 'LIN022565' 'LMY041491'\n",
      " 'LIGM41310' 'LAM372365' 'LSON43975' 'LASM55140' 'LAMO36652' 'LPAW35093'\n",
      " 'LNAT11255' 'LMP089197' 'LJSW41762' 'LKSM48803' 'LVA019053' 'LKSA58120']\n",
      "540\n",
      "Variable22\n",
      "['VAR SULP TT3 PS' 'VAR SULP TT4' 'VAR SULP DI TT3' 'VAR SULP DI TT3 PS'\n",
      " 'VAR SULP TT4 PS' 'VAR SULP TT3' 'VAR STD TT3' 'VAR GCN TT4'\n",
      " 'VAR FE TT3 REF' 'VAR FE TT3' 'VAR SULP TT4 PS CBC' 'MMT DX 2WD'\n",
      " 'VAR STD TT3 REF PS' 'VAR STD TT3 REF' 'MMT 2WD' 'MMT GCN']\n",
      "16\n",
      "Variable24\n",
      "['N' 'Y']\n",
      "2\n",
      "Variable26\n",
      "['COM2' 'COM1' 'COM3']\n",
      "3\n",
      "Variable27\n",
      "[1.150e+03 1.000e+03 2.400e+03 2.000e+03 1.500e+03 1.200e+03       nan\n",
      " 2.500e+03 1.250e+03 2.300e+03 1.400e+03 3.000e+03 1.200e+01 1.800e+03\n",
      " 1.560e+03 2.200e+03 1.100e+03 5.000e+02 1.600e+03 1.550e+03 8.000e+02\n",
      " 1.000e+02 1.350e+03 1.140e+03 2.000e+02 2.658e+03 1.700e+03 1.135e+03\n",
      " 2.100e+03 1.255e+03 2.150e+03 1.280e+03 9.900e+02 1.480e+03 7.500e+02\n",
      " 1.100e+01 8.600e+02 3.800e+01 1.000e+00 1.158e+03 6.000e+02 2.000e+01\n",
      " 1.300e+03 1.180e+03 1.050e+03 1.580e+03 1.150e+02 7.000e+02 2.660e+03\n",
      " 1.160e+03 2.598e+03 2.400e+02 1.200e+02 1.170e+03 7.680e+02 1.125e+03\n",
      " 5.000e+01 1.900e+03 1.400e+02 2.500e+02 2.700e+03 1.750e+03 1.850e+03\n",
      " 2.350e+03 1.120e+03 4.800e+01 1.450e+03 2.600e+03 2.280e+03 5.600e+01\n",
      " 5.500e+02 2.523e+03 1.205e+03 1.500e+02 1.258e+03 8.090e+02 1.235e+03\n",
      " 5.800e+02 8.500e+02 2.800e+03 3.000e+02 2.640e+03 8.000e+01 2.450e+03\n",
      " 9.500e+02 1.290e+03 1.240e+03 2.250e+03 1.156e+03 9.000e+02 2.580e+03\n",
      " 8.500e+01 4.000e+02 2.000e+00 1.208e+03 3.000e+01 6.300e+01 2.220e+03\n",
      " 1.100e+02 1.500e+01 4.500e+02 5.200e+02 2.800e+02 8.000e+00 1.300e+02\n",
      " 1.256e+03 1.650e+03 1.452e+03 1.508e+03 3.500e+01 7.650e+02 2.560e+03\n",
      " 5.000e+00 2.550e+03 1.880e+03 6.500e+01 1.000e+01 5.400e+01 2.900e+03\n",
      " 7.580e+02 3.200e+02 1.242e+03 1.234e+03 1.111e+03 1.010e+03 3.240e+02\n",
      " 1.324e+03 2.645e+03 1.710e+03 1.253e+03 2.580e+02 2.508e+03 1.080e+03\n",
      " 1.040e+03 9.750e+02 9.800e+02 1.808e+03 1.090e+03 2.200e+02 1.410e+03\n",
      " 4.550e+02 1.008e+03 2.080e+02 2.500e+01 2.460e+03 2.600e+01 2.135e+03\n",
      " 2.568e+03 3.400e+02 1.250e+02 2.480e+02 3.400e+01 1.270e+03 2.564e+03\n",
      " 2.750e+03 1.660e+03 1.950e+03 4.000e+00 1.244e+03 6.500e+02 4.500e+01\n",
      " 1.334e+03 9.000e+01 2.350e+02 7.800e+02 1.157e+03 1.380e+03 1.260e+03\n",
      " 2.525e+03 1.108e+03 1.800e+02 1.122e+03 8.750e+02 1.105e+03 1.588e+03\n",
      " 3.500e+02 2.548e+03 2.008e+03 5.400e+02 2.453e+03 4.200e+01 1.254e+03\n",
      " 8.980e+02 3.600e+01 1.152e+03 9.500e+01 1.680e+03 4.560e+02 4.000e+01\n",
      " 2.545e+03 6.800e+02 1.155e+03 2.588e+03 2.540e+03 6.750e+02 3.900e+01\n",
      " 1.586e+03 6.000e+00 1.308e+03 1.005e+03 7.100e+02 2.020e+03 2.258e+03\n",
      " 2.600e+02 8.900e+02 1.300e+01 1.230e+02 7.750e+02 1.458e+03 1.178e+03\n",
      " 1.110e+03 1.530e+03 1.760e+03 6.850e+02 1.245e+03 2.050e+03 5.600e+02\n",
      " 2.650e+03 2.856e+03 6.840e+02 5.800e+01 5.900e+02 1.060e+03 5.670e+02\n",
      " 1.540e+03 8.250e+02 5.050e+02 1.220e+03 2.690e+03 2.220e+02 7.000e+00\n",
      " 2.100e+01 2.874e+03 8.700e+02 1.130e+03 1.288e+03 2.880e+03 1.440e+03\n",
      " 1.520e+02 1.212e+03 2.225e+03 7.000e+01 2.589e+03 1.190e+03 3.000e+00\n",
      " 3.200e+01 2.558e+03 2.120e+03 2.700e+02 9.250e+02 2.180e+03 6.250e+02\n",
      " 1.950e+02 1.001e+03 9.600e+02 1.088e+03 1.590e+03 1.400e+01 8.800e+02\n",
      " 9.800e+01 6.550e+02 9.450e+02 2.250e+02 1.025e+03 1.020e+03 8.550e+02\n",
      " 7.090e+02 5.850e+02 1.420e+03 2.308e+03 2.123e+03 1.545e+03 1.080e+02\n",
      " 2.380e+03 1.700e+02 7.400e+02 1.350e+02 7.560e+02 4.540e+02 2.850e+03\n",
      " 3.900e+02 9.380e+02 5.500e+01 2.884e+03 8.580e+02 7.500e+01 1.058e+03\n",
      " 2.543e+03 2.870e+02 2.328e+03 2.980e+03 3.300e+01 8.350e+02 2.563e+03\n",
      " 3.700e+01 8.200e+02 1.225e+03 1.960e+03 1.890e+03 2.585e+03 1.708e+03\n",
      " 2.654e+03 2.950e+03 8.080e+02 6.000e+01 3.360e+02 6.800e+01 1.145e+03\n",
      " 1.770e+03 7.800e+01 1.460e+03 1.455e+03 2.505e+03 1.748e+03 6.880e+02\n",
      " 1.408e+03 4.750e+02 2.300e+02 1.705e+03 2.620e+03 2.514e+03 1.285e+03\n",
      " 3.800e+02 2.520e+02 2.200e+01 1.110e+02 2.945e+03 1.980e+03 1.642e+03\n",
      " 1.411e+03 2.108e+03 4.700e+02 1.351e+03 1.358e+03 1.448e+03 1.356e+03\n",
      " 9.650e+02 2.540e+02 1.563e+03 1.352e+03 9.630e+02 2.450e+02 1.536e+03\n",
      " 6.450e+02 2.586e+03 1.506e+03 2.233e+03 2.643e+03 1.908e+03 2.356e+03\n",
      " 1.423e+03 9.580e+02 2.088e+03 1.425e+03 1.070e+03 2.541e+03 1.580e+02\n",
      " 1.330e+03 1.542e+03 2.754e+03 2.001e+03 4.440e+02 6.900e+02 2.565e+03\n",
      " 6.230e+02 1.658e+03 5.530e+02 9.080e+02 1.575e+03 1.758e+03 8.880e+02\n",
      " 2.222e+03 1.442e+03 1.548e+03 1.247e+03 2.680e+03 6.200e+02 2.587e+03\n",
      " 9.560e+02 9.880e+02 2.960e+03 1.780e+02 2.958e+03 1.820e+02 7.450e+02\n",
      " 1.335e+03 2.208e+03 5.300e+02 1.477e+03 1.148e+03 1.800e+01 2.515e+03\n",
      " 1.507e+03 1.252e+03 2.536e+03 1.159e+03 4.800e+02 2.358e+03 2.546e+03\n",
      " 1.585e+03 8.280e+02 6.080e+02 5.200e+01 1.230e+03 1.280e+02 5.690e+02\n",
      " 6.600e+02 1.810e+02 5.010e+02 2.520e+03 1.085e+03 8.860e+02 1.551e+03\n",
      " 1.600e+01 1.121e+03 9.950e+02 1.457e+03 5.660e+02 5.080e+02 1.241e+03\n",
      " 7.080e+02 1.860e+03 1.523e+03 2.530e+03 2.456e+03 2.630e+03 1.532e+03\n",
      " 1.520e+03 1.768e+03 1.002e+03 2.125e+03 2.570e+03 1.470e+03 1.050e+02\n",
      " 2.345e+03 2.465e+03 1.231e+03 2.260e+03 2.230e+03 1.286e+03 6.580e+02\n",
      " 7.550e+02 1.456e+03 5.880e+02 2.522e+03 9.690e+02 3.330e+02 1.236e+03\n",
      " 2.550e+02 1.320e+03 1.332e+03 1.233e+03 8.680e+02 1.540e+02 8.100e+02\n",
      " 5.580e+02 5.550e+02 1.210e+03 2.140e+02 1.028e+03 8.530e+02 4.700e+01\n",
      " 8.400e+01 8.540e+02 1.555e+03 1.750e+02 1.547e+03 8.560e+02 1.265e+03\n",
      " 4.320e+02 5.700e+02 1.556e+03 1.120e+02 6.400e+02 1.214e+03 1.260e+02\n",
      " 8.520e+02 2.965e+03 5.450e+02 4.690e+02 1.259e+03 1.504e+03 1.470e+02\n",
      " 1.115e+03 1.223e+03 2.080e+03 2.555e+03 9.700e+01 1.888e+03 2.145e+03\n",
      " 1.553e+03 2.616e+03 1.382e+03 4.150e+02 1.780e+03 7.890e+02 2.534e+03\n",
      " 2.255e+03 9.840e+02 5.350e+02 2.685e+03 1.321e+03 5.870e+02 1.624e+03\n",
      " 2.845e+03 5.560e+02 1.510e+03 3.100e+01 1.123e+03 1.550e+02 2.100e+02\n",
      " 1.228e+03 2.340e+03 2.415e+03 2.435e+03 2.340e+02 2.880e+02 9.200e+02\n",
      " 6.520e+02 1.124e+03 2.425e+03 1.266e+03 1.220e+02 4.850e+02 1.360e+03\n",
      " 2.010e+03 1.567e+03 1.180e+02 1.401e+03 3.980e+02 6.540e+02 2.110e+02\n",
      " 2.635e+03 2.758e+03 2.888e+03 2.551e+03 2.521e+03 5.650e+02 1.600e+02\n",
      " 2.583e+03 4.480e+02 1.160e+02 1.222e+03 1.521e+03 8.650e+02 1.572e+03\n",
      " 3.600e+02 8.700e+01 5.860e+02 1.154e+03 1.328e+03 2.887e+03 4.100e+02\n",
      " 1.958e+03 1.432e+03 7.850e+02 8.320e+02 4.250e+02 8.900e+01 4.360e+02\n",
      " 2.615e+03 2.360e+03 2.756e+03 2.311e+03 8.300e+02 4.300e+01 2.535e+03\n",
      " 3.700e+02 1.427e+03 1.566e+03 2.252e+03 8.950e+02 1.900e+02 2.154e+03\n",
      " 2.528e+03 2.608e+03 1.377e+03 2.388e+03 1.880e+02 1.175e+03 2.547e+03\n",
      " 5.760e+02 2.805e+03 2.544e+03 2.509e+03 1.552e+03 7.780e+02 1.089e+03\n",
      " 7.200e+02 1.690e+03 2.050e+02 1.805e+03 5.680e+02 2.653e+03 1.251e+03\n",
      " 1.128e+03 1.528e+03 5.750e+02 1.654e+03 2.452e+03 1.151e+03 1.440e+02\n",
      " 1.608e+03 2.642e+03 5.420e+02 2.800e+01 1.344e+03 1.257e+03 5.070e+02\n",
      " 4.900e+02 1.501e+03 9.000e+00 1.851e+03 2.584e+03 5.250e+02]\n",
      "615\n",
      "Variable28\n",
      "['MFTRC322' 'MAHEC465' 'MOTHC256' 'M207C366' 'MCLC206' 'MMXTC301'\n",
      " 'M407C478' 'MMXLC411' 'MNNC253' 'MSAC149' 'MATPC187' 'M3WC484' 'MALC416'\n",
      " 'MBMC478' 'MSHC198' 'MKKC229' 'MPUPC287' 'MAC1C442' 'MDTC240' 'MCMC184'\n",
      " 'MGDCC141' 'MAPEC287' 'MZPC395' 'MAMTC330' 'MMGC353' 'MT15C184' 'MJEC268'\n",
      " 'MREC307' 'MAPC370' 'MGCC486' 'MGSCC179' 'MRE60C435' 'MT40C420'\n",
      " 'MCDCC489' 'MMMVC205' 'M3WLC288' 'MMDC159' 'MMLC137' 'MGIOPC419'\n",
      " 'MGIOC405' 'MKGC494' 'MVKRC387' 'MLOC123' 'MBLC451' 'MTTC212' 'MSGC374'\n",
      " 'MTXC348' 'MTCC192' 'MTMC199' 'MCPC434' 'MMIC217' 'MTFC136' 'MEOC207'\n",
      " 'MVKC205' 'MKM1C247' 'MTGC410' 'MKM2C342' 'M3WVLC490' 'MOMC293'\n",
      " 'MKM3C298' 'MSCRC165' 'MWRC277' 'MXYC496']\n",
      "63\n",
      "Target\n",
      "[0 1]\n",
      "2\n"
     ]
    }
   ],
   "source": [
    "#all the features are in category ,lets see whats there in it\n",
    "for i in data1.columns:\n",
    "    print(i)\n",
    "    print(data1[i].unique())\n",
    "    print(len(data1[i].unique()))"
   ]
  },
  {
   "cell_type": "code",
   "execution_count": 99,
   "metadata": {},
   "outputs": [
    {
     "data": {
      "text/plain": [
       "Variable1       int64\n",
       "Variable2      object\n",
       "Variable3       int64\n",
       "Variable4      object\n",
       "Variable5      object\n",
       "Variable6      object\n",
       "Variable7     float64\n",
       "Variable8      object\n",
       "Variable9      object\n",
       "Variable10     object\n",
       "Variable11     object\n",
       "Variable12    float64\n",
       "Variable13     object\n",
       "Variable14     object\n",
       "Variable15     object\n",
       "Variable17     object\n",
       "Variable18     object\n",
       "Variable19     object\n",
       "Variable22     object\n",
       "Variable24     object\n",
       "Variable26     object\n",
       "Variable27    float64\n",
       "Variable28     object\n",
       "Target          int64\n",
       "dtype: object"
      ]
     },
     "execution_count": 99,
     "metadata": {},
     "output_type": "execute_result"
    }
   ],
   "source": [
    "data1.dtypes"
   ]
  },
  {
   "cell_type": "code",
   "execution_count": 100,
   "metadata": {},
   "outputs": [
    {
     "data": {
      "text/plain": [
       "array([     1,      2,      3, ..., 199607, 199608, 199609], dtype=int64)"
      ]
     },
     "execution_count": 100,
     "metadata": {},
     "output_type": "execute_result"
    }
   ],
   "source": [
    "#Variable1\n",
    "data1.Variable1.unique()"
   ]
  },
  {
   "cell_type": "code",
   "execution_count": 101,
   "metadata": {},
   "outputs": [
    {
     "data": {
      "text/plain": [
       "array(['ARO-4742', 'ARO-4928', 'ARO-3778', 'ARO-4998', 'ARO-3627',\n",
       "       'ARO-3608', 'ARO-4005', 'ARO-1926', 'ARO-4441', 'ARO-2917',\n",
       "       'ARO-3076', 'ARO-2201', 'ARO-4910', 'ARO-2179', 'ARO-2441',\n",
       "       'ARO-4022', 'ARO-1851', 'ARO-4081', 'ARO-2734', 'ARO-2812'],\n",
       "      dtype=object)"
      ]
     },
     "execution_count": 101,
     "metadata": {},
     "output_type": "execute_result"
    }
   ],
   "source": [
    "#Variable2\n",
    "data1.Variable2.unique()"
   ]
  },
  {
   "cell_type": "code",
   "execution_count": 102,
   "metadata": {},
   "outputs": [
    {
     "data": {
      "text/plain": [
       "array(['APHRNG1692', 'APFPTV9946', 'APFPTV154265', 'APHRNG24824',\n",
       "       'APFPTV111550', 'APFPTV62618', 'APFIL14991', 'APFPTV104077',\n",
       "       'APFPTV141468', 'APFPTV133257', 'APFPTV43652', 'APFPTV14547',\n",
       "       'APFPTV2784', 'APFPTV54157', 'APFIL31755', 'APFIL24807',\n",
       "       'APFPTV31635', 'APFPTV123179', 'APFPTV8323', 'APFPTV73341'],\n",
       "      dtype=object)"
      ]
     },
     "execution_count": 102,
     "metadata": {},
     "output_type": "execute_result"
    }
   ],
   "source": [
    "#variable4\n",
    "data1.Variable4.unique()"
   ]
  },
  {
   "cell_type": "code",
   "execution_count": 103,
   "metadata": {},
   "outputs": [
    {
     "data": {
      "text/plain": [
       "array(['May-16', 'Feb-17', 'Dec-15', 'Sep-16', 'Feb-16', 'Jan-17',\n",
       "       'Aug-16', 'Apr-17', 'Jul-16', 'Apr-16', 'Nov-15', 'Mar-16',\n",
       "       'Jun-16', 'Jan-16', 'Mar-17', 'May-17', 'Oct-16'], dtype=object)"
      ]
     },
     "execution_count": 103,
     "metadata": {},
     "output_type": "execute_result"
    }
   ],
   "source": [
    "#variable5\n",
    "data1.Variable5.unique()"
   ]
  },
  {
   "cell_type": "code",
   "execution_count": 104,
   "metadata": {},
   "outputs": [
    {
     "data": {
      "text/plain": [
       "array(['N', nan, 'Y'], dtype=object)"
      ]
     },
     "execution_count": 104,
     "metadata": {},
     "output_type": "execute_result"
    }
   ],
   "source": [
    "#variable6\n",
    "data1.Variable6.unique()"
   ]
  },
  {
   "cell_type": "code",
   "execution_count": 105,
   "metadata": {},
   "outputs": [
    {
     "data": {
      "text/plain": [
       "array(['Col-6930', 'Col-4259', 'Col-6633', 'Col-9741', 'Col-9851',\n",
       "       'Col-3036', 'Col-5663', 'Col-4330', 'Col-4720', 'Col-5130',\n",
       "       'Col-3908', 'Col-6164', 'Col-4603'], dtype=object)"
      ]
     },
     "execution_count": 105,
     "metadata": {},
     "output_type": "execute_result"
    }
   ],
   "source": [
    "#variable8\n",
    "data1.Variable8.unique()"
   ]
  },
  {
   "cell_type": "code",
   "execution_count": 106,
   "metadata": {},
   "outputs": [
    {
     "data": {
      "text/plain": [
       "270"
      ]
     },
     "execution_count": 106,
     "metadata": {},
     "output_type": "execute_result"
    }
   ],
   "source": [
    "#variable9\n",
    "data1.Variable9.unique()\n",
    "len(data1.Variable9.unique())"
   ]
  },
  {
   "cell_type": "code",
   "execution_count": 107,
   "metadata": {},
   "outputs": [
    {
     "data": {
      "text/plain": [
       "array(['USG1', 'USG4', 'USG2', 'USG3'], dtype=object)"
      ]
     },
     "execution_count": 107,
     "metadata": {},
     "output_type": "execute_result"
    }
   ],
   "source": [
    "#variable10\n",
    "data1.Variable10.unique()"
   ]
  },
  {
   "cell_type": "code",
   "execution_count": 108,
   "metadata": {},
   "outputs": [
    {
     "data": {
      "text/plain": [
       "array(['LOTYPE1000', 'LOTYPE500', 'LOTYPE100'], dtype=object)"
      ]
     },
     "execution_count": 108,
     "metadata": {},
     "output_type": "execute_result"
    }
   ],
   "source": [
    "#variable11\n",
    "data1.Variable11.unique()"
   ]
  },
  {
   "cell_type": "code",
   "execution_count": 109,
   "metadata": {},
   "outputs": [
    {
     "data": {
      "text/plain": [
       "array(['SC-80722', 'SC-67221', 'SC-168364', 'SC-12110', 'SC-40875',\n",
       "       'SC-67514', 'SC-56521', 'SC-114907', 'SC-67019', 'SC-131130',\n",
       "       'SC-191457', 'SC-26387', 'SC-110459', 'SC-57557', 'SC-11796',\n",
       "       'SC-143532', 'SC-117288', 'SC-140689', 'SC-127083', 'SC-169172',\n",
       "       'SC-86119', 'SC-62952', 'SC-62835', 'SC-88522'], dtype=object)"
      ]
     },
     "execution_count": 109,
     "metadata": {},
     "output_type": "execute_result"
    }
   ],
   "source": [
    "#variable13\n",
    "data1.Variable13.unique()"
   ]
  },
  {
   "cell_type": "code",
   "execution_count": 110,
   "metadata": {},
   "outputs": [
    {
     "data": {
      "text/plain": [
       "array(['B191', 'C818', 'E919', 'D452', 'A121'], dtype=object)"
      ]
     },
     "execution_count": 110,
     "metadata": {},
     "output_type": "execute_result"
    }
   ],
   "source": [
    "#variable14\n",
    "data1.Variable14.unique()"
   ]
  },
  {
   "cell_type": "code",
   "execution_count": 111,
   "metadata": {},
   "outputs": [
    {
     "data": {
      "text/plain": [
       "array(['Type-206', 'Type-367', 'Type-326', 'Type-291', 'Type-240'],\n",
       "      dtype=object)"
      ]
     },
     "execution_count": 111,
     "metadata": {},
     "output_type": "execute_result"
    }
   ],
   "source": [
    "#variable15\n",
    "data1.Variable15.unique()"
   ]
  },
  {
   "cell_type": "code",
   "execution_count": 112,
   "metadata": {},
   "outputs": [
    {
     "data": {
      "text/plain": [
       "array(['MFTRV9754', 'MTTV8432', 'MOTV11811', 'MMMV5201', 'MNNV12321',\n",
       "       'MPGV13018', 'MBJV14831', 'MAAV8527', 'MFMV14090', 'MALV6680',\n",
       "       'MTVV11032', 'MSIV9444', 'MRNV9809', 'MMRV7780', 'MSILV4745',\n",
       "       'MKMV5934', 'MSCIV8628'], dtype=object)"
      ]
     },
     "execution_count": 112,
     "metadata": {},
     "output_type": "execute_result"
    }
   ],
   "source": [
    "#variable17\n",
    "data1.Variable17.unique()"
   ]
  },
  {
   "cell_type": "code",
   "execution_count": 113,
   "metadata": {},
   "outputs": [
    {
     "data": {
      "text/plain": [
       "array(['N', nan, 'Y', 'S', 'C', 'G', 'P'], dtype=object)"
      ]
     },
     "execution_count": 113,
     "metadata": {},
     "output_type": "execute_result"
    }
   ],
   "source": [
    "#variable18\n",
    "data1.Variable18.unique()"
   ]
  },
  {
   "cell_type": "code",
   "execution_count": 114,
   "metadata": {},
   "outputs": [
    {
     "data": {
      "text/plain": [
       "540"
      ]
     },
     "execution_count": 114,
     "metadata": {},
     "output_type": "execute_result"
    }
   ],
   "source": [
    "#variable19\n",
    "len(data1.Variable19.unique())"
   ]
  },
  {
   "cell_type": "code",
   "execution_count": 115,
   "metadata": {},
   "outputs": [
    {
     "data": {
      "text/plain": [
       "array(['VAR SULP TT3 PS', 'VAR SULP TT4', 'VAR SULP DI TT3',\n",
       "       'VAR SULP DI TT3 PS', 'VAR SULP TT4 PS', 'VAR SULP TT3',\n",
       "       'VAR STD TT3', 'VAR GCN TT4', 'VAR FE TT3 REF', 'VAR FE TT3',\n",
       "       'VAR SULP TT4 PS CBC', 'MMT DX 2WD', 'VAR STD TT3 REF PS',\n",
       "       'VAR STD TT3 REF', 'MMT 2WD', 'MMT GCN'], dtype=object)"
      ]
     },
     "execution_count": 115,
     "metadata": {},
     "output_type": "execute_result"
    }
   ],
   "source": [
    "#variable22\n",
    "data1.Variable22.unique()"
   ]
  },
  {
   "cell_type": "code",
   "execution_count": 116,
   "metadata": {},
   "outputs": [
    {
     "data": {
      "text/plain": [
       "array(['N', 'Y'], dtype=object)"
      ]
     },
     "execution_count": 116,
     "metadata": {},
     "output_type": "execute_result"
    }
   ],
   "source": [
    "#variable24\n",
    "data1.Variable24.unique()"
   ]
  },
  {
   "cell_type": "code",
   "execution_count": 117,
   "metadata": {},
   "outputs": [
    {
     "data": {
      "text/plain": [
       "array(['COM2', 'COM1', 'COM3'], dtype=object)"
      ]
     },
     "execution_count": 117,
     "metadata": {},
     "output_type": "execute_result"
    }
   ],
   "source": [
    "#variable26\n",
    "data1.Variable26.unique()"
   ]
  },
  {
   "cell_type": "code",
   "execution_count": 118,
   "metadata": {},
   "outputs": [
    {
     "data": {
      "text/plain": [
       "63"
      ]
     },
     "execution_count": 118,
     "metadata": {},
     "output_type": "execute_result"
    }
   ],
   "source": [
    "#variable28\n",
    "len(data1.Variable28.unique())"
   ]
  },
  {
   "cell_type": "code",
   "execution_count": 119,
   "metadata": {},
   "outputs": [
    {
     "data": {
      "text/plain": [
       "Variable1         0\n",
       "Variable2         0\n",
       "Variable3         0\n",
       "Variable4         0\n",
       "Variable5         0\n",
       "Variable6     46391\n",
       "Variable7     11535\n",
       "Variable8         0\n",
       "Variable9         0\n",
       "Variable10        0\n",
       "Variable11        0\n",
       "Variable12    36818\n",
       "Variable13        0\n",
       "Variable14        0\n",
       "Variable15        0\n",
       "Variable17        0\n",
       "Variable18    58539\n",
       "Variable19        0\n",
       "Variable22        0\n",
       "Variable24        0\n",
       "Variable26        0\n",
       "Variable27    34163\n",
       "Variable28        0\n",
       "Target            0\n",
       "dtype: int64"
      ]
     },
     "execution_count": 119,
     "metadata": {},
     "output_type": "execute_result"
    }
   ],
   "source": [
    "data1.isnull().sum()"
   ]
  },
  {
   "cell_type": "code",
   "execution_count": 120,
   "metadata": {},
   "outputs": [
    {
     "data": {
      "text/plain": [
       "array(['N', nan, 'Y'], dtype=object)"
      ]
     },
     "execution_count": 120,
     "metadata": {},
     "output_type": "execute_result"
    }
   ],
   "source": [
    "#variable6\n",
    "data1.Variable6.unique()"
   ]
  },
  {
   "cell_type": "code",
   "execution_count": 121,
   "metadata": {},
   "outputs": [
    {
     "data": {
      "text/plain": [
       "<matplotlib.axes._subplots.AxesSubplot at 0x2b3c8495a58>"
      ]
     },
     "execution_count": 121,
     "metadata": {},
     "output_type": "execute_result"
    },
    {
     "data": {
      "image/png": "[encoded data removed]",
      "text/plain": [
       "<Figure size 432x288 with 1 Axes>"
      ]
     },
     "metadata": {
      "needs_background": "light"
     },
     "output_type": "display_data"
    }
   ],
   "source": [
    "#lets analyse in bar plot\n",
    "data1.Variable6.value_counts().plot(kind=\"bar\",rot = 0)\n",
    "#N is higher in range"
   ]
  },
  {
   "cell_type": "code",
   "execution_count": 122,
   "metadata": {},
   "outputs": [
    {
     "data": {
      "text/plain": [
       "<matplotlib.axes._subplots.AxesSubplot at 0x2b3c7fc8748>"
      ]
     },
     "execution_count": 122,
     "metadata": {},
     "output_type": "execute_result"
    },
    {
     "data": {
      "image/png": "[encoded data removed]",
      "text/plain": [
       "<Figure size 432x288 with 1 Axes>"
      ]
     },
     "metadata": {
      "needs_background": "light"
     },
     "output_type": "display_data"
    }
   ],
   "source": [
    "test1.Variable6.value_counts().plot(kind=\"bar\",rot = 0)"
   ]
  },
  {
   "cell_type": "code",
   "execution_count": 123,
   "metadata": {},
   "outputs": [],
   "source": [
    "#since most of the values are NO ,lets impute the missing value with N\n",
    "data1['Variable6'].fillna('N',inplace=True)\n"
   ]
  },
  {
   "cell_type": "code",
   "execution_count": 124,
   "metadata": {},
   "outputs": [],
   "source": [
    "#since most of the values are NO ,lets impute the missing value with N\n",
    "test1['Variable6'].fillna('N',inplace=True)"
   ]
  },
  {
   "cell_type": "code",
   "execution_count": 125,
   "metadata": {},
   "outputs": [
    {
     "data": {
      "text/plain": [
       "array([9.31402210e+09, 9.25100168e+09, 9.45155193e+09, ...,\n",
       "       9.40240289e+09, 9.75420134e+09, 9.57751472e+09])"
      ]
     },
     "execution_count": 125,
     "metadata": {},
     "output_type": "execute_result"
    }
   ],
   "source": [
    "#variable6\n",
    "data1.Variable7.unique()"
   ]
  },
  {
   "cell_type": "code",
   "execution_count": 126,
   "metadata": {},
   "outputs": [
    {
     "data": {
      "text/plain": [
       "<matplotlib.axes._subplots.AxesSubplot at 0x2b3bda2a160>"
      ]
     },
     "execution_count": 126,
     "metadata": {},
     "output_type": "execute_result"
    },
    {
     "data": {
      "image/png": "[encoded data removed]",
      "text/plain": [
       "<Figure size 432x288 with 1 Axes>"
      ]
     },
     "metadata": {
      "needs_background": "light"
     },
     "output_type": "display_data"
    }
   ],
   "source": [
    "data1.Variable7.plot(kind='hist', color='green')    # not a perfect normal distribution"
   ]
  },
  {
   "cell_type": "code",
   "execution_count": 127,
   "metadata": {},
   "outputs": [
    {
     "name": "stderr",
     "output_type": "stream",
     "text": [
      "C:\\Users\\sreekar chidurala\\Anaconda3\\lib\\site-packages\\sklearn\\utils\\deprecation.py:58: DeprecationWarning: Class Imputer is deprecated; Imputer was deprecated in version 0.20 and will be removed in 0.22. Import impute.SimpleImputer from sklearn instead.\n",
      "  warnings.warn(msg, category=DeprecationWarning)\n"
     ]
    }
   ],
   "source": [
    "#not a normal distribution.lets impute missing value with median\n",
    "from sklearn.preprocessing import Imputer\n",
    "imputer = Imputer(missing_values=np.nan, strategy='median', axis=0)\n",
    "data1[['Variable7']] = imputer.fit_transform(data1[['Variable7']])"
   ]
  },
  {
   "cell_type": "code",
   "execution_count": 128,
   "metadata": {},
   "outputs": [
    {
     "name": "stderr",
     "output_type": "stream",
     "text": [
      "C:\\Users\\sreekar chidurala\\Anaconda3\\lib\\site-packages\\sklearn\\utils\\deprecation.py:58: DeprecationWarning: Class Imputer is deprecated; Imputer was deprecated in version 0.20 and will be removed in 0.22. Import impute.SimpleImputer from sklearn instead.\n",
      "  warnings.warn(msg, category=DeprecationWarning)\n"
     ]
    }
   ],
   "source": [
    "#not a normal distribution.lets impute missing value with median\n",
    "from sklearn.preprocessing import Imputer\n",
    "imputer = Imputer(missing_values=np.nan, strategy='median', axis=0)\n",
    "test1[['Variable7']] = imputer.fit_transform(test1[['Variable7']])"
   ]
  },
  {
   "cell_type": "code",
   "execution_count": 129,
   "metadata": {},
   "outputs": [
    {
     "data": {
      "text/plain": [
       "362"
      ]
     },
     "execution_count": 129,
     "metadata": {},
     "output_type": "execute_result"
    }
   ],
   "source": [
    "#variable12\n",
    "len(data1.Variable12.unique())"
   ]
  },
  {
   "cell_type": "code",
   "execution_count": 234,
   "metadata": {},
   "outputs": [],
   "source": [
    "#data1.Variable12.value_counts().plot(kind=\"bar\",rot = 0)"
   ]
  },
  {
   "cell_type": "code",
   "execution_count": 51,
   "metadata": {},
   "outputs": [
    {
     "data": {
      "text/plain": [
       "100.0    29883\n",
       "150.0    20218\n",
       "80.0     13174\n",
       "200.0    11006\n",
       "650.0    10644\n",
       "Name: Variable12, dtype: int64"
      ]
     },
     "execution_count": 51,
     "metadata": {},
     "output_type": "execute_result"
    }
   ],
   "source": [
    "data1.Variable12.value_counts().head()\n",
    "#100 has max frequency"
   ]
  },
  {
   "cell_type": "code",
   "execution_count": 131,
   "metadata": {},
   "outputs": [],
   "source": [
    "#imputing the mode value 100\n",
    "data1['Variable12'].fillna(data1['Variable12'].value_counts().index[0],inplace=True)"
   ]
  },
  {
   "cell_type": "code",
   "execution_count": 132,
   "metadata": {},
   "outputs": [],
   "source": [
    "#imputing to test\n",
    "test1['Variable12'].fillna(data1['Variable12'].value_counts().index[0],inplace=True)"
   ]
  },
  {
   "cell_type": "code",
   "execution_count": 133,
   "metadata": {},
   "outputs": [
    {
     "data": {
      "text/plain": [
       "Variable1         0\n",
       "Variable2         0\n",
       "Variable3         0\n",
       "Variable4         0\n",
       "Variable5         0\n",
       "Variable6         0\n",
       "Variable7         0\n",
       "Variable8         0\n",
       "Variable9         0\n",
       "Variable10        0\n",
       "Variable11        0\n",
       "Variable12        0\n",
       "Variable13        0\n",
       "Variable14        0\n",
       "Variable15        0\n",
       "Variable17        0\n",
       "Variable18    58539\n",
       "Variable19        0\n",
       "Variable22        0\n",
       "Variable24        0\n",
       "Variable26        0\n",
       "Variable27    34163\n",
       "Variable28        0\n",
       "Target            0\n",
       "dtype: int64"
      ]
     },
     "execution_count": 133,
     "metadata": {},
     "output_type": "execute_result"
    }
   ],
   "source": [
    "data1.isnull().sum()"
   ]
  },
  {
   "cell_type": "code",
   "execution_count": 134,
   "metadata": {},
   "outputs": [
    {
     "data": {
      "text/plain": [
       "array(['N', nan, 'Y', 'S', 'C', 'G', 'P'], dtype=object)"
      ]
     },
     "execution_count": 134,
     "metadata": {},
     "output_type": "execute_result"
    }
   ],
   "source": [
    "data1.Variable18.unique()"
   ]
  },
  {
   "cell_type": "code",
   "execution_count": 135,
   "metadata": {},
   "outputs": [
    {
     "data": {
      "text/plain": [
       "<matplotlib.axes._subplots.AxesSubplot at 0x2b3bda824a8>"
      ]
     },
     "execution_count": 135,
     "metadata": {},
     "output_type": "execute_result"
    },
    {
     "data": {
      "image/png": "[encoded data removed]",
      "text/plain": [
       "<Figure size 432x288 with 1 Axes>"
      ]
     },
     "metadata": {
      "needs_background": "light"
     },
     "output_type": "display_data"
    }
   ],
   "source": [
    "data1.Variable18.value_counts().plot(kind=\"bar\",rot = 0)"
   ]
  },
  {
   "cell_type": "code",
   "execution_count": 136,
   "metadata": {},
   "outputs": [
    {
     "data": {
      "text/plain": [
       "<matplotlib.axes._subplots.AxesSubplot at 0x2b3cf885160>"
      ]
     },
     "execution_count": 136,
     "metadata": {},
     "output_type": "execute_result"
    },
    {
     "data": {
      "image/png": "[encoded data removed]",
      "text/plain": [
       "<Figure size 432x288 with 1 Axes>"
      ]
     },
     "metadata": {
      "needs_background": "light"
     },
     "output_type": "display_data"
    }
   ],
   "source": [
    "test1.Variable18.value_counts().plot(kind=\"bar\",rot = 0)"
   ]
  },
  {
   "cell_type": "code",
   "execution_count": 137,
   "metadata": {},
   "outputs": [],
   "source": [
    "#imputing null with 'N'   ( mode value)\n",
    "data1['Variable18'].fillna('N',inplace=True)"
   ]
  },
  {
   "cell_type": "code",
   "execution_count": 138,
   "metadata": {},
   "outputs": [],
   "source": [
    "#imputing null with 'N'\n",
    "test1['Variable18'].fillna('N',inplace=True)"
   ]
  },
  {
   "cell_type": "code",
   "execution_count": 139,
   "metadata": {},
   "outputs": [
    {
     "data": {
      "text/plain": [
       "615"
      ]
     },
     "execution_count": 139,
     "metadata": {},
     "output_type": "execute_result"
    }
   ],
   "source": [
    "len(data1.Variable27.unique())"
   ]
  },
  {
   "cell_type": "code",
   "execution_count": 140,
   "metadata": {},
   "outputs": [
    {
     "data": {
      "text/plain": [
       "<matplotlib.axes._subplots.AxesSubplot at 0x2b3cf8c2470>"
      ]
     },
     "execution_count": 140,
     "metadata": {},
     "output_type": "execute_result"
    },
    {
     "data": {
      "image/png": "[encoded data removed]",
      "text/plain": [
       "<Figure size 432x288 with 1 Axes>"
      ]
     },
     "metadata": {
      "needs_background": "light"
     },
     "output_type": "display_data"
    }
   ],
   "source": [
    "data1.Variable27.plot(kind='hist', color='green')"
   ]
  },
  {
   "cell_type": "code",
   "execution_count": 141,
   "metadata": {},
   "outputs": [],
   "source": [
    "#lets impute null with median"
   ]
  },
  {
   "cell_type": "code",
   "execution_count": 142,
   "metadata": {},
   "outputs": [],
   "source": [
    "data1[['Variable27']] = imputer.fit_transform(data1[['Variable27']])"
   ]
  },
  {
   "cell_type": "code",
   "execution_count": 143,
   "metadata": {},
   "outputs": [],
   "source": [
    "test1[['Variable27']] = imputer.fit_transform(test1[['Variable27']])"
   ]
  },
  {
   "cell_type": "code",
   "execution_count": 144,
   "metadata": {},
   "outputs": [
    {
     "data": {
      "text/plain": [
       "Variable1     0\n",
       "Variable2     0\n",
       "Variable3     0\n",
       "Variable4     0\n",
       "Variable5     0\n",
       "Variable6     0\n",
       "Variable7     0\n",
       "Variable8     0\n",
       "Variable9     0\n",
       "Variable10    0\n",
       "Variable11    0\n",
       "Variable12    0\n",
       "Variable13    0\n",
       "Variable14    0\n",
       "Variable15    0\n",
       "Variable17    0\n",
       "Variable18    0\n",
       "Variable19    0\n",
       "Variable22    0\n",
       "Variable24    0\n",
       "Variable26    0\n",
       "Variable27    0\n",
       "Variable28    0\n",
       "Target        0\n",
       "dtype: int64"
      ]
     },
     "execution_count": 144,
     "metadata": {},
     "output_type": "execute_result"
    }
   ],
   "source": [
    "data1.isnull().sum()   ## no missing values"
   ]
  },
  {
   "cell_type": "code",
   "execution_count": 145,
   "metadata": {},
   "outputs": [
    {
     "data": {
      "text/plain": [
       "(199609, 24)"
      ]
     },
     "execution_count": 145,
     "metadata": {},
     "output_type": "execute_result"
    }
   ],
   "source": [
    "data1.shape"
   ]
  },
  {
   "cell_type": "code",
   "execution_count": 146,
   "metadata": {},
   "outputs": [
    {
     "data": {
      "text/plain": [
       "(90718, 23)"
      ]
     },
     "execution_count": 146,
     "metadata": {},
     "output_type": "execute_result"
    }
   ],
   "source": [
    "test1.shape"
   ]
  },
  {
   "cell_type": "code",
   "execution_count": 147,
   "metadata": {},
   "outputs": [
    {
     "data": {
      "text/plain": [
       "Variable1     0\n",
       "Variable2     0\n",
       "Variable3     0\n",
       "Variable4     0\n",
       "Variable5     0\n",
       "Variable6     0\n",
       "Variable7     0\n",
       "Variable8     0\n",
       "Variable9     0\n",
       "Variable10    0\n",
       "Variable11    0\n",
       "Variable12    0\n",
       "Variable13    0\n",
       "Variable14    0\n",
       "Variable15    0\n",
       "Variable17    0\n",
       "Variable18    0\n",
       "Variable19    0\n",
       "Variable22    0\n",
       "Variable24    0\n",
       "Variable26    0\n",
       "Variable27    0\n",
       "Variable28    0\n",
       "dtype: int64"
      ]
     },
     "execution_count": 147,
     "metadata": {},
     "output_type": "execute_result"
    }
   ],
   "source": [
    "test1.isnull().sum()     #no missing values for test too"
   ]
  },
  {
   "cell_type": "markdown",
   "metadata": {},
   "source": [
    "- since All ML algorithms wont understand the object variables , we need to lebel the category varibels to int type"
   ]
  },
  {
   "cell_type": "code",
   "execution_count": null,
   "metadata": {},
   "outputs": [],
   "source": [
    "# lest use LabelEncoder"
   ]
  },
  {
   "cell_type": "code",
   "execution_count": 16,
   "metadata": {},
   "outputs": [],
   "source": [
    "from sklearn.preprocessing import LabelEncoder\n",
    "le=LabelEncoder()"
   ]
  },
  {
   "cell_type": "code",
   "execution_count": 17,
   "metadata": {},
   "outputs": [],
   "source": [
    "for col in test1.columns.values:\n",
    "        #Encoding only categorical variables\n",
    "    if test1[col].dtypes=='object':\n",
    "       # Using whole data to form an exhaustive list of levels\n",
    "       W_data=data1[col].append(test1[col])\n",
    "       le.fit(W_data.values)\n",
    "       data1[col]=le.transform(data1[col])\n",
    "       test1[col]=le.transform(test1[col])"
   ]
  },
  {
   "cell_type": "code",
   "execution_count": 18,
   "metadata": {},
   "outputs": [
    {
     "data": {
      "text/html": [
       "<div>\n",
       "<style scoped>\n",
       "    .dataframe tbody tr th:only-of-type {\n",
       "        vertical-align: middle;\n",
       "    }\n",
       "\n",
       "    .dataframe tbody tr th {\n",
       "        vertical-align: top;\n",
       "    }\n",
       "\n",
       "    .dataframe thead th {\n",
       "        text-align: right;\n",
       "    }\n",
       "</style>\n",
       "<table border=\"1\" class=\"dataframe\">\n",
       "  <thead>\n",
       "    <tr style=\"text-align: right;\">\n",
       "      <th></th>\n",
       "      <th>Variable1</th>\n",
       "      <th>Variable2</th>\n",
       "      <th>Variable3</th>\n",
       "      <th>Variable4</th>\n",
       "      <th>Variable5</th>\n",
       "      <th>Variable6</th>\n",
       "      <th>Variable7</th>\n",
       "      <th>Variable8</th>\n",
       "      <th>Variable9</th>\n",
       "      <th>Variable10</th>\n",
       "      <th>...</th>\n",
       "      <th>Variable15</th>\n",
       "      <th>Variable17</th>\n",
       "      <th>Variable18</th>\n",
       "      <th>Variable19</th>\n",
       "      <th>Variable22</th>\n",
       "      <th>Variable24</th>\n",
       "      <th>Variable26</th>\n",
       "      <th>Variable27</th>\n",
       "      <th>Variable28</th>\n",
       "      <th>Target</th>\n",
       "    </tr>\n",
       "  </thead>\n",
       "  <tbody>\n",
       "    <tr>\n",
       "      <th>0</th>\n",
       "      <td>1</td>\n",
       "      <td>16</td>\n",
       "      <td>1</td>\n",
       "      <td>18</td>\n",
       "      <td>12</td>\n",
       "      <td>0</td>\n",
       "      <td>9.314022e+09</td>\n",
       "      <td>11</td>\n",
       "      <td>102</td>\n",
       "      <td>0</td>\n",
       "      <td>...</td>\n",
       "      <td>0</td>\n",
       "      <td>5</td>\n",
       "      <td>2</td>\n",
       "      <td>220</td>\n",
       "      <td>12</td>\n",
       "      <td>0</td>\n",
       "      <td>1</td>\n",
       "      <td>1150.0</td>\n",
       "      <td>21</td>\n",
       "      <td>0</td>\n",
       "    </tr>\n",
       "    <tr>\n",
       "      <th>1</th>\n",
       "      <td>2</td>\n",
       "      <td>18</td>\n",
       "      <td>2</td>\n",
       "      <td>17</td>\n",
       "      <td>5</td>\n",
       "      <td>0</td>\n",
       "      <td>9.251002e+09</td>\n",
       "      <td>11</td>\n",
       "      <td>0</td>\n",
       "      <td>3</td>\n",
       "      <td>...</td>\n",
       "      <td>4</td>\n",
       "      <td>5</td>\n",
       "      <td>2</td>\n",
       "      <td>0</td>\n",
       "      <td>13</td>\n",
       "      <td>0</td>\n",
       "      <td>0</td>\n",
       "      <td>1150.0</td>\n",
       "      <td>21</td>\n",
       "      <td>0</td>\n",
       "    </tr>\n",
       "    <tr>\n",
       "      <th>2</th>\n",
       "      <td>3</td>\n",
       "      <td>11</td>\n",
       "      <td>2</td>\n",
       "      <td>18</td>\n",
       "      <td>3</td>\n",
       "      <td>0</td>\n",
       "      <td>9.451552e+09</td>\n",
       "      <td>2</td>\n",
       "      <td>46</td>\n",
       "      <td>3</td>\n",
       "      <td>...</td>\n",
       "      <td>0</td>\n",
       "      <td>5</td>\n",
       "      <td>2</td>\n",
       "      <td>106</td>\n",
       "      <td>9</td>\n",
       "      <td>0</td>\n",
       "      <td>2</td>\n",
       "      <td>1150.0</td>\n",
       "      <td>21</td>\n",
       "      <td>0</td>\n",
       "    </tr>\n",
       "    <tr>\n",
       "      <th>3</th>\n",
       "      <td>4</td>\n",
       "      <td>19</td>\n",
       "      <td>1</td>\n",
       "      <td>9</td>\n",
       "      <td>16</td>\n",
       "      <td>0</td>\n",
       "      <td>9.416109e+09</td>\n",
       "      <td>2</td>\n",
       "      <td>251</td>\n",
       "      <td>3</td>\n",
       "      <td>...</td>\n",
       "      <td>0</td>\n",
       "      <td>5</td>\n",
       "      <td>2</td>\n",
       "      <td>515</td>\n",
       "      <td>10</td>\n",
       "      <td>0</td>\n",
       "      <td>0</td>\n",
       "      <td>1000.0</td>\n",
       "      <td>21</td>\n",
       "      <td>0</td>\n",
       "    </tr>\n",
       "    <tr>\n",
       "      <th>4</th>\n",
       "      <td>5</td>\n",
       "      <td>10</td>\n",
       "      <td>2</td>\n",
       "      <td>18</td>\n",
       "      <td>4</td>\n",
       "      <td>0</td>\n",
       "      <td>9.500040e+09</td>\n",
       "      <td>2</td>\n",
       "      <td>10</td>\n",
       "      <td>0</td>\n",
       "      <td>...</td>\n",
       "      <td>0</td>\n",
       "      <td>16</td>\n",
       "      <td>5</td>\n",
       "      <td>54</td>\n",
       "      <td>14</td>\n",
       "      <td>0</td>\n",
       "      <td>0</td>\n",
       "      <td>1150.0</td>\n",
       "      <td>6</td>\n",
       "      <td>0</td>\n",
       "    </tr>\n",
       "  </tbody>\n",
       "</table>\n",
       "<p>5 rows × 24 columns</p>\n",
       "</div>"
      ],
      "text/plain": [
       "   Variable1  Variable2  Variable3  Variable4  Variable5  Variable6  \\\n",
       "0          1         16          1         18         12          0   \n",
       "1          2         18          2         17          5          0   \n",
       "2          3         11          2         18          3          0   \n",
       "3          4         19          1          9         16          0   \n",
       "4          5         10          2         18          4          0   \n",
       "\n",
       "      Variable7  Variable8  Variable9  Variable10   ...    Variable15  \\\n",
       "0  9.314022e+09         11        102           0   ...             0   \n",
       "1  9.251002e+09         11          0           3   ...             4   \n",
       "2  9.451552e+09          2         46           3   ...             0   \n",
       "3  9.416109e+09          2        251           3   ...             0   \n",
       "4  9.500040e+09          2         10           0   ...             0   \n",
       "\n",
       "   Variable17  Variable18  Variable19  Variable22  Variable24  Variable26  \\\n",
       "0           5           2         220          12           0           1   \n",
       "1           5           2           0          13           0           0   \n",
       "2           5           2         106           9           0           2   \n",
       "3           5           2         515          10           0           0   \n",
       "4          16           5          54          14           0           0   \n",
       "\n",
       "   Variable27  Variable28  Target  \n",
       "0      1150.0          21       0  \n",
       "1      1150.0          21       0  \n",
       "2      1150.0          21       0  \n",
       "3      1000.0          21       0  \n",
       "4      1150.0           6       0  \n",
       "\n",
       "[5 rows x 24 columns]"
      ]
     },
     "execution_count": 18,
     "metadata": {},
     "output_type": "execute_result"
    }
   ],
   "source": [
    "data1.head()"
   ]
  },
  {
   "cell_type": "code",
   "execution_count": 19,
   "metadata": {},
   "outputs": [
    {
     "data": {
      "text/html": [
       "<div>\n",
       "<style scoped>\n",
       "    .dataframe tbody tr th:only-of-type {\n",
       "        vertical-align: middle;\n",
       "    }\n",
       "\n",
       "    .dataframe tbody tr th {\n",
       "        vertical-align: top;\n",
       "    }\n",
       "\n",
       "    .dataframe thead th {\n",
       "        text-align: right;\n",
       "    }\n",
       "</style>\n",
       "<table border=\"1\" class=\"dataframe\">\n",
       "  <thead>\n",
       "    <tr style=\"text-align: right;\">\n",
       "      <th></th>\n",
       "      <th>Variable1</th>\n",
       "      <th>Variable2</th>\n",
       "      <th>Variable3</th>\n",
       "      <th>Variable4</th>\n",
       "      <th>Variable5</th>\n",
       "      <th>Variable6</th>\n",
       "      <th>Variable7</th>\n",
       "      <th>Variable8</th>\n",
       "      <th>Variable9</th>\n",
       "      <th>Variable10</th>\n",
       "      <th>...</th>\n",
       "      <th>Variable14</th>\n",
       "      <th>Variable15</th>\n",
       "      <th>Variable17</th>\n",
       "      <th>Variable18</th>\n",
       "      <th>Variable19</th>\n",
       "      <th>Variable22</th>\n",
       "      <th>Variable24</th>\n",
       "      <th>Variable26</th>\n",
       "      <th>Variable27</th>\n",
       "      <th>Variable28</th>\n",
       "    </tr>\n",
       "  </thead>\n",
       "  <tbody>\n",
       "    <tr>\n",
       "      <th>0</th>\n",
       "      <td>1</td>\n",
       "      <td>17</td>\n",
       "      <td>2</td>\n",
       "      <td>17</td>\n",
       "      <td>2</td>\n",
       "      <td>0</td>\n",
       "      <td>9.572202e+09</td>\n",
       "      <td>11</td>\n",
       "      <td>72</td>\n",
       "      <td>3</td>\n",
       "      <td>...</td>\n",
       "      <td>3</td>\n",
       "      <td>0</td>\n",
       "      <td>5</td>\n",
       "      <td>2</td>\n",
       "      <td>154</td>\n",
       "      <td>14</td>\n",
       "      <td>0</td>\n",
       "      <td>2</td>\n",
       "      <td>1900.0</td>\n",
       "      <td>21</td>\n",
       "    </tr>\n",
       "    <tr>\n",
       "      <th>1</th>\n",
       "      <td>2</td>\n",
       "      <td>1</td>\n",
       "      <td>8</td>\n",
       "      <td>4</td>\n",
       "      <td>11</td>\n",
       "      <td>0</td>\n",
       "      <td>9.600095e+09</td>\n",
       "      <td>11</td>\n",
       "      <td>29</td>\n",
       "      <td>3</td>\n",
       "      <td>...</td>\n",
       "      <td>3</td>\n",
       "      <td>2</td>\n",
       "      <td>5</td>\n",
       "      <td>2</td>\n",
       "      <td>63</td>\n",
       "      <td>5</td>\n",
       "      <td>0</td>\n",
       "      <td>0</td>\n",
       "      <td>1150.0</td>\n",
       "      <td>21</td>\n",
       "    </tr>\n",
       "    <tr>\n",
       "      <th>2</th>\n",
       "      <td>3</td>\n",
       "      <td>0</td>\n",
       "      <td>2</td>\n",
       "      <td>18</td>\n",
       "      <td>7</td>\n",
       "      <td>0</td>\n",
       "      <td>9.127022e+09</td>\n",
       "      <td>2</td>\n",
       "      <td>238</td>\n",
       "      <td>3</td>\n",
       "      <td>...</td>\n",
       "      <td>2</td>\n",
       "      <td>4</td>\n",
       "      <td>7</td>\n",
       "      <td>4</td>\n",
       "      <td>488</td>\n",
       "      <td>13</td>\n",
       "      <td>0</td>\n",
       "      <td>0</td>\n",
       "      <td>2000.0</td>\n",
       "      <td>45</td>\n",
       "    </tr>\n",
       "    <tr>\n",
       "      <th>3</th>\n",
       "      <td>4</td>\n",
       "      <td>14</td>\n",
       "      <td>4</td>\n",
       "      <td>9</td>\n",
       "      <td>3</td>\n",
       "      <td>0</td>\n",
       "      <td>9.400001e+09</td>\n",
       "      <td>2</td>\n",
       "      <td>62</td>\n",
       "      <td>3</td>\n",
       "      <td>...</td>\n",
       "      <td>4</td>\n",
       "      <td>0</td>\n",
       "      <td>5</td>\n",
       "      <td>2</td>\n",
       "      <td>139</td>\n",
       "      <td>11</td>\n",
       "      <td>0</td>\n",
       "      <td>0</td>\n",
       "      <td>1150.0</td>\n",
       "      <td>21</td>\n",
       "    </tr>\n",
       "    <tr>\n",
       "      <th>4</th>\n",
       "      <td>5</td>\n",
       "      <td>15</td>\n",
       "      <td>3</td>\n",
       "      <td>18</td>\n",
       "      <td>6</td>\n",
       "      <td>0</td>\n",
       "      <td>9.134110e+09</td>\n",
       "      <td>11</td>\n",
       "      <td>219</td>\n",
       "      <td>1</td>\n",
       "      <td>...</td>\n",
       "      <td>2</td>\n",
       "      <td>0</td>\n",
       "      <td>5</td>\n",
       "      <td>2</td>\n",
       "      <td>465</td>\n",
       "      <td>13</td>\n",
       "      <td>0</td>\n",
       "      <td>1</td>\n",
       "      <td>1150.0</td>\n",
       "      <td>21</td>\n",
       "    </tr>\n",
       "  </tbody>\n",
       "</table>\n",
       "<p>5 rows × 23 columns</p>\n",
       "</div>"
      ],
      "text/plain": [
       "   Variable1  Variable2  Variable3  Variable4  Variable5  Variable6  \\\n",
       "0          1         17          2         17          2          0   \n",
       "1          2          1          8          4         11          0   \n",
       "2          3          0          2         18          7          0   \n",
       "3          4         14          4          9          3          0   \n",
       "4          5         15          3         18          6          0   \n",
       "\n",
       "      Variable7  Variable8  Variable9  Variable10     ...      Variable14  \\\n",
       "0  9.572202e+09         11         72           3     ...               3   \n",
       "1  9.600095e+09         11         29           3     ...               3   \n",
       "2  9.127022e+09          2        238           3     ...               2   \n",
       "3  9.400001e+09          2         62           3     ...               4   \n",
       "4  9.134110e+09         11        219           1     ...               2   \n",
       "\n",
       "   Variable15  Variable17  Variable18  Variable19  Variable22  Variable24  \\\n",
       "0           0           5           2         154          14           0   \n",
       "1           2           5           2          63           5           0   \n",
       "2           4           7           4         488          13           0   \n",
       "3           0           5           2         139          11           0   \n",
       "4           0           5           2         465          13           0   \n",
       "\n",
       "   Variable26  Variable27  Variable28  \n",
       "0           2      1900.0          21  \n",
       "1           0      1150.0          21  \n",
       "2           0      2000.0          45  \n",
       "3           0      1150.0          21  \n",
       "4           1      1150.0          21  \n",
       "\n",
       "[5 rows x 23 columns]"
      ]
     },
     "execution_count": 19,
     "metadata": {},
     "output_type": "execute_result"
    }
   ],
   "source": [
    "test1.head()"
   ]
  },
  {
   "cell_type": "code",
   "execution_count": 20,
   "metadata": {},
   "outputs": [
    {
     "data": {
      "text/html": [
       "<div>\n",
       "<style scoped>\n",
       "    .dataframe tbody tr th:only-of-type {\n",
       "        vertical-align: middle;\n",
       "    }\n",
       "\n",
       "    .dataframe tbody tr th {\n",
       "        vertical-align: top;\n",
       "    }\n",
       "\n",
       "    .dataframe thead th {\n",
       "        text-align: right;\n",
       "    }\n",
       "</style>\n",
       "<table border=\"1\" class=\"dataframe\">\n",
       "  <thead>\n",
       "    <tr style=\"text-align: right;\">\n",
       "      <th></th>\n",
       "      <th>Variable2</th>\n",
       "      <th>Variable3</th>\n",
       "      <th>Variable4</th>\n",
       "      <th>Variable5</th>\n",
       "      <th>Variable6</th>\n",
       "      <th>Variable7</th>\n",
       "      <th>Variable8</th>\n",
       "      <th>Variable9</th>\n",
       "      <th>Variable10</th>\n",
       "      <th>Variable11</th>\n",
       "      <th>...</th>\n",
       "      <th>Variable15</th>\n",
       "      <th>Variable17</th>\n",
       "      <th>Variable18</th>\n",
       "      <th>Variable19</th>\n",
       "      <th>Variable22</th>\n",
       "      <th>Variable24</th>\n",
       "      <th>Variable26</th>\n",
       "      <th>Variable27</th>\n",
       "      <th>Variable28</th>\n",
       "      <th>Target</th>\n",
       "    </tr>\n",
       "  </thead>\n",
       "  <tbody>\n",
       "    <tr>\n",
       "      <th>0</th>\n",
       "      <td>16</td>\n",
       "      <td>1</td>\n",
       "      <td>18</td>\n",
       "      <td>12</td>\n",
       "      <td>0</td>\n",
       "      <td>9.314022e+09</td>\n",
       "      <td>11</td>\n",
       "      <td>102</td>\n",
       "      <td>0</td>\n",
       "      <td>1</td>\n",
       "      <td>...</td>\n",
       "      <td>0</td>\n",
       "      <td>5</td>\n",
       "      <td>2</td>\n",
       "      <td>220</td>\n",
       "      <td>12</td>\n",
       "      <td>0</td>\n",
       "      <td>1</td>\n",
       "      <td>1150.0</td>\n",
       "      <td>21</td>\n",
       "      <td>0</td>\n",
       "    </tr>\n",
       "    <tr>\n",
       "      <th>1</th>\n",
       "      <td>18</td>\n",
       "      <td>2</td>\n",
       "      <td>17</td>\n",
       "      <td>5</td>\n",
       "      <td>0</td>\n",
       "      <td>9.251002e+09</td>\n",
       "      <td>11</td>\n",
       "      <td>0</td>\n",
       "      <td>3</td>\n",
       "      <td>2</td>\n",
       "      <td>...</td>\n",
       "      <td>4</td>\n",
       "      <td>5</td>\n",
       "      <td>2</td>\n",
       "      <td>0</td>\n",
       "      <td>13</td>\n",
       "      <td>0</td>\n",
       "      <td>0</td>\n",
       "      <td>1150.0</td>\n",
       "      <td>21</td>\n",
       "      <td>0</td>\n",
       "    </tr>\n",
       "    <tr>\n",
       "      <th>2</th>\n",
       "      <td>11</td>\n",
       "      <td>2</td>\n",
       "      <td>18</td>\n",
       "      <td>3</td>\n",
       "      <td>0</td>\n",
       "      <td>9.451552e+09</td>\n",
       "      <td>2</td>\n",
       "      <td>46</td>\n",
       "      <td>3</td>\n",
       "      <td>1</td>\n",
       "      <td>...</td>\n",
       "      <td>0</td>\n",
       "      <td>5</td>\n",
       "      <td>2</td>\n",
       "      <td>106</td>\n",
       "      <td>9</td>\n",
       "      <td>0</td>\n",
       "      <td>2</td>\n",
       "      <td>1150.0</td>\n",
       "      <td>21</td>\n",
       "      <td>0</td>\n",
       "    </tr>\n",
       "    <tr>\n",
       "      <th>3</th>\n",
       "      <td>19</td>\n",
       "      <td>1</td>\n",
       "      <td>9</td>\n",
       "      <td>16</td>\n",
       "      <td>0</td>\n",
       "      <td>9.416109e+09</td>\n",
       "      <td>2</td>\n",
       "      <td>251</td>\n",
       "      <td>3</td>\n",
       "      <td>2</td>\n",
       "      <td>...</td>\n",
       "      <td>0</td>\n",
       "      <td>5</td>\n",
       "      <td>2</td>\n",
       "      <td>515</td>\n",
       "      <td>10</td>\n",
       "      <td>0</td>\n",
       "      <td>0</td>\n",
       "      <td>1000.0</td>\n",
       "      <td>21</td>\n",
       "      <td>0</td>\n",
       "    </tr>\n",
       "    <tr>\n",
       "      <th>4</th>\n",
       "      <td>10</td>\n",
       "      <td>2</td>\n",
       "      <td>18</td>\n",
       "      <td>4</td>\n",
       "      <td>0</td>\n",
       "      <td>9.500040e+09</td>\n",
       "      <td>2</td>\n",
       "      <td>10</td>\n",
       "      <td>0</td>\n",
       "      <td>1</td>\n",
       "      <td>...</td>\n",
       "      <td>0</td>\n",
       "      <td>16</td>\n",
       "      <td>5</td>\n",
       "      <td>54</td>\n",
       "      <td>14</td>\n",
       "      <td>0</td>\n",
       "      <td>0</td>\n",
       "      <td>1150.0</td>\n",
       "      <td>6</td>\n",
       "      <td>0</td>\n",
       "    </tr>\n",
       "  </tbody>\n",
       "</table>\n",
       "<p>5 rows × 23 columns</p>\n",
       "</div>"
      ],
      "text/plain": [
       "   Variable2  Variable3  Variable4  Variable5  Variable6     Variable7  \\\n",
       "0         16          1         18         12          0  9.314022e+09   \n",
       "1         18          2         17          5          0  9.251002e+09   \n",
       "2         11          2         18          3          0  9.451552e+09   \n",
       "3         19          1          9         16          0  9.416109e+09   \n",
       "4         10          2         18          4          0  9.500040e+09   \n",
       "\n",
       "   Variable8  Variable9  Variable10  Variable11   ...    Variable15  \\\n",
       "0         11        102           0           1   ...             0   \n",
       "1         11          0           3           2   ...             4   \n",
       "2          2         46           3           1   ...             0   \n",
       "3          2        251           3           2   ...             0   \n",
       "4          2         10           0           1   ...             0   \n",
       "\n",
       "   Variable17  Variable18  Variable19  Variable22  Variable24  Variable26  \\\n",
       "0           5           2         220          12           0           1   \n",
       "1           5           2           0          13           0           0   \n",
       "2           5           2         106           9           0           2   \n",
       "3           5           2         515          10           0           0   \n",
       "4          16           5          54          14           0           0   \n",
       "\n",
       "   Variable27  Variable28  Target  \n",
       "0      1150.0          21       0  \n",
       "1      1150.0          21       0  \n",
       "2      1150.0          21       0  \n",
       "3      1000.0          21       0  \n",
       "4      1150.0           6       0  \n",
       "\n",
       "[5 rows x 23 columns]"
      ]
     },
     "execution_count": 20,
     "metadata": {},
     "output_type": "execute_result"
    }
   ],
   "source": [
    "#Remove non-predictive features\n",
    "data1= data1.drop(labels = \"Variable1\", axis = 1)\n",
    "data1.head()"
   ]
  },
  {
   "cell_type": "code",
   "execution_count": 21,
   "metadata": {},
   "outputs": [
    {
     "data": {
      "text/html": [
       "<div>\n",
       "<style scoped>\n",
       "    .dataframe tbody tr th:only-of-type {\n",
       "        vertical-align: middle;\n",
       "    }\n",
       "\n",
       "    .dataframe tbody tr th {\n",
       "        vertical-align: top;\n",
       "    }\n",
       "\n",
       "    .dataframe thead th {\n",
       "        text-align: right;\n",
       "    }\n",
       "</style>\n",
       "<table border=\"1\" class=\"dataframe\">\n",
       "  <thead>\n",
       "    <tr style=\"text-align: right;\">\n",
       "      <th></th>\n",
       "      <th>Variable2</th>\n",
       "      <th>Variable3</th>\n",
       "      <th>Variable4</th>\n",
       "      <th>Variable5</th>\n",
       "      <th>Variable6</th>\n",
       "      <th>Variable7</th>\n",
       "      <th>Variable8</th>\n",
       "      <th>Variable9</th>\n",
       "      <th>Variable10</th>\n",
       "      <th>Variable11</th>\n",
       "      <th>...</th>\n",
       "      <th>Variable14</th>\n",
       "      <th>Variable15</th>\n",
       "      <th>Variable17</th>\n",
       "      <th>Variable18</th>\n",
       "      <th>Variable19</th>\n",
       "      <th>Variable22</th>\n",
       "      <th>Variable24</th>\n",
       "      <th>Variable26</th>\n",
       "      <th>Variable27</th>\n",
       "      <th>Variable28</th>\n",
       "    </tr>\n",
       "  </thead>\n",
       "  <tbody>\n",
       "    <tr>\n",
       "      <th>0</th>\n",
       "      <td>17</td>\n",
       "      <td>2</td>\n",
       "      <td>17</td>\n",
       "      <td>2</td>\n",
       "      <td>0</td>\n",
       "      <td>9.572202e+09</td>\n",
       "      <td>11</td>\n",
       "      <td>72</td>\n",
       "      <td>3</td>\n",
       "      <td>2</td>\n",
       "      <td>...</td>\n",
       "      <td>3</td>\n",
       "      <td>0</td>\n",
       "      <td>5</td>\n",
       "      <td>2</td>\n",
       "      <td>154</td>\n",
       "      <td>14</td>\n",
       "      <td>0</td>\n",
       "      <td>2</td>\n",
       "      <td>1900.0</td>\n",
       "      <td>21</td>\n",
       "    </tr>\n",
       "    <tr>\n",
       "      <th>1</th>\n",
       "      <td>1</td>\n",
       "      <td>8</td>\n",
       "      <td>4</td>\n",
       "      <td>11</td>\n",
       "      <td>0</td>\n",
       "      <td>9.600095e+09</td>\n",
       "      <td>11</td>\n",
       "      <td>29</td>\n",
       "      <td>3</td>\n",
       "      <td>2</td>\n",
       "      <td>...</td>\n",
       "      <td>3</td>\n",
       "      <td>2</td>\n",
       "      <td>5</td>\n",
       "      <td>2</td>\n",
       "      <td>63</td>\n",
       "      <td>5</td>\n",
       "      <td>0</td>\n",
       "      <td>0</td>\n",
       "      <td>1150.0</td>\n",
       "      <td>21</td>\n",
       "    </tr>\n",
       "    <tr>\n",
       "      <th>2</th>\n",
       "      <td>0</td>\n",
       "      <td>2</td>\n",
       "      <td>18</td>\n",
       "      <td>7</td>\n",
       "      <td>0</td>\n",
       "      <td>9.127022e+09</td>\n",
       "      <td>2</td>\n",
       "      <td>238</td>\n",
       "      <td>3</td>\n",
       "      <td>1</td>\n",
       "      <td>...</td>\n",
       "      <td>2</td>\n",
       "      <td>4</td>\n",
       "      <td>7</td>\n",
       "      <td>4</td>\n",
       "      <td>488</td>\n",
       "      <td>13</td>\n",
       "      <td>0</td>\n",
       "      <td>0</td>\n",
       "      <td>2000.0</td>\n",
       "      <td>45</td>\n",
       "    </tr>\n",
       "    <tr>\n",
       "      <th>3</th>\n",
       "      <td>14</td>\n",
       "      <td>4</td>\n",
       "      <td>9</td>\n",
       "      <td>3</td>\n",
       "      <td>0</td>\n",
       "      <td>9.400001e+09</td>\n",
       "      <td>2</td>\n",
       "      <td>62</td>\n",
       "      <td>3</td>\n",
       "      <td>2</td>\n",
       "      <td>...</td>\n",
       "      <td>4</td>\n",
       "      <td>0</td>\n",
       "      <td>5</td>\n",
       "      <td>2</td>\n",
       "      <td>139</td>\n",
       "      <td>11</td>\n",
       "      <td>0</td>\n",
       "      <td>0</td>\n",
       "      <td>1150.0</td>\n",
       "      <td>21</td>\n",
       "    </tr>\n",
       "    <tr>\n",
       "      <th>4</th>\n",
       "      <td>15</td>\n",
       "      <td>3</td>\n",
       "      <td>18</td>\n",
       "      <td>6</td>\n",
       "      <td>0</td>\n",
       "      <td>9.134110e+09</td>\n",
       "      <td>11</td>\n",
       "      <td>219</td>\n",
       "      <td>1</td>\n",
       "      <td>1</td>\n",
       "      <td>...</td>\n",
       "      <td>2</td>\n",
       "      <td>0</td>\n",
       "      <td>5</td>\n",
       "      <td>2</td>\n",
       "      <td>465</td>\n",
       "      <td>13</td>\n",
       "      <td>0</td>\n",
       "      <td>1</td>\n",
       "      <td>1150.0</td>\n",
       "      <td>21</td>\n",
       "    </tr>\n",
       "  </tbody>\n",
       "</table>\n",
       "<p>5 rows × 22 columns</p>\n",
       "</div>"
      ],
      "text/plain": [
       "   Variable2  Variable3  Variable4  Variable5  Variable6     Variable7  \\\n",
       "0         17          2         17          2          0  9.572202e+09   \n",
       "1          1          8          4         11          0  9.600095e+09   \n",
       "2          0          2         18          7          0  9.127022e+09   \n",
       "3         14          4          9          3          0  9.400001e+09   \n",
       "4         15          3         18          6          0  9.134110e+09   \n",
       "\n",
       "   Variable8  Variable9  Variable10  Variable11     ...      Variable14  \\\n",
       "0         11         72           3           2     ...               3   \n",
       "1         11         29           3           2     ...               3   \n",
       "2          2        238           3           1     ...               2   \n",
       "3          2         62           3           2     ...               4   \n",
       "4         11        219           1           1     ...               2   \n",
       "\n",
       "   Variable15  Variable17  Variable18  Variable19  Variable22  Variable24  \\\n",
       "0           0           5           2         154          14           0   \n",
       "1           2           5           2          63           5           0   \n",
       "2           4           7           4         488          13           0   \n",
       "3           0           5           2         139          11           0   \n",
       "4           0           5           2         465          13           0   \n",
       "\n",
       "   Variable26  Variable27  Variable28  \n",
       "0           2      1900.0          21  \n",
       "1           0      1150.0          21  \n",
       "2           0      2000.0          45  \n",
       "3           0      1150.0          21  \n",
       "4           1      1150.0          21  \n",
       "\n",
       "[5 rows x 22 columns]"
      ]
     },
     "execution_count": 21,
     "metadata": {},
     "output_type": "execute_result"
    }
   ],
   "source": [
    "#drop the non -predictive feature\n",
    "test1= test1.drop(labels = \"Variable1\", axis = 1)\n",
    "test1.head()"
   ]
  },
  {
   "cell_type": "code",
   "execution_count": 76,
   "metadata": {},
   "outputs": [
    {
     "data": {
      "text/plain": [
       "Variable2       int32\n",
       "Variable3       int64\n",
       "Variable4       int32\n",
       "Variable5       int32\n",
       "Variable6       int32\n",
       "Variable7     float64\n",
       "Variable8       int32\n",
       "Variable9       int32\n",
       "Variable10      int32\n",
       "Variable11      int32\n",
       "Variable12    float64\n",
       "Variable13      int32\n",
       "Variable14      int32\n",
       "Variable15      int32\n",
       "Variable17      int32\n",
       "Variable18      int32\n",
       "Variable19      int32\n",
       "Variable22      int32\n",
       "Variable24      int32\n",
       "Variable26      int32\n",
       "Variable27    float64\n",
       "Variable28      int32\n",
       "Target          int64\n",
       "dtype: object"
      ]
     },
     "execution_count": 76,
     "metadata": {},
     "output_type": "execute_result"
    }
   ],
   "source": [
    "data1.dtypes"
   ]
  },
  {
   "cell_type": "markdown",
   "metadata": {},
   "source": [
    "## Exploratory data analysis"
   ]
  },
  {
   "cell_type": "code",
   "execution_count": 77,
   "metadata": {},
   "outputs": [
    {
     "data": {
      "text/html": [
       "<div>\n",
       "<style scoped>\n",
       "    .dataframe tbody tr th:only-of-type {\n",
       "        vertical-align: middle;\n",
       "    }\n",
       "\n",
       "    .dataframe tbody tr th {\n",
       "        vertical-align: top;\n",
       "    }\n",
       "\n",
       "    .dataframe thead th {\n",
       "        text-align: right;\n",
       "    }\n",
       "</style>\n",
       "<table border=\"1\" class=\"dataframe\">\n",
       "  <thead>\n",
       "    <tr style=\"text-align: right;\">\n",
       "      <th></th>\n",
       "      <th>Variable3</th>\n",
       "      <th>Target</th>\n",
       "    </tr>\n",
       "  </thead>\n",
       "  <tbody>\n",
       "    <tr>\n",
       "      <th>count</th>\n",
       "      <td>199609.000000</td>\n",
       "      <td>199609.000000</td>\n",
       "    </tr>\n",
       "    <tr>\n",
       "      <th>mean</th>\n",
       "      <td>3.629831</td>\n",
       "      <td>0.169827</td>\n",
       "    </tr>\n",
       "    <tr>\n",
       "      <th>std</th>\n",
       "      <td>2.273030</td>\n",
       "      <td>0.375482</td>\n",
       "    </tr>\n",
       "    <tr>\n",
       "      <th>min</th>\n",
       "      <td>0.000000</td>\n",
       "      <td>0.000000</td>\n",
       "    </tr>\n",
       "    <tr>\n",
       "      <th>25%</th>\n",
       "      <td>2.000000</td>\n",
       "      <td>0.000000</td>\n",
       "    </tr>\n",
       "    <tr>\n",
       "      <th>50%</th>\n",
       "      <td>3.000000</td>\n",
       "      <td>0.000000</td>\n",
       "    </tr>\n",
       "    <tr>\n",
       "      <th>75%</th>\n",
       "      <td>4.000000</td>\n",
       "      <td>0.000000</td>\n",
       "    </tr>\n",
       "    <tr>\n",
       "      <th>max</th>\n",
       "      <td>9.000000</td>\n",
       "      <td>1.000000</td>\n",
       "    </tr>\n",
       "  </tbody>\n",
       "</table>\n",
       "</div>"
      ],
      "text/plain": [
       "           Variable3         Target\n",
       "count  199609.000000  199609.000000\n",
       "mean        3.629831       0.169827\n",
       "std         2.273030       0.375482\n",
       "min         0.000000       0.000000\n",
       "25%         2.000000       0.000000\n",
       "50%         3.000000       0.000000\n",
       "75%         4.000000       0.000000\n",
       "max         9.000000       1.000000"
      ]
     },
     "execution_count": 77,
     "metadata": {},
     "output_type": "execute_result"
    }
   ],
   "source": [
    "data1.describe(include=['int64'])"
   ]
  },
  {
   "cell_type": "code",
   "execution_count": 78,
   "metadata": {},
   "outputs": [
    {
     "data": {
      "text/html": [
       "<div>\n",
       "<style scoped>\n",
       "    .dataframe tbody tr th:only-of-type {\n",
       "        vertical-align: middle;\n",
       "    }\n",
       "\n",
       "    .dataframe tbody tr th {\n",
       "        vertical-align: top;\n",
       "    }\n",
       "\n",
       "    .dataframe thead th {\n",
       "        text-align: right;\n",
       "    }\n",
       "</style>\n",
       "<table border=\"1\" class=\"dataframe\">\n",
       "  <thead>\n",
       "    <tr style=\"text-align: right;\">\n",
       "      <th></th>\n",
       "      <th>Variable2</th>\n",
       "      <th>Variable3</th>\n",
       "      <th>Variable4</th>\n",
       "      <th>Variable5</th>\n",
       "      <th>Variable6</th>\n",
       "      <th>Variable7</th>\n",
       "      <th>Variable8</th>\n",
       "      <th>Variable9</th>\n",
       "      <th>Variable10</th>\n",
       "      <th>Variable11</th>\n",
       "      <th>...</th>\n",
       "      <th>Variable15</th>\n",
       "      <th>Variable17</th>\n",
       "      <th>Variable18</th>\n",
       "      <th>Variable19</th>\n",
       "      <th>Variable22</th>\n",
       "      <th>Variable24</th>\n",
       "      <th>Variable26</th>\n",
       "      <th>Variable27</th>\n",
       "      <th>Variable28</th>\n",
       "      <th>Target</th>\n",
       "    </tr>\n",
       "  </thead>\n",
       "  <tbody>\n",
       "    <tr>\n",
       "      <th>count</th>\n",
       "      <td>199609.000000</td>\n",
       "      <td>199609.000000</td>\n",
       "      <td>199609.000000</td>\n",
       "      <td>199609.000000</td>\n",
       "      <td>199609.000000</td>\n",
       "      <td>1.996090e+05</td>\n",
       "      <td>199609.000000</td>\n",
       "      <td>199609.000000</td>\n",
       "      <td>199609.000000</td>\n",
       "      <td>199609.000000</td>\n",
       "      <td>...</td>\n",
       "      <td>199609.000000</td>\n",
       "      <td>199609.000000</td>\n",
       "      <td>199609.000000</td>\n",
       "      <td>199609.000000</td>\n",
       "      <td>199609.000000</td>\n",
       "      <td>199609.000000</td>\n",
       "      <td>199609.000000</td>\n",
       "      <td>199609.000000</td>\n",
       "      <td>199609.000000</td>\n",
       "      <td>199609.000000</td>\n",
       "    </tr>\n",
       "    <tr>\n",
       "      <th>mean</th>\n",
       "      <td>9.669534</td>\n",
       "      <td>3.629831</td>\n",
       "      <td>12.642922</td>\n",
       "      <td>8.135956</td>\n",
       "      <td>0.041015</td>\n",
       "      <td>9.437745e+09</td>\n",
       "      <td>5.785756</td>\n",
       "      <td>130.746044</td>\n",
       "      <td>1.739786</td>\n",
       "      <td>1.470294</td>\n",
       "      <td>...</td>\n",
       "      <td>0.807108</td>\n",
       "      <td>5.705409</td>\n",
       "      <td>2.214354</td>\n",
       "      <td>276.374718</td>\n",
       "      <td>11.313683</td>\n",
       "      <td>0.000691</td>\n",
       "      <td>0.609632</td>\n",
       "      <td>1385.089024</td>\n",
       "      <td>21.900420</td>\n",
       "      <td>0.169827</td>\n",
       "    </tr>\n",
       "    <tr>\n",
       "      <th>std</th>\n",
       "      <td>6.401780</td>\n",
       "      <td>2.273030</td>\n",
       "      <td>5.756270</td>\n",
       "      <td>4.936613</td>\n",
       "      <td>0.198326</td>\n",
       "      <td>1.880825e+08</td>\n",
       "      <td>4.453449</td>\n",
       "      <td>78.521508</td>\n",
       "      <td>1.331503</td>\n",
       "      <td>0.580345</td>\n",
       "      <td>...</td>\n",
       "      <td>1.400333</td>\n",
       "      <td>2.470026</td>\n",
       "      <td>0.794572</td>\n",
       "      <td>159.173102</td>\n",
       "      <td>2.438785</td>\n",
       "      <td>0.026285</td>\n",
       "      <td>0.875562</td>\n",
       "      <td>546.466084</td>\n",
       "      <td>6.833974</td>\n",
       "      <td>0.375482</td>\n",
       "    </tr>\n",
       "    <tr>\n",
       "      <th>min</th>\n",
       "      <td>0.000000</td>\n",
       "      <td>0.000000</td>\n",
       "      <td>0.000000</td>\n",
       "      <td>0.000000</td>\n",
       "      <td>0.000000</td>\n",
       "      <td>9.110001e+09</td>\n",
       "      <td>0.000000</td>\n",
       "      <td>0.000000</td>\n",
       "      <td>0.000000</td>\n",
       "      <td>0.000000</td>\n",
       "      <td>...</td>\n",
       "      <td>0.000000</td>\n",
       "      <td>0.000000</td>\n",
       "      <td>0.000000</td>\n",
       "      <td>0.000000</td>\n",
       "      <td>0.000000</td>\n",
       "      <td>0.000000</td>\n",
       "      <td>0.000000</td>\n",
       "      <td>1.000000</td>\n",
       "      <td>0.000000</td>\n",
       "      <td>0.000000</td>\n",
       "    </tr>\n",
       "    <tr>\n",
       "      <th>25%</th>\n",
       "      <td>3.000000</td>\n",
       "      <td>2.000000</td>\n",
       "      <td>9.000000</td>\n",
       "      <td>4.000000</td>\n",
       "      <td>0.000000</td>\n",
       "      <td>9.274001e+09</td>\n",
       "      <td>2.000000</td>\n",
       "      <td>66.000000</td>\n",
       "      <td>0.000000</td>\n",
       "      <td>1.000000</td>\n",
       "      <td>...</td>\n",
       "      <td>0.000000</td>\n",
       "      <td>5.000000</td>\n",
       "      <td>2.000000</td>\n",
       "      <td>148.000000</td>\n",
       "      <td>10.000000</td>\n",
       "      <td>0.000000</td>\n",
       "      <td>0.000000</td>\n",
       "      <td>1150.000000</td>\n",
       "      <td>21.000000</td>\n",
       "      <td>0.000000</td>\n",
       "    </tr>\n",
       "    <tr>\n",
       "      <th>50%</th>\n",
       "      <td>10.000000</td>\n",
       "      <td>3.000000</td>\n",
       "      <td>13.000000</td>\n",
       "      <td>8.000000</td>\n",
       "      <td>0.000000</td>\n",
       "      <td>9.442907e+09</td>\n",
       "      <td>2.000000</td>\n",
       "      <td>126.000000</td>\n",
       "      <td>2.000000</td>\n",
       "      <td>2.000000</td>\n",
       "      <td>...</td>\n",
       "      <td>0.000000</td>\n",
       "      <td>5.000000</td>\n",
       "      <td>2.000000</td>\n",
       "      <td>275.000000</td>\n",
       "      <td>12.000000</td>\n",
       "      <td>0.000000</td>\n",
       "      <td>0.000000</td>\n",
       "      <td>1150.000000</td>\n",
       "      <td>21.000000</td>\n",
       "      <td>0.000000</td>\n",
       "    </tr>\n",
       "    <tr>\n",
       "      <th>75%</th>\n",
       "      <td>16.000000</td>\n",
       "      <td>4.000000</td>\n",
       "      <td>18.000000</td>\n",
       "      <td>13.000000</td>\n",
       "      <td>0.000000</td>\n",
       "      <td>9.583227e+09</td>\n",
       "      <td>11.000000</td>\n",
       "      <td>194.000000</td>\n",
       "      <td>3.000000</td>\n",
       "      <td>2.000000</td>\n",
       "      <td>...</td>\n",
       "      <td>2.000000</td>\n",
       "      <td>5.000000</td>\n",
       "      <td>2.000000</td>\n",
       "      <td>414.000000</td>\n",
       "      <td>13.000000</td>\n",
       "      <td>0.000000</td>\n",
       "      <td>2.000000</td>\n",
       "      <td>1500.000000</td>\n",
       "      <td>21.000000</td>\n",
       "      <td>0.000000</td>\n",
       "    </tr>\n",
       "    <tr>\n",
       "      <th>max</th>\n",
       "      <td>19.000000</td>\n",
       "      <td>9.000000</td>\n",
       "      <td>19.000000</td>\n",
       "      <td>16.000000</td>\n",
       "      <td>1.000000</td>\n",
       "      <td>9.855457e+09</td>\n",
       "      <td>13.000000</td>\n",
       "      <td>271.000000</td>\n",
       "      <td>3.000000</td>\n",
       "      <td>2.000000</td>\n",
       "      <td>...</td>\n",
       "      <td>4.000000</td>\n",
       "      <td>17.000000</td>\n",
       "      <td>5.000000</td>\n",
       "      <td>554.000000</td>\n",
       "      <td>15.000000</td>\n",
       "      <td>1.000000</td>\n",
       "      <td>2.000000</td>\n",
       "      <td>3000.000000</td>\n",
       "      <td>64.000000</td>\n",
       "      <td>1.000000</td>\n",
       "    </tr>\n",
       "  </tbody>\n",
       "</table>\n",
       "<p>8 rows × 23 columns</p>\n",
       "</div>"
      ],
      "text/plain": [
       "           Variable2      Variable3      Variable4      Variable5  \\\n",
       "count  199609.000000  199609.000000  199609.000000  199609.000000   \n",
       "mean        9.669534       3.629831      12.642922       8.135956   \n",
       "std         6.401780       2.273030       5.756270       4.936613   \n",
       "min         0.000000       0.000000       0.000000       0.000000   \n",
       "25%         3.000000       2.000000       9.000000       4.000000   \n",
       "50%        10.000000       3.000000      13.000000       8.000000   \n",
       "75%        16.000000       4.000000      18.000000      13.000000   \n",
       "max        19.000000       9.000000      19.000000      16.000000   \n",
       "\n",
       "           Variable6     Variable7      Variable8      Variable9  \\\n",
       "count  199609.000000  1.996090e+05  199609.000000  199609.000000   \n",
       "mean        0.041015  9.437745e+09       5.785756     130.746044   \n",
       "std         0.198326  1.880825e+08       4.453449      78.521508   \n",
       "min         0.000000  9.110001e+09       0.000000       0.000000   \n",
       "25%         0.000000  9.274001e+09       2.000000      66.000000   \n",
       "50%         0.000000  9.442907e+09       2.000000     126.000000   \n",
       "75%         0.000000  9.583227e+09      11.000000     194.000000   \n",
       "max         1.000000  9.855457e+09      13.000000     271.000000   \n",
       "\n",
       "          Variable10     Variable11      ...           Variable15  \\\n",
       "count  199609.000000  199609.000000      ...        199609.000000   \n",
       "mean        1.739786       1.470294      ...             0.807108   \n",
       "std         1.331503       0.580345      ...             1.400333   \n",
       "min         0.000000       0.000000      ...             0.000000   \n",
       "25%         0.000000       1.000000      ...             0.000000   \n",
       "50%         2.000000       2.000000      ...             0.000000   \n",
       "75%         3.000000       2.000000      ...             2.000000   \n",
       "max         3.000000       2.000000      ...             4.000000   \n",
       "\n",
       "          Variable17     Variable18     Variable19     Variable22  \\\n",
       "count  199609.000000  199609.000000  199609.000000  199609.000000   \n",
       "mean        5.705409       2.214354     276.374718      11.313683   \n",
       "std         2.470026       0.794572     159.173102       2.438785   \n",
       "min         0.000000       0.000000       0.000000       0.000000   \n",
       "25%         5.000000       2.000000     148.000000      10.000000   \n",
       "50%         5.000000       2.000000     275.000000      12.000000   \n",
       "75%         5.000000       2.000000     414.000000      13.000000   \n",
       "max        17.000000       5.000000     554.000000      15.000000   \n",
       "\n",
       "          Variable24     Variable26     Variable27     Variable28  \\\n",
       "count  199609.000000  199609.000000  199609.000000  199609.000000   \n",
       "mean        0.000691       0.609632    1385.089024      21.900420   \n",
       "std         0.026285       0.875562     546.466084       6.833974   \n",
       "min         0.000000       0.000000       1.000000       0.000000   \n",
       "25%         0.000000       0.000000    1150.000000      21.000000   \n",
       "50%         0.000000       0.000000    1150.000000      21.000000   \n",
       "75%         0.000000       2.000000    1500.000000      21.000000   \n",
       "max         1.000000       2.000000    3000.000000      64.000000   \n",
       "\n",
       "              Target  \n",
       "count  199609.000000  \n",
       "mean        0.169827  \n",
       "std         0.375482  \n",
       "min         0.000000  \n",
       "25%         0.000000  \n",
       "50%         0.000000  \n",
       "75%         0.000000  \n",
       "max         1.000000  \n",
       "\n",
       "[8 rows x 23 columns]"
      ]
     },
     "execution_count": 78,
     "metadata": {},
     "output_type": "execute_result"
    }
   ],
   "source": [
    "data1.describe()"
   ]
  },
  {
   "cell_type": "code",
   "execution_count": 22,
   "metadata": {},
   "outputs": [],
   "source": [
    "#pair plot\n",
    "#sns.set()\n",
    "#sns.pairplot(data1)   #taking lots of time for execution"
   ]
  },
  {
   "cell_type": "code",
   "execution_count": 23,
   "metadata": {},
   "outputs": [],
   "source": [
    "## Since most of the predictive features are categorical, i dont want to go with outlier treatment"
   ]
  },
  {
   "cell_type": "markdown",
   "metadata": {},
   "source": [
    "### lets see how target variable is effecting features"
   ]
  },
  {
   "cell_type": "code",
   "execution_count": 80,
   "metadata": {},
   "outputs": [
    {
     "name": "stderr",
     "output_type": "stream",
     "text": [
      "C:\\Users\\sreekar chidurala\\Anaconda3\\lib\\site-packages\\scipy\\stats\\stats.py:1713: FutureWarning: Using a non-tuple sequence for multidimensional indexing is deprecated; use `arr[tuple(seq)]` instead of `arr[seq]`. In the future this will be interpreted as an array index, `arr[np.array(seq)]`, which will result either in an error or a different result.\n",
      "  return np.add.reduce(sorted[indexer] * weights, axis=axis) / sumval\n"
     ]
    },
    {
     "data": {
      "image/png": "[encoded data removed]",
      "text/plain": [
       "<Figure size 906.375x216 with 1 Axes>"
      ]
     },
     "metadata": {
      "needs_background": "light"
     },
     "output_type": "display_data"
    }
   ],
   "source": [
    "#how target varibale significantly changes with Variable2\n",
    "facet = sns.FacetGrid(data1, hue=\"Target\",aspect=4)\n",
    "facet.map(sns.kdeplot,'Variable2',shade= True)\n",
    "facet.set(xlim=(0, data1['Variable2'].max()))\n",
    "facet.add_legend();\n",
    "\n",
    "##variable 2 with value 1 -3 has more significant relation on target 0) "
   ]
  },
  {
   "cell_type": "code",
   "execution_count": 81,
   "metadata": {},
   "outputs": [
    {
     "name": "stderr",
     "output_type": "stream",
     "text": [
      "C:\\Users\\sreekar chidurala\\Anaconda3\\lib\\site-packages\\scipy\\stats\\stats.py:1713: FutureWarning: Using a non-tuple sequence for multidimensional indexing is deprecated; use `arr[tuple(seq)]` instead of `arr[seq]`. In the future this will be interpreted as an array index, `arr[np.array(seq)]`, which will result either in an error or a different result.\n",
      "  return np.add.reduce(sorted[indexer] * weights, axis=axis) / sumval\n"
     ]
    },
    {
     "data": {
      "image/png": "[encoded data removed]",
      "text/plain": [
       "<Figure size 906.375x216 with 1 Axes>"
      ]
     },
     "metadata": {
      "needs_background": "light"
     },
     "output_type": "display_data"
    }
   ],
   "source": [
    "#how target varibale is significantly chnages with Variable3\n",
    "facet = sns.FacetGrid(data1, hue=\"Target\",aspect=4)\n",
    "facet.map(sns.kdeplot,'Variable3',shade= True)\n",
    "facet.set(xlim=(0, data1['Variable3'].max()))\n",
    "facet.add_legend();\n",
    "\n",
    "# Variable 3 of values 2,3,4  has more significant relation on target value 0"
   ]
  },
  {
   "cell_type": "code",
   "execution_count": 82,
   "metadata": {},
   "outputs": [
    {
     "name": "stderr",
     "output_type": "stream",
     "text": [
      "C:\\Users\\sreekar chidurala\\Anaconda3\\lib\\site-packages\\scipy\\stats\\stats.py:1713: FutureWarning: Using a non-tuple sequence for multidimensional indexing is deprecated; use `arr[tuple(seq)]` instead of `arr[seq]`. In the future this will be interpreted as an array index, `arr[np.array(seq)]`, which will result either in an error or a different result.\n",
      "  return np.add.reduce(sorted[indexer] * weights, axis=axis) / sumval\n"
     ]
    },
    {
     "data": {
      "image/png": "[encoded data removed]",
      "text/plain": [
       "<Figure size 906.375x216 with 1 Axes>"
      ]
     },
     "metadata": {
      "needs_background": "light"
     },
     "output_type": "display_data"
    }
   ],
   "source": [
    "#how target varibale is significantly chnages with Variable4\n",
    "facet = sns.FacetGrid(data1, hue=\"Target\",aspect=4)\n",
    "facet.map(sns.kdeplot,'Variable4',shade= True)\n",
    "facet.set(xlim=(0, data1['Variable4'].max()))\n",
    "facet.add_legend();\n",
    "#not much significant"
   ]
  },
  {
   "cell_type": "code",
   "execution_count": 83,
   "metadata": {},
   "outputs": [
    {
     "name": "stderr",
     "output_type": "stream",
     "text": [
      "C:\\Users\\sreekar chidurala\\Anaconda3\\lib\\site-packages\\scipy\\stats\\stats.py:1713: FutureWarning: Using a non-tuple sequence for multidimensional indexing is deprecated; use `arr[tuple(seq)]` instead of `arr[seq]`. In the future this will be interpreted as an array index, `arr[np.array(seq)]`, which will result either in an error or a different result.\n",
      "  return np.add.reduce(sorted[indexer] * weights, axis=axis) / sumval\n"
     ]
    },
    {
     "data": {
      "image/png": "[encoded data removed]",
      "text/plain": [
       "<Figure size 906.375x216 with 1 Axes>"
      ]
     },
     "metadata": {
      "needs_background": "light"
     },
     "output_type": "display_data"
    }
   ],
   "source": [
    "#how target varibale is significantly chnages with Variable5\n",
    "facet = sns.FacetGrid(data1, hue=\"Target\",aspect=4)\n",
    "facet.map(sns.kdeplot,'Variable5',shade= True)\n",
    "facet.set(xlim=(0, data1['Variable5'].max()))\n",
    "facet.add_legend();"
   ]
  },
  {
   "cell_type": "code",
   "execution_count": 84,
   "metadata": {},
   "outputs": [
    {
     "name": "stderr",
     "output_type": "stream",
     "text": [
      "C:\\Users\\sreekar chidurala\\Anaconda3\\lib\\site-packages\\scipy\\stats\\stats.py:1713: FutureWarning: Using a non-tuple sequence for multidimensional indexing is deprecated; use `arr[tuple(seq)]` instead of `arr[seq]`. In the future this will be interpreted as an array index, `arr[np.array(seq)]`, which will result either in an error or a different result.\n",
      "  return np.add.reduce(sorted[indexer] * weights, axis=axis) / sumval\n"
     ]
    },
    {
     "data": {
      "image/png": "[encoded data removed]",
      "text/plain": [
       "<Figure size 906.375x216 with 1 Axes>"
      ]
     },
     "metadata": {
      "needs_background": "light"
     },
     "output_type": "display_data"
    }
   ],
   "source": [
    "#how target varibale is significantly chnages with Variable6\n",
    "facet = sns.FacetGrid(data1, hue=\"Target\",aspect=4)\n",
    "facet.map(sns.kdeplot,'Variable6',shade= True)\n",
    "facet.set(xlim=(0, data1['Variable6'].max()))\n",
    "facet.add_legend();\n",
    "#not much significant"
   ]
  },
  {
   "cell_type": "code",
   "execution_count": 85,
   "metadata": {},
   "outputs": [
    {
     "name": "stderr",
     "output_type": "stream",
     "text": [
      "C:\\Users\\sreekar chidurala\\Anaconda3\\lib\\site-packages\\scipy\\stats\\stats.py:1713: FutureWarning: Using a non-tuple sequence for multidimensional indexing is deprecated; use `arr[tuple(seq)]` instead of `arr[seq]`. In the future this will be interpreted as an array index, `arr[np.array(seq)]`, which will result either in an error or a different result.\n",
      "  return np.add.reduce(sorted[indexer] * weights, axis=axis) / sumval\n"
     ]
    },
    {
     "data": {
      "image/png": "[encoded data removed]",
      "text/plain": [
       "<Figure size 906.375x216 with 1 Axes>"
      ]
     },
     "metadata": {
      "needs_background": "light"
     },
     "output_type": "display_data"
    }
   ],
   "source": [
    "#how target varibale is significantly chnages with Variable7\n",
    "facet = sns.FacetGrid(data1, hue=\"Target\",aspect=4)\n",
    "facet.map(sns.kdeplot,'Variable7',shade= True)\n",
    "facet.set(xlim=(0, data1['Variable7'].max()))\n",
    "facet.add_legend();\n",
    "#has significant relation with values of variable 7"
   ]
  },
  {
   "cell_type": "code",
   "execution_count": 113,
   "metadata": {},
   "outputs": [
    {
     "name": "stderr",
     "output_type": "stream",
     "text": [
      "C:\\Users\\sreekar chidurala\\Anaconda3\\lib\\site-packages\\scipy\\stats\\stats.py:1713: FutureWarning: Using a non-tuple sequence for multidimensional indexing is deprecated; use `arr[tuple(seq)]` instead of `arr[seq]`. In the future this will be interpreted as an array index, `arr[np.array(seq)]`, which will result either in an error or a different result.\n",
      "  return np.add.reduce(sorted[indexer] * weights, axis=axis) / sumval\n"
     ]
    },
    {
     "data": {
      "image/png": "[encoded data removed]",
      "text/plain": [
       "<Figure size 906.375x216 with 1 Axes>"
      ]
     },
     "metadata": {
      "needs_background": "light"
     },
     "output_type": "display_data"
    }
   ],
   "source": [
    "#how target varibale is significantly chnages with Variable8\n",
    "facet = sns.FacetGrid(data1, hue=\"Target\",aspect=4)\n",
    "facet.map(sns.kdeplot,'Variable8',shade= True)\n",
    "facet.set(xlim=(0, data1['Variable8'].max()))\n",
    "facet.add_legend();\n",
    "\n",
    "\n",
    "## Varibale8 with value 11 has more significant relation with target value 1"
   ]
  },
  {
   "cell_type": "code",
   "execution_count": 156,
   "metadata": {},
   "outputs": [
    {
     "name": "stderr",
     "output_type": "stream",
     "text": [
      "C:\\Users\\sreekar chidurala\\Anaconda3\\lib\\site-packages\\scipy\\stats\\stats.py:1713: FutureWarning: Using a non-tuple sequence for multidimensional indexing is deprecated; use `arr[tuple(seq)]` instead of `arr[seq]`. In the future this will be interpreted as an array index, `arr[np.array(seq)]`, which will result either in an error or a different result.\n",
      "  return np.add.reduce(sorted[indexer] * weights, axis=axis) / sumval\n"
     ]
    },
    {
     "data": {
      "image/png": "[encoded data removed]",
      "text/plain": [
       "<Figure size 906.375x216 with 1 Axes>"
      ]
     },
     "metadata": {
      "needs_background": "light"
     },
     "output_type": "display_data"
    }
   ],
   "source": [
    "#how target varibale is significantly chnages with Variable9\n",
    "facet = sns.FacetGrid(data1, hue=\"Target\",aspect=4)\n",
    "facet.map(sns.kdeplot,'Variable9',shade= True)\n",
    "facet.set(xlim=(0, data1['Variable9'].max()))\n",
    "facet.add_legend();"
   ]
  },
  {
   "cell_type": "code",
   "execution_count": 157,
   "metadata": {},
   "outputs": [
    {
     "name": "stderr",
     "output_type": "stream",
     "text": [
      "C:\\Users\\sreekar chidurala\\Anaconda3\\lib\\site-packages\\scipy\\stats\\stats.py:1713: FutureWarning: Using a non-tuple sequence for multidimensional indexing is deprecated; use `arr[tuple(seq)]` instead of `arr[seq]`. In the future this will be interpreted as an array index, `arr[np.array(seq)]`, which will result either in an error or a different result.\n",
      "  return np.add.reduce(sorted[indexer] * weights, axis=axis) / sumval\n"
     ]
    },
    {
     "data": {
      "image/png": "[encoded data removed]",
      "text/plain": [
       "<Figure size 906.375x216 with 1 Axes>"
      ]
     },
     "metadata": {
      "needs_background": "light"
     },
     "output_type": "display_data"
    }
   ],
   "source": [
    "#how target varibale is significantly chnages with Variable10\n",
    "facet = sns.FacetGrid(data1, hue=\"Target\",aspect=4)\n",
    "facet.map(sns.kdeplot,'Variable10',shade= True)\n",
    "facet.set(xlim=(0, data1['Variable10'].max()))\n",
    "facet.add_legend();\n",
    "\n",
    "#not much significancy "
   ]
  },
  {
   "cell_type": "code",
   "execution_count": 158,
   "metadata": {},
   "outputs": [
    {
     "name": "stderr",
     "output_type": "stream",
     "text": [
      "C:\\Users\\sreekar chidurala\\Anaconda3\\lib\\site-packages\\scipy\\stats\\stats.py:1713: FutureWarning: Using a non-tuple sequence for multidimensional indexing is deprecated; use `arr[tuple(seq)]` instead of `arr[seq]`. In the future this will be interpreted as an array index, `arr[np.array(seq)]`, which will result either in an error or a different result.\n",
      "  return np.add.reduce(sorted[indexer] * weights, axis=axis) / sumval\n"
     ]
    },
    {
     "data": {
      "image/png": "[encoded data removed]",
      "text/plain": [
       "<Figure size 906.375x216 with 1 Axes>"
      ]
     },
     "metadata": {
      "needs_background": "light"
     },
     "output_type": "display_data"
    }
   ],
   "source": [
    "#how target varibale is significantly chnages with Variable11\n",
    "facet = sns.FacetGrid(data1, hue=\"Target\",aspect=4)\n",
    "facet.map(sns.kdeplot,'Variable11',shade= True)\n",
    "facet.set(xlim=(0, data1['Variable11'].max()))\n",
    "facet.add_legend();"
   ]
  },
  {
   "cell_type": "code",
   "execution_count": 164,
   "metadata": {},
   "outputs": [
    {
     "name": "stderr",
     "output_type": "stream",
     "text": [
      "C:\\Users\\sreekar chidurala\\Anaconda3\\lib\\site-packages\\scipy\\stats\\stats.py:1713: FutureWarning: Using a non-tuple sequence for multidimensional indexing is deprecated; use `arr[tuple(seq)]` instead of `arr[seq]`. In the future this will be interpreted as an array index, `arr[np.array(seq)]`, which will result either in an error or a different result.\n",
      "  return np.add.reduce(sorted[indexer] * weights, axis=axis) / sumval\n"
     ]
    },
    {
     "data": {
      "image/png": "[encoded data removed]",
      "text/plain": [
       "<Figure size 906.375x216 with 1 Axes>"
      ]
     },
     "metadata": {
      "needs_background": "light"
     },
     "output_type": "display_data"
    }
   ],
   "source": [
    "#how target varibale is significantly chnages with Variable15\n",
    "facet = sns.FacetGrid(data1, hue=\"Target\",aspect=4)\n",
    "facet.map(sns.kdeplot,'Variable15',shade= True)\n",
    "facet.set(xlim=(0, data1['Variable15'].max()))\n",
    "facet.add_legend();\n",
    "\n",
    "\n",
    "#Variable 15 of value 3 has more significant relation on target 0"
   ]
  },
  {
   "cell_type": "code",
   "execution_count": 165,
   "metadata": {},
   "outputs": [
    {
     "name": "stderr",
     "output_type": "stream",
     "text": [
      "C:\\Users\\sreekar chidurala\\Anaconda3\\lib\\site-packages\\scipy\\stats\\stats.py:1713: FutureWarning: Using a non-tuple sequence for multidimensional indexing is deprecated; use `arr[tuple(seq)]` instead of `arr[seq]`. In the future this will be interpreted as an array index, `arr[np.array(seq)]`, which will result either in an error or a different result.\n",
      "  return np.add.reduce(sorted[indexer] * weights, axis=axis) / sumval\n"
     ]
    },
    {
     "data": {
      "image/png": "[encoded data removed]",
      "text/plain": [
       "<Figure size 906.375x216 with 1 Axes>"
      ]
     },
     "metadata": {
      "needs_background": "light"
     },
     "output_type": "display_data"
    }
   ],
   "source": [
    "#how target varibale is significantly chnages with Variable18\n",
    "facet = sns.FacetGrid(data1, hue=\"Target\",aspect=4)\n",
    "facet.map(sns.kdeplot,'Variable18',shade= True)\n",
    "facet.set(xlim=(0, data1['Variable18'].max()))\n",
    "facet.add_legend();\n",
    "\n",
    "#no significancy"
   ]
  },
  {
   "cell_type": "code",
   "execution_count": null,
   "metadata": {},
   "outputs": [],
   "source": []
  },
  {
   "cell_type": "markdown",
   "metadata": {},
   "source": [
    "## Lets see if there any class imbalance"
   ]
  },
  {
   "cell_type": "code",
   "execution_count": 114,
   "metadata": {},
   "outputs": [
    {
     "data": {
      "image/png": "[encoded data removed]",
      "text/plain": [
       "<Figure size 432x288 with 1 Axes>"
      ]
     },
     "metadata": {
      "needs_background": "light"
     },
     "output_type": "display_data"
    }
   ],
   "source": [
    "#lest visualize it by bar graph\n",
    "plt.close('all')\n",
    "bins = np.bincount(data1['Target'].values)\n",
    "plt.bar([0,1],bins)\n",
    "plt.xticks([0,1])\n",
    "plt.xlabel('Classes')\n",
    "plt.ylabel('Count')\n",
    "plt.title('Histogram of train target class')\n",
    "plt.show()  ## class imbalance exists"
   ]
  },
  {
   "cell_type": "markdown",
   "metadata": {},
   "source": [
    "#### Lets balance the class since most of the machine learning algorithms are probabulistic in nature"
   ]
  },
  {
   "cell_type": "markdown",
   "metadata": {},
   "source": [
    "## Train test split"
   ]
  },
  {
   "cell_type": "code",
   "execution_count": 24,
   "metadata": {},
   "outputs": [],
   "source": [
    "features = data1.iloc[:,0:22]\n",
    "\n",
    "\n",
    "label = data1.iloc[:,22]"
   ]
  },
  {
   "cell_type": "code",
   "execution_count": 25,
   "metadata": {},
   "outputs": [],
   "source": [
    "#80:20 split\n",
    "from sklearn.model_selection import train_test_split\n",
    "\n",
    "X_train, X_test, y_train, y_test = train_test_split(features, label, test_size=0.2, random_state=0)"
   ]
  },
  {
   "cell_type": "code",
   "execution_count": 26,
   "metadata": {},
   "outputs": [
    {
     "data": {
      "text/plain": [
       "((159687, 22), (39922, 22), (159687,), (39922,))"
      ]
     },
     "execution_count": 26,
     "metadata": {},
     "output_type": "execute_result"
    }
   ],
   "source": [
    "X_train.shape ,X_test.shape , y_train.shape , y_test.shape"
   ]
  },
  {
   "cell_type": "markdown",
   "metadata": {},
   "source": [
    "## Balancing the class\n",
    "\n",
    "- using SMOTE to uplevel low level class"
   ]
  },
  {
   "cell_type": "code",
   "execution_count": 27,
   "metadata": {},
   "outputs": [],
   "source": [
    "from imblearn.over_sampling import SMOTE\n",
    "smote=SMOTE(random_state=100)\n",
    "X_train_res, y_train_res=smote.fit_sample(X_train, y_train)"
   ]
  },
  {
   "cell_type": "markdown",
   "metadata": {},
   "source": [
    "## Scaling for non imbalance data"
   ]
  },
  {
   "cell_type": "code",
   "execution_count": 28,
   "metadata": {},
   "outputs": [],
   "source": [
    "from sklearn.preprocessing import MaxAbsScaler\n",
    "scaler = MaxAbsScaler()\n",
    "scaler.fit(X_train)\n",
    "X_train_z = scaler.transform(X_train)\n",
    "X_test_z = scaler.transform(X_test)"
   ]
  },
  {
   "cell_type": "code",
   "execution_count": 29,
   "metadata": {},
   "outputs": [],
   "source": [
    "test_z = scaler.transform(test1)"
   ]
  },
  {
   "cell_type": "markdown",
   "metadata": {},
   "source": [
    "## Scaling for balanced class data"
   ]
  },
  {
   "cell_type": "code",
   "execution_count": 30,
   "metadata": {},
   "outputs": [],
   "source": [
    "from sklearn.preprocessing import MaxAbsScaler\n",
    "scaler = MaxAbsScaler()\n",
    "scaler.fit(X_train)\n",
    "X_train_z_res = scaler.transform(X_train_res)\n"
   ]
  },
  {
   "cell_type": "code",
   "execution_count": 31,
   "metadata": {},
   "outputs": [],
   "source": [
    "## imports\n",
    "from imblearn.over_sampling import SMOTE\n",
    "from sklearn.tree import DecisionTreeClassifier\n",
    "from sklearn.neighbors import KNeighborsClassifier\n",
    "from sklearn.metrics import accuracy_score\n",
    "from sklearn import metrics"
   ]
  },
  {
   "cell_type": "markdown",
   "metadata": {},
   "source": [
    "## Decision Tree Classifier"
   ]
  },
  {
   "cell_type": "code",
   "execution_count": 212,
   "metadata": {},
   "outputs": [
    {
     "data": {
      "text/plain": [
       "0.9034116527228094"
      ]
     },
     "execution_count": 212,
     "metadata": {},
     "output_type": "execute_result"
    }
   ],
   "source": [
    "DTClassifier= DecisionTreeClassifier (max_depth=22, min_samples_split =3,criterion='gini',min_samples_leaf=3)\n",
    "DTClassifier.fit(X_train_z,y_train)\n",
    "predicted_labels = DTClassifier.predict(X_test_z)\n",
    "DTClassifier.score(X_test_z, y_test)"
   ]
  },
  {
   "cell_type": "markdown",
   "metadata": {},
   "source": [
    "## Decision tree classifier for balanced class"
   ]
  },
  {
   "cell_type": "code",
   "execution_count": 136,
   "metadata": {},
   "outputs": [],
   "source": [
    "DTClassifier1= DecisionTreeClassifier (max_depth=5, min_samples_split =3,criterion='gini',min_samples_leaf=9)\n",
    "DTClassifier1.fit(X_train_z_res,y_train_res)\n",
    "predicted_labels1 = DTClassifier1.predict(X_test_z)"
   ]
  },
  {
   "cell_type": "code",
   "execution_count": 137,
   "metadata": {},
   "outputs": [
    {
     "data": {
      "text/plain": [
       "0.7283452732829017"
      ]
     },
     "execution_count": 137,
     "metadata": {},
     "output_type": "execute_result"
    }
   ],
   "source": [
    "DTClassifier1.score(X_test_z, y_test)   # very bad score after class balance"
   ]
  },
  {
   "cell_type": "markdown",
   "metadata": {},
   "source": [
    "### KNN cassifier"
   ]
  },
  {
   "cell_type": "code",
   "execution_count": 147,
   "metadata": {},
   "outputs": [
    {
     "data": {
      "text/plain": [
       "KNeighborsClassifier(algorithm='auto', leaf_size=30, metric='euclidean',\n",
       "           metric_params=None, n_jobs=None, n_neighbors=10, p=3,\n",
       "           weights='uniform')"
      ]
     },
     "execution_count": 147,
     "metadata": {},
     "output_type": "execute_result"
    }
   ],
   "source": [
    "from sklearn.neighbors import KNeighborsClassifier\n",
    "NNH = KNeighborsClassifier(n_neighbors= 10 , weights = 'uniform', metric='euclidean',p=3)\n",
    "NNH.fit(X_train_z,y_train)"
   ]
  },
  {
   "cell_type": "code",
   "execution_count": 149,
   "metadata": {},
   "outputs": [
    {
     "data": {
      "text/plain": [
       "0.8693953208757076"
      ]
     },
     "execution_count": 149,
     "metadata": {},
     "output_type": "execute_result"
    }
   ],
   "source": [
    "NNH.score(X_test_z, y_test)"
   ]
  },
  {
   "cell_type": "markdown",
   "metadata": {},
   "source": [
    "### Naive Bayes"
   ]
  },
  {
   "cell_type": "code",
   "execution_count": 151,
   "metadata": {},
   "outputs": [],
   "source": [
    "from sklearn.naive_bayes import GaussianNB\n",
    "gnb = GaussianNB()\n",
    "gnb = gnb.fit(X_train_z,y_train)"
   ]
  },
  {
   "cell_type": "code",
   "execution_count": 152,
   "metadata": {},
   "outputs": [
    {
     "data": {
      "text/plain": [
       "0.8053454235759732"
      ]
     },
     "execution_count": 152,
     "metadata": {},
     "output_type": "execute_result"
    }
   ],
   "source": [
    "gnb.score(X_test_z, y_test)"
   ]
  },
  {
   "cell_type": "markdown",
   "metadata": {},
   "source": [
    "### Random Forest Classifier on Unbalanced Class"
   ]
  },
  {
   "cell_type": "code",
   "execution_count": 196,
   "metadata": {},
   "outputs": [
    {
     "data": {
      "text/plain": [
       "RandomForestClassifier(bootstrap=True, class_weight='balanced',\n",
       "            criterion='gini', max_depth=None, max_features='auto',\n",
       "            max_leaf_nodes=None, min_impurity_decrease=0.0,\n",
       "            min_impurity_split=None, min_samples_leaf=1,\n",
       "            min_samples_split=2, min_weight_fraction_leaf=0.0,\n",
       "            n_estimators=300, n_jobs=-1, oob_score=False, random_state=1,\n",
       "            verbose=0, warm_start=False)"
      ]
     },
     "execution_count": 196,
     "metadata": {},
     "output_type": "execute_result"
    }
   ],
   "source": [
    "from sklearn.model_selection import train_test_split\n",
    "from sklearn.ensemble import RandomForestClassifier\n",
    "from sklearn.metrics import classification_report, confusion_matrix, roc_curve, make_scorer\n",
    "from tqdm import tqdm\n",
    "SEED = 1\n",
    "model_full_rf = RandomForestClassifier(n_estimators=300, class_weight='balanced', random_state=SEED, n_jobs=-1)\n",
    "model_full_rf.fit(X_train_z, y_train)"
   ]
  },
  {
   "cell_type": "code",
   "execution_count": 199,
   "metadata": {},
   "outputs": [
    {
     "data": {
      "text/plain": [
       "0.9246029758028155"
      ]
     },
     "execution_count": 199,
     "metadata": {},
     "output_type": "execute_result"
    }
   ],
   "source": [
    "model_full_rf.score(X_test_z, y_test)\n",
    "#model_full_rf.score(X_train_z, y_train)"
   ]
  },
  {
   "cell_type": "code",
   "execution_count": 154,
   "metadata": {},
   "outputs": [],
   "source": [
    "predicted_labels2 = model_full_rf.predict(X_test_z)\n"
   ]
  },
  {
   "cell_type": "markdown",
   "metadata": {},
   "source": [
    "### Random Forest Classifier on Balanced Class Data"
   ]
  },
  {
   "cell_type": "code",
   "execution_count": 222,
   "metadata": {},
   "outputs": [
    {
     "data": {
      "text/plain": [
       "RandomForestClassifier(bootstrap=True, class_weight='balanced',\n",
       "            criterion='gini', max_depth=None, max_features='auto',\n",
       "            max_leaf_nodes=None, min_impurity_decrease=0.0,\n",
       "            min_impurity_split=None, min_samples_leaf=1,\n",
       "            min_samples_split=2, min_weight_fraction_leaf=0.0,\n",
       "            n_estimators=200, n_jobs=-1, oob_score=False, random_state=100,\n",
       "            verbose=0, warm_start=False)"
      ]
     },
     "execution_count": 222,
     "metadata": {},
     "output_type": "execute_result"
    }
   ],
   "source": [
    "from sklearn.model_selection import train_test_split\n",
    "from sklearn.ensemble import RandomForestClassifier\n",
    "from sklearn.metrics import classification_report, confusion_matrix, roc_curve, make_scorer\n",
    "from tqdm import tqdm\n",
    "SEED = 100\n",
    "model_full_rf1 = RandomForestClassifier(n_estimators=200, class_weight='balanced', random_state=SEED, n_jobs=-1)\n",
    "model_full_rf1.fit(X_train_z_res, y_train_res)"
   ]
  },
  {
   "cell_type": "code",
   "execution_count": 142,
   "metadata": {},
   "outputs": [
    {
     "data": {
      "text/plain": [
       "0.9229998497069285"
      ]
     },
     "execution_count": 142,
     "metadata": {},
     "output_type": "execute_result"
    }
   ],
   "source": [
    "model_full_rf1.score(X_test_z, y_test)"
   ]
  },
  {
   "cell_type": "markdown",
   "metadata": {},
   "source": [
    "### Ada Boosting using deciison tree on Unbalanced data"
   ]
  },
  {
   "cell_type": "code",
   "execution_count": 143,
   "metadata": {},
   "outputs": [],
   "source": [
    "DTClassifier= DecisionTreeClassifier (max_depth=9, min_samples_split =5,criterion='gini',min_samples_leaf=4)\n",
    "from sklearn.ensemble import AdaBoostClassifier\n",
    "abcl1 = AdaBoostClassifier(base_estimator=DTClassifier, n_estimators=50, random_state=1)\n",
    "#abcl = AdaBoostClassifier(n_estimators=50)\n",
    "abcl1 = abcl.fit(X_train_z,y_train)"
   ]
  },
  {
   "cell_type": "code",
   "execution_count": 144,
   "metadata": {},
   "outputs": [
    {
     "data": {
      "text/plain": [
       "0.9075697610340163"
      ]
     },
     "execution_count": 144,
     "metadata": {},
     "output_type": "execute_result"
    }
   ],
   "source": [
    "abcl1.score(X_test_z, y_test)"
   ]
  },
  {
   "cell_type": "markdown",
   "metadata": {},
   "source": [
    "### ada boosting using decision on balanced Class"
   ]
  },
  {
   "cell_type": "code",
   "execution_count": 145,
   "metadata": {},
   "outputs": [],
   "source": [
    "DTClassifier= DecisionTreeClassifier (max_depth=9, min_samples_split =5,criterion='gini',min_samples_leaf=2)\n",
    "from sklearn.ensemble import AdaBoostClassifier\n",
    "abcl = AdaBoostClassifier(base_estimator=DTClassifier, n_estimators=50, random_state=1)\n",
    "#abcl = AdaBoostClassifier(n_estimators=50)\n",
    "abcl = abcl.fit(X_train_z_res,y_train_res)"
   ]
  },
  {
   "cell_type": "code",
   "execution_count": 146,
   "metadata": {},
   "outputs": [
    {
     "data": {
      "text/plain": [
       "0.9066930514503282"
      ]
     },
     "execution_count": 146,
     "metadata": {},
     "output_type": "execute_result"
    }
   ],
   "source": [
    "abcl.score(X_test_z, y_test)"
   ]
  },
  {
   "cell_type": "markdown",
   "metadata": {},
   "source": [
    "## Support vector Classifier"
   ]
  },
  {
   "cell_type": "code",
   "execution_count": 229,
   "metadata": {},
   "outputs": [],
   "source": [
    "from sklearn import svm\n",
    "clf = svm.SVC()"
   ]
  },
  {
   "cell_type": "code",
   "execution_count": 230,
   "metadata": {},
   "outputs": [
    {
     "name": "stderr",
     "output_type": "stream",
     "text": [
      "C:\\Users\\sreekar chidurala\\Anaconda3\\lib\\site-packages\\sklearn\\svm\\base.py:196: FutureWarning: The default value of gamma will change from 'auto' to 'scale' in version 0.22 to account better for unscaled features. Set gamma explicitly to 'auto' or 'scale' to avoid this warning.\n",
      "  \"avoid this warning.\", FutureWarning)\n"
     ]
    },
    {
     "data": {
      "text/plain": [
       "SVC(C=1.0, cache_size=200, class_weight=None, coef0=0.0,\n",
       "  decision_function_shape='ovr', degree=3, gamma='auto_deprecated',\n",
       "  kernel='rbf', max_iter=-1, probability=False, random_state=None,\n",
       "  shrinking=True, tol=0.001, verbose=False)"
      ]
     },
     "execution_count": 230,
     "metadata": {},
     "output_type": "execute_result"
    }
   ],
   "source": [
    "clf.fit(X_train_z , y_train)    ##ohh god  its taking lots of time"
   ]
  },
  {
   "cell_type": "code",
   "execution_count": 231,
   "metadata": {},
   "outputs": [
    {
     "data": {
      "text/plain": [
       "0.8277641400731426"
      ]
     },
     "execution_count": 231,
     "metadata": {},
     "output_type": "execute_result"
    }
   ],
   "source": [
    "clf.score(X_test_z, y_test)"
   ]
  },
  {
   "cell_type": "markdown",
   "metadata": {},
   "source": [
    "### Of all the models i've performed ,Best score i achevied is through Random Forest model"
   ]
  },
  {
   "cell_type": "markdown",
   "metadata": {},
   "source": [
    "### Precision , Recall, F1 score  (Random Forest)"
   ]
  },
  {
   "cell_type": "code",
   "execution_count": 161,
   "metadata": {},
   "outputs": [
    {
     "name": "stdout",
     "output_type": "stream",
     "text": [
      "              precision    recall  f1-score   support\n",
      "\n",
      "           0       0.94      0.98      0.96     33018\n",
      "           1       0.86      0.68      0.76      6904\n",
      "\n",
      "   micro avg       0.92      0.92      0.92     39922\n",
      "   macro avg       0.90      0.83      0.86     39922\n",
      "weighted avg       0.92      0.92      0.92     39922\n",
      "\n"
     ]
    }
   ],
   "source": [
    "print(classification_report(y_test,predicted_labels2))"
   ]
  },
  {
   "cell_type": "markdown",
   "metadata": {},
   "source": [
    "### ROC curve   (Random Forest)"
   ]
  },
  {
   "cell_type": "code",
   "execution_count": 159,
   "metadata": {},
   "outputs": [],
   "source": [
    "#creating a function for ROC curve\n",
    "def draw_roc( actual, probs ):\n",
    "    fpr, tpr, thresholds = metrics.roc_curve( actual, probs,\n",
    "                                              drop_intermediate = False )\n",
    "    auc_score = metrics.roc_auc_score( actual, probs )\n",
    "    plt.figure(figsize=(6, 6))\n",
    "    plt.plot( fpr, tpr, label='ROC curve (area = %0.2f)' % auc_score )\n",
    "    plt.plot([0, 1], [0, 1], 'k--')\n",
    "    plt.xlim([0.0, 1.0])\n",
    "    plt.ylim([0.0, 1.05])\n",
    "    plt.xlabel('False Positive Rate or [1 - True Negative Rate]')\n",
    "    plt.ylabel('True Positive Rate')\n",
    "    plt.title('Receiver operating characteristic example')\n",
    "    plt.legend(loc=\"lower right\")\n",
    "    plt.show()\n",
    "\n",
    "    return fpr, tpr, thresholds"
   ]
  },
  {
   "cell_type": "code",
   "execution_count": 162,
   "metadata": {},
   "outputs": [
    {
     "data": {
      "image/png": "[encoded data removed]",
      "text/plain": [
       "<Figure size 432x432 with 1 Axes>"
      ]
     },
     "metadata": {
      "needs_background": "light"
     },
     "output_type": "display_data"
    },
    {
     "data": {
      "text/plain": [
       "(array([0.       , 0.0238052, 1.       ]),\n",
       " array([0.        , 0.67844728, 1.        ]),\n",
       " array([2, 1, 0], dtype=int64))"
      ]
     },
     "execution_count": 162,
     "metadata": {},
     "output_type": "execute_result"
    }
   ],
   "source": [
    "draw_roc(y_test,predicted_labels2)"
   ]
  },
  {
   "cell_type": "markdown",
   "metadata": {},
   "source": [
    "### Confusion Matrix"
   ]
  },
  {
   "cell_type": "code",
   "execution_count": 163,
   "metadata": {},
   "outputs": [
    {
     "data": {
      "image/png": "[encoded data removed]",
      "text/plain": [
       "<Figure size 432x288 with 2 Axes>"
      ]
     },
     "metadata": {
      "needs_background": "light"
     },
     "output_type": "display_data"
    }
   ],
   "source": [
    "import scikitplot as skplt\n",
    "skplt.metrics.plot_confusion_matrix(y_test,predicted_labels2, normalize=False)\n",
    "plt.show()"
   ]
  },
  {
   "cell_type": "markdown",
   "metadata": {},
   "source": [
    "### mixed models"
   ]
  },
  {
   "cell_type": "code",
   "execution_count": 166,
   "metadata": {},
   "outputs": [],
   "source": [
    "from sklearn.model_selection import cross_val_score\n",
    "from sklearn.linear_model import LogisticRegression\n",
    "from sklearn.naive_bayes import GaussianNB\n",
    "from sklearn.ensemble import RandomForestClassifier\n",
    "from sklearn.ensemble import VotingClassifier\n",
    "from sklearn.ensemble import BaggingClassifier"
   ]
  },
  {
   "cell_type": "code",
   "execution_count": 167,
   "metadata": {},
   "outputs": [],
   "source": [
    "array = data1.values\n",
    "X = array[:,0:22] # select all rows and first 8 columns which are the attributes\n",
    "Y = array[:,22] "
   ]
  },
  {
   "cell_type": "code",
   "execution_count": 168,
   "metadata": {},
   "outputs": [],
   "source": [
    "dt_model = DecisionTreeClassifier(criterion = 'entropy',random_state=1, max_depth = 5)\n",
    "lrcl = LogisticRegression(random_state=1)\n",
    "rfcl = RandomForestClassifier(random_state=1)\n",
    "nbcl = GaussianNB()\n",
    "bgcl = BaggingClassifier(base_estimator=dt_model, n_estimators=50 , random_state=1)  \n",
    "#the base_estimator can be null. The bagging classifer  will build it's own tree\n",
    "\n",
    "enclf = VotingClassifier(estimators = [('lor', lrcl), ('rf', rfcl), ('nb', nbcl), ('bg', bgcl)], voting = 'hard')"
   ]
  },
  {
   "cell_type": "code",
   "execution_count": 169,
   "metadata": {},
   "outputs": [
    {
     "name": "stderr",
     "output_type": "stream",
     "text": [
      "C:\\Users\\sreekar chidurala\\Anaconda3\\lib\\site-packages\\sklearn\\linear_model\\logistic.py:432: FutureWarning: Default solver will be changed to 'lbfgs' in 0.22. Specify a solver to silence this warning.\n",
      "  FutureWarning)\n",
      "C:\\Users\\sreekar chidurala\\Anaconda3\\lib\\site-packages\\sklearn\\linear_model\\logistic.py:432: FutureWarning: Default solver will be changed to 'lbfgs' in 0.22. Specify a solver to silence this warning.\n",
      "  FutureWarning)\n",
      "C:\\Users\\sreekar chidurala\\Anaconda3\\lib\\site-packages\\sklearn\\linear_model\\logistic.py:432: FutureWarning: Default solver will be changed to 'lbfgs' in 0.22. Specify a solver to silence this warning.\n",
      "  FutureWarning)\n",
      "C:\\Users\\sreekar chidurala\\Anaconda3\\lib\\site-packages\\sklearn\\linear_model\\logistic.py:432: FutureWarning: Default solver will be changed to 'lbfgs' in 0.22. Specify a solver to silence this warning.\n",
      "  FutureWarning)\n",
      "C:\\Users\\sreekar chidurala\\Anaconda3\\lib\\site-packages\\sklearn\\linear_model\\logistic.py:432: FutureWarning: Default solver will be changed to 'lbfgs' in 0.22. Specify a solver to silence this warning.\n",
      "  FutureWarning)\n"
     ]
    },
    {
     "name": "stdout",
     "output_type": "stream",
     "text": [
      "Accuracy: 0.83 (+/- 0.00) [Logistic Regression]\n"
     ]
    },
    {
     "name": "stderr",
     "output_type": "stream",
     "text": [
      "C:\\Users\\sreekar chidurala\\Anaconda3\\lib\\site-packages\\sklearn\\ensemble\\forest.py:248: FutureWarning: The default value of n_estimators will change from 10 in version 0.20 to 100 in 0.22.\n",
      "  \"10 in version 0.20 to 100 in 0.22.\", FutureWarning)\n",
      "C:\\Users\\sreekar chidurala\\Anaconda3\\lib\\site-packages\\sklearn\\ensemble\\forest.py:248: FutureWarning: The default value of n_estimators will change from 10 in version 0.20 to 100 in 0.22.\n",
      "  \"10 in version 0.20 to 100 in 0.22.\", FutureWarning)\n",
      "C:\\Users\\sreekar chidurala\\Anaconda3\\lib\\site-packages\\sklearn\\ensemble\\forest.py:248: FutureWarning: The default value of n_estimators will change from 10 in version 0.20 to 100 in 0.22.\n",
      "  \"10 in version 0.20 to 100 in 0.22.\", FutureWarning)\n",
      "C:\\Users\\sreekar chidurala\\Anaconda3\\lib\\site-packages\\sklearn\\ensemble\\forest.py:248: FutureWarning: The default value of n_estimators will change from 10 in version 0.20 to 100 in 0.22.\n",
      "  \"10 in version 0.20 to 100 in 0.22.\", FutureWarning)\n",
      "C:\\Users\\sreekar chidurala\\Anaconda3\\lib\\site-packages\\sklearn\\ensemble\\forest.py:248: FutureWarning: The default value of n_estimators will change from 10 in version 0.20 to 100 in 0.22.\n",
      "  \"10 in version 0.20 to 100 in 0.22.\", FutureWarning)\n"
     ]
    },
    {
     "name": "stdout",
     "output_type": "stream",
     "text": [
      "Accuracy: 0.92 (+/- 0.00) [RandomForest]\n",
      "Accuracy: 0.83 (+/- 0.00) [NaiveBayes]\n"
     ]
    },
    {
     "name": "stderr",
     "output_type": "stream",
     "text": [
      "C:\\Users\\sreekar chidurala\\Anaconda3\\lib\\site-packages\\sklearn\\linear_model\\logistic.py:432: FutureWarning: Default solver will be changed to 'lbfgs' in 0.22. Specify a solver to silence this warning.\n",
      "  FutureWarning)\n",
      "C:\\Users\\sreekar chidurala\\Anaconda3\\lib\\site-packages\\sklearn\\ensemble\\forest.py:248: FutureWarning: The default value of n_estimators will change from 10 in version 0.20 to 100 in 0.22.\n",
      "  \"10 in version 0.20 to 100 in 0.22.\", FutureWarning)\n",
      "C:\\Users\\sreekar chidurala\\Anaconda3\\lib\\site-packages\\sklearn\\linear_model\\logistic.py:432: FutureWarning: Default solver will be changed to 'lbfgs' in 0.22. Specify a solver to silence this warning.\n",
      "  FutureWarning)\n",
      "C:\\Users\\sreekar chidurala\\Anaconda3\\lib\\site-packages\\sklearn\\ensemble\\forest.py:248: FutureWarning: The default value of n_estimators will change from 10 in version 0.20 to 100 in 0.22.\n",
      "  \"10 in version 0.20 to 100 in 0.22.\", FutureWarning)\n",
      "C:\\Users\\sreekar chidurala\\Anaconda3\\lib\\site-packages\\sklearn\\linear_model\\logistic.py:432: FutureWarning: Default solver will be changed to 'lbfgs' in 0.22. Specify a solver to silence this warning.\n",
      "  FutureWarning)\n",
      "C:\\Users\\sreekar chidurala\\Anaconda3\\lib\\site-packages\\sklearn\\ensemble\\forest.py:248: FutureWarning: The default value of n_estimators will change from 10 in version 0.20 to 100 in 0.22.\n",
      "  \"10 in version 0.20 to 100 in 0.22.\", FutureWarning)\n",
      "C:\\Users\\sreekar chidurala\\Anaconda3\\lib\\site-packages\\sklearn\\linear_model\\logistic.py:432: FutureWarning: Default solver will be changed to 'lbfgs' in 0.22. Specify a solver to silence this warning.\n",
      "  FutureWarning)\n",
      "C:\\Users\\sreekar chidurala\\Anaconda3\\lib\\site-packages\\sklearn\\ensemble\\forest.py:248: FutureWarning: The default value of n_estimators will change from 10 in version 0.20 to 100 in 0.22.\n",
      "  \"10 in version 0.20 to 100 in 0.22.\", FutureWarning)\n",
      "C:\\Users\\sreekar chidurala\\Anaconda3\\lib\\site-packages\\sklearn\\linear_model\\logistic.py:432: FutureWarning: Default solver will be changed to 'lbfgs' in 0.22. Specify a solver to silence this warning.\n",
      "  FutureWarning)\n",
      "C:\\Users\\sreekar chidurala\\Anaconda3\\lib\\site-packages\\sklearn\\ensemble\\forest.py:248: FutureWarning: The default value of n_estimators will change from 10 in version 0.20 to 100 in 0.22.\n",
      "  \"10 in version 0.20 to 100 in 0.22.\", FutureWarning)\n"
     ]
    },
    {
     "name": "stdout",
     "output_type": "stream",
     "text": [
      "Accuracy: 0.83 (+/- 0.00) [Ensemble]\n",
      "Accuracy: 0.86 (+/- 0.00) [Bagging]\n"
     ]
    }
   ],
   "source": [
    "for clf, label in zip([lrcl , rfcl, nbcl, enclf, bgcl], ['Logistic Regression', 'RandomForest', 'NaiveBayes', 'Ensemble', 'Bagging']):\n",
    "    scores = cross_val_score(clf, X, Y, cv=5, scoring='accuracy')\n",
    "    print(\"Accuracy: %0.02f (+/- %0.2f) [%s]\" % (scores.mean(), scores.std(), label ))"
   ]
  },
  {
   "cell_type": "markdown",
   "metadata": {},
   "source": [
    "- random forest is giving a best score"
   ]
  },
  {
   "cell_type": "markdown",
   "metadata": {},
   "source": [
    "### random grid search on RF"
   ]
  },
  {
   "cell_type": "code",
   "execution_count": 227,
   "metadata": {},
   "outputs": [
    {
     "name": "stdout",
     "output_type": "stream",
     "text": [
      "[ 5. 10.]\n"
     ]
    }
   ],
   "source": [
    "import numpy as np\n",
    "print(np.linspace(start = 5, stop = 10, num = 2))"
   ]
  },
  {
   "cell_type": "code",
   "execution_count": 184,
   "metadata": {},
   "outputs": [
    {
     "name": "stdout",
     "output_type": "stream",
     "text": [
      "{'n_estimators': [10, 15], 'max_features': ['auto', 'log2'], 'max_depth': [5, 10, None], 'min_samples_split': [2, 5, 10], 'min_samples_leaf': [1, 2, 4], 'bootstrap': [True, False]}\n"
     ]
    }
   ],
   "source": [
    "from sklearn.ensemble import RandomForestClassifier\n",
    "from sklearn.model_selection import RandomizedSearchCV\n",
    "# Number of trees in random forest\n",
    "n_estimators = [int(x) for x in np.linspace(start = 10 , stop = 15, num = 2)]   # returns evenly spaced 10 numbers\n",
    "# Number of features to consider at every split\n",
    "max_features = ['auto', 'log2']\n",
    "# Maximum number of levels in tree\n",
    "max_depth = [int(x) for x in np.linspace(5, 10, num = 2)]  # returns evenly spaced numbers can be changed to any\n",
    "max_depth.append(None)\n",
    "# Minimum number of samples required to split a node\n",
    "min_samples_split = [2, 5, 10]\n",
    "# Minimum number of samples required at each leaf node\n",
    "min_samples_leaf = [1, 2, 4]\n",
    "# Method of selecting samples for training each tree\n",
    "bootstrap = [True, False]\n",
    "\n",
    "# Create the random grid\n",
    "random_grid = {'n_estimators': n_estimators,\n",
    "               'max_features': max_features,\n",
    "               'max_depth': max_depth,\n",
    "               'min_samples_split': min_samples_split,\n",
    "               'min_samples_leaf': min_samples_leaf,\n",
    "               'bootstrap': bootstrap}\n",
    "\n",
    "print(random_grid)"
   ]
  },
  {
   "cell_type": "code",
   "execution_count": 185,
   "metadata": {},
   "outputs": [
    {
     "name": "stdout",
     "output_type": "stream",
     "text": [
      "Fitting 3 folds for each of 5 candidates, totalling 15 fits\n"
     ]
    },
    {
     "name": "stderr",
     "output_type": "stream",
     "text": [
      "[Parallel(n_jobs=-1)]: Using backend LokyBackend with 4 concurrent workers.\n",
      "[Parallel(n_jobs=-1)]: Done  15 out of  15 | elapsed:   50.2s finished\n"
     ]
    }
   ],
   "source": [
    "from sklearn.ensemble import RandomForestClassifier\n",
    "\n",
    "rf = RandomForestClassifier(random_state = 100)\n",
    "# Use the random grid to search for best hyperparameters\n",
    "\n",
    "# Random search of parameters, using 3 fold cross validation, \n",
    "rf_random = RandomizedSearchCV(estimator=rf, param_distributions=random_grid,\n",
    "                              n_iter = 5,  \n",
    "                              cv = 3, verbose=2, random_state=42, n_jobs=-1,\n",
    "                              return_train_score=True)\n",
    "\n",
    "# Fit the random search model\n",
    "rf_random.fit(X_train_z, y_train);"
   ]
  },
  {
   "cell_type": "code",
   "execution_count": 186,
   "metadata": {},
   "outputs": [
    {
     "data": {
      "text/plain": [
       "{'n_estimators': 15,\n",
       " 'min_samples_split': 5,\n",
       " 'min_samples_leaf': 1,\n",
       " 'max_features': 'log2',\n",
       " 'max_depth': None,\n",
       " 'bootstrap': False}"
      ]
     },
     "execution_count": 186,
     "metadata": {},
     "output_type": "execute_result"
    }
   ],
   "source": [
    "#best hyper parameters\n",
    "rf_random.best_params_"
   ]
  },
  {
   "cell_type": "code",
   "execution_count": 187,
   "metadata": {},
   "outputs": [],
   "source": [
    "best_random = rf_random.best_estimator_\n",
    "best_random= best_random.fit(X_train_z, y_train)"
   ]
  },
  {
   "cell_type": "code",
   "execution_count": 188,
   "metadata": {},
   "outputs": [
    {
     "data": {
      "text/plain": [
       "0.9259055157557237"
      ]
     },
     "execution_count": 188,
     "metadata": {},
     "output_type": "execute_result"
    }
   ],
   "source": [
    "predicted_labels3 = best_random.predict(X_test_z)\n",
    "metrics.accuracy_score(predicted_labels3,y_test)"
   ]
  },
  {
   "cell_type": "markdown",
   "metadata": {},
   "source": [
    "### submission"
   ]
  },
  {
   "cell_type": "code",
   "execution_count": null,
   "metadata": {},
   "outputs": [],
   "source": [
    "predicted_labels = model_full_rf.predict(test_z)"
   ]
  },
  {
   "cell_type": "code",
   "execution_count": 190,
   "metadata": {},
   "outputs": [],
   "source": [
    "submission=pd.DataFrame(predicted_labels)"
   ]
  },
  {
   "cell_type": "code",
   "execution_count": 191,
   "metadata": {},
   "outputs": [],
   "source": [
    "submission = submission.reset_index()"
   ]
  },
  {
   "cell_type": "code",
   "execution_count": 192,
   "metadata": {},
   "outputs": [],
   "source": [
    "submission.columns=[\"ID\",\"Class\"]"
   ]
  },
  {
   "cell_type": "code",
   "execution_count": 194,
   "metadata": {},
   "outputs": [],
   "source": [
    "submission.to_csv('sub4.csv', index=False)"
   ]
  },
  {
   "cell_type": "markdown",
   "metadata": {},
   "source": [
    "#### Working on test2_data"
   ]
  },
  {
   "cell_type": "code",
   "execution_count": 170,
   "metadata": {},
   "outputs": [],
   "source": [
    "test2=pd.read_csv(\"test2_data.csv\")"
   ]
  },
  {
   "cell_type": "code",
   "execution_count": 171,
   "metadata": {},
   "outputs": [
    {
     "data": {
      "text/html": [
       "<div>\n",
       "<style scoped>\n",
       "    .dataframe tbody tr th:only-of-type {\n",
       "        vertical-align: middle;\n",
       "    }\n",
       "\n",
       "    .dataframe tbody tr th {\n",
       "        vertical-align: top;\n",
       "    }\n",
       "\n",
       "    .dataframe thead th {\n",
       "        text-align: right;\n",
       "    }\n",
       "</style>\n",
       "<table border=\"1\" class=\"dataframe\">\n",
       "  <thead>\n",
       "    <tr style=\"text-align: right;\">\n",
       "      <th></th>\n",
       "      <th>Variable1</th>\n",
       "      <th>Variable2</th>\n",
       "      <th>Variable3</th>\n",
       "      <th>Variable4</th>\n",
       "      <th>Variable5</th>\n",
       "      <th>Variable6</th>\n",
       "      <th>Variable7</th>\n",
       "      <th>Variable8</th>\n",
       "      <th>Variable9</th>\n",
       "      <th>Variable10</th>\n",
       "      <th>...</th>\n",
       "      <th>Variable19</th>\n",
       "      <th>Variable20</th>\n",
       "      <th>Variable21</th>\n",
       "      <th>Variable22</th>\n",
       "      <th>Variable23</th>\n",
       "      <th>Variable24</th>\n",
       "      <th>Variable25</th>\n",
       "      <th>Variable26</th>\n",
       "      <th>Variable27</th>\n",
       "      <th>Variable28</th>\n",
       "    </tr>\n",
       "  </thead>\n",
       "  <tbody>\n",
       "    <tr>\n",
       "      <th>0</th>\n",
       "      <td>1</td>\n",
       "      <td>ARO-1926</td>\n",
       "      <td>2</td>\n",
       "      <td>APHRNG1692</td>\n",
       "      <td>Apr-16</td>\n",
       "      <td>N</td>\n",
       "      <td>9.601204e+09</td>\n",
       "      <td>Col-6930</td>\n",
       "      <td>PBAL014443</td>\n",
       "      <td>USG2</td>\n",
       "      <td>...</td>\n",
       "      <td>LBAL19777</td>\n",
       "      <td>NaN</td>\n",
       "      <td>NaN</td>\n",
       "      <td>VAR SULP DI TT3 PS</td>\n",
       "      <td>NaN</td>\n",
       "      <td>N</td>\n",
       "      <td>NaN</td>\n",
       "      <td>COM1</td>\n",
       "      <td>1150.0</td>\n",
       "      <td>MFTRC322</td>\n",
       "    </tr>\n",
       "    <tr>\n",
       "      <th>1</th>\n",
       "      <td>2</td>\n",
       "      <td>ARO-4005</td>\n",
       "      <td>3</td>\n",
       "      <td>APFPTV31635</td>\n",
       "      <td>Mar-16</td>\n",
       "      <td>Y</td>\n",
       "      <td>9.388245e+09</td>\n",
       "      <td>Col-4259</td>\n",
       "      <td>PMV0019900</td>\n",
       "      <td>USG1</td>\n",
       "      <td>...</td>\n",
       "      <td>LMV021548</td>\n",
       "      <td>NaN</td>\n",
       "      <td>NaN</td>\n",
       "      <td>VAR SULP DI TT3 PS</td>\n",
       "      <td>NaN</td>\n",
       "      <td>N</td>\n",
       "      <td>NaN</td>\n",
       "      <td>COM1</td>\n",
       "      <td>2000.0</td>\n",
       "      <td>MOTHC256</td>\n",
       "    </tr>\n",
       "    <tr>\n",
       "      <th>2</th>\n",
       "      <td>3</td>\n",
       "      <td>ARO-3608</td>\n",
       "      <td>3</td>\n",
       "      <td>APHRNG24824</td>\n",
       "      <td>May-16</td>\n",
       "      <td>N</td>\n",
       "      <td>9.833214e+09</td>\n",
       "      <td>Col-4259</td>\n",
       "      <td>PUTK017120</td>\n",
       "      <td>USG4</td>\n",
       "      <td>...</td>\n",
       "      <td>LUTK16458</td>\n",
       "      <td>NaN</td>\n",
       "      <td>NaN</td>\n",
       "      <td>VAR SULP TT4</td>\n",
       "      <td>NaN</td>\n",
       "      <td>N</td>\n",
       "      <td>NaN</td>\n",
       "      <td>COM1</td>\n",
       "      <td>1150.0</td>\n",
       "      <td>MFTRC322</td>\n",
       "    </tr>\n",
       "    <tr>\n",
       "      <th>3</th>\n",
       "      <td>4</td>\n",
       "      <td>ARO-4910</td>\n",
       "      <td>2</td>\n",
       "      <td>APFIL14991</td>\n",
       "      <td>May-16</td>\n",
       "      <td>N</td>\n",
       "      <td>9.560027e+09</td>\n",
       "      <td>Col-3036</td>\n",
       "      <td>PIGB019389</td>\n",
       "      <td>USG1</td>\n",
       "      <td>...</td>\n",
       "      <td>LIGB24977</td>\n",
       "      <td>NaN</td>\n",
       "      <td>NaN</td>\n",
       "      <td>VAR SULP TT4 PS</td>\n",
       "      <td>NaN</td>\n",
       "      <td>N</td>\n",
       "      <td>NaN</td>\n",
       "      <td>COM1</td>\n",
       "      <td>1500.0</td>\n",
       "      <td>MFTRC322</td>\n",
       "    </tr>\n",
       "    <tr>\n",
       "      <th>4</th>\n",
       "      <td>5</td>\n",
       "      <td>ARO-1926</td>\n",
       "      <td>3</td>\n",
       "      <td>APFPTV141468</td>\n",
       "      <td>May-16</td>\n",
       "      <td>N</td>\n",
       "      <td>9.641015e+09</td>\n",
       "      <td>Col-4259</td>\n",
       "      <td>PSJ017406</td>\n",
       "      <td>USG1</td>\n",
       "      <td>...</td>\n",
       "      <td>LSJB56449</td>\n",
       "      <td>NaN</td>\n",
       "      <td>NaN</td>\n",
       "      <td>VAR SULP DI TT3 PS</td>\n",
       "      <td>NaN</td>\n",
       "      <td>N</td>\n",
       "      <td>NaN</td>\n",
       "      <td>COM2</td>\n",
       "      <td>1500.0</td>\n",
       "      <td>MFTRC322</td>\n",
       "    </tr>\n",
       "  </tbody>\n",
       "</table>\n",
       "<p>5 rows × 28 columns</p>\n",
       "</div>"
      ],
      "text/plain": [
       "   Variable1 Variable2  Variable3     Variable4 Variable5 Variable6  \\\n",
       "0          1  ARO-1926          2    APHRNG1692    Apr-16         N   \n",
       "1          2  ARO-4005          3   APFPTV31635    Mar-16         Y   \n",
       "2          3  ARO-3608          3   APHRNG24824    May-16         N   \n",
       "3          4  ARO-4910          2    APFIL14991    May-16         N   \n",
       "4          5  ARO-1926          3  APFPTV141468    May-16         N   \n",
       "\n",
       "      Variable7 Variable8   Variable9 Variable10    ...     Variable19  \\\n",
       "0  9.601204e+09  Col-6930  PBAL014443       USG2    ...      LBAL19777   \n",
       "1  9.388245e+09  Col-4259  PMV0019900       USG1    ...      LMV021548   \n",
       "2  9.833214e+09  Col-4259  PUTK017120       USG4    ...      LUTK16458   \n",
       "3  9.560027e+09  Col-3036  PIGB019389       USG1    ...      LIGB24977   \n",
       "4  9.641015e+09  Col-4259   PSJ017406       USG1    ...      LSJB56449   \n",
       "\n",
       "   Variable20 Variable21          Variable22 Variable23  Variable24  \\\n",
       "0         NaN        NaN  VAR SULP DI TT3 PS        NaN           N   \n",
       "1         NaN        NaN  VAR SULP DI TT3 PS        NaN           N   \n",
       "2         NaN        NaN        VAR SULP TT4        NaN           N   \n",
       "3         NaN        NaN     VAR SULP TT4 PS        NaN           N   \n",
       "4         NaN        NaN  VAR SULP DI TT3 PS        NaN           N   \n",
       "\n",
       "  Variable25 Variable26 Variable27 Variable28  \n",
       "0        NaN       COM1     1150.0   MFTRC322  \n",
       "1        NaN       COM1     2000.0   MOTHC256  \n",
       "2        NaN       COM1     1150.0   MFTRC322  \n",
       "3        NaN       COM1     1500.0   MFTRC322  \n",
       "4        NaN       COM2     1500.0   MFTRC322  \n",
       "\n",
       "[5 rows x 28 columns]"
      ]
     },
     "execution_count": 171,
     "metadata": {},
     "output_type": "execute_result"
    }
   ],
   "source": [
    "test2.head()"
   ]
  },
  {
   "cell_type": "code",
   "execution_count": 172,
   "metadata": {},
   "outputs": [
    {
     "data": {
      "text/plain": [
       "Variable1         0\n",
       "Variable2         0\n",
       "Variable3         0\n",
       "Variable4         0\n",
       "Variable5         0\n",
       "Variable6     17047\n",
       "Variable7      4290\n",
       "Variable8         0\n",
       "Variable9         0\n",
       "Variable10        0\n",
       "Variable11        0\n",
       "Variable12    13435\n",
       "Variable13        0\n",
       "Variable14        0\n",
       "Variable15        0\n",
       "Variable16    63585\n",
       "Variable17        0\n",
       "Variable18    21421\n",
       "Variable19        0\n",
       "Variable20    63795\n",
       "Variable21    72581\n",
       "Variable22        0\n",
       "Variable23    58290\n",
       "Variable24        0\n",
       "Variable25    66399\n",
       "Variable26        0\n",
       "Variable27    12477\n",
       "Variable28        0\n",
       "dtype: int64"
      ]
     },
     "execution_count": 172,
     "metadata": {},
     "output_type": "execute_result"
    }
   ],
   "source": [
    "#checking if there any null values\n",
    "test2.isnull().sum()"
   ]
  },
  {
   "cell_type": "code",
   "execution_count": 173,
   "metadata": {},
   "outputs": [
    {
     "data": {
      "text/plain": [
       "Variable1       0.00\n",
       "Variable2       0.00\n",
       "Variable3       0.00\n",
       "Variable4       0.00\n",
       "Variable5       0.00\n",
       "Variable6      23.49\n",
       "Variable7       5.91\n",
       "Variable8       0.00\n",
       "Variable9       0.00\n",
       "Variable10      0.00\n",
       "Variable11      0.00\n",
       "Variable12     18.51\n",
       "Variable13      0.00\n",
       "Variable14      0.00\n",
       "Variable15      0.00\n",
       "Variable16     87.61\n",
       "Variable17      0.00\n",
       "Variable18     29.51\n",
       "Variable19      0.00\n",
       "Variable20     87.89\n",
       "Variable21    100.00\n",
       "Variable22      0.00\n",
       "Variable23     80.31\n",
       "Variable24      0.00\n",
       "Variable25     91.48\n",
       "Variable26      0.00\n",
       "Variable27     17.19\n",
       "Variable28      0.00\n",
       "dtype: float64"
      ]
     },
     "execution_count": 173,
     "metadata": {},
     "output_type": "execute_result"
    }
   ],
   "source": [
    "# Checking the percentage of missing values\n",
    "round(100*(test2.isnull().sum()/len(test2.index)), 2)"
   ]
  },
  {
   "cell_type": "code",
   "execution_count": 174,
   "metadata": {},
   "outputs": [],
   "source": [
    "# droping the features that are been dropped in train\n",
    "test22 = test2.drop(['Variable16','Variable20','Variable21','Variable23', 'Variable25'], 1)"
   ]
  },
  {
   "cell_type": "code",
   "execution_count": 175,
   "metadata": {},
   "outputs": [
    {
     "data": {
      "text/plain": [
       "(72581, 23)"
      ]
     },
     "execution_count": 175,
     "metadata": {},
     "output_type": "execute_result"
    }
   ],
   "source": [
    "test22.shape"
   ]
  },
  {
   "cell_type": "code",
   "execution_count": 176,
   "metadata": {},
   "outputs": [
    {
     "data": {
      "text/plain": [
       "<matplotlib.axes._subplots.AxesSubplot at 0x2b3bdc1ba58>"
      ]
     },
     "execution_count": 176,
     "metadata": {},
     "output_type": "execute_result"
    },
    {
     "data": {
      "image/png": "[encoded data removed]",
      "text/plain": [
       "<Figure size 432x288 with 1 Axes>"
      ]
     },
     "metadata": {
      "needs_background": "light"
     },
     "output_type": "display_data"
    }
   ],
   "source": [
    "test22.Variable6.value_counts().plot(kind=\"bar\",rot = 0)"
   ]
  },
  {
   "cell_type": "code",
   "execution_count": 177,
   "metadata": {},
   "outputs": [],
   "source": [
    "#since most of the values are NO ,lets impute the missing value with N\n",
    "test22['Variable6'].fillna('N',inplace=True)"
   ]
  },
  {
   "cell_type": "code",
   "execution_count": 178,
   "metadata": {},
   "outputs": [
    {
     "data": {
      "text/plain": [
       "<matplotlib.axes._subplots.AxesSubplot at 0x2b3bdbf3d68>"
      ]
     },
     "execution_count": 178,
     "metadata": {},
     "output_type": "execute_result"
    },
    {
     "data": {
      "image/png": "[encoded data removed]",
      "text/plain": [
       "<Figure size 432x288 with 1 Axes>"
      ]
     },
     "metadata": {
      "needs_background": "light"
     },
     "output_type": "display_data"
    }
   ],
   "source": [
    "test22.Variable7.plot(kind='hist', color='green')    # not a perfect normal distribution"
   ]
  },
  {
   "cell_type": "code",
   "execution_count": 179,
   "metadata": {},
   "outputs": [
    {
     "name": "stderr",
     "output_type": "stream",
     "text": [
      "C:\\Users\\sreekar chidurala\\Anaconda3\\lib\\site-packages\\sklearn\\utils\\deprecation.py:58: DeprecationWarning: Class Imputer is deprecated; Imputer was deprecated in version 0.20 and will be removed in 0.22. Import impute.SimpleImputer from sklearn instead.\n",
      "  warnings.warn(msg, category=DeprecationWarning)\n"
     ]
    }
   ],
   "source": [
    "#not a normal distribution.lets impute missing value with median\n",
    "from sklearn.preprocessing import Imputer\n",
    "imputer = Imputer(missing_values=np.nan, strategy='median', axis=0)\n",
    "test22[['Variable7']] = imputer.fit_transform(test22[['Variable7']])"
   ]
  },
  {
   "cell_type": "code",
   "execution_count": 180,
   "metadata": {},
   "outputs": [
    {
     "data": {
      "text/plain": [
       "100.0    10957\n",
       "150.0     7318\n",
       "80.0      4846\n",
       "650.0     3938\n",
       "200.0     3917\n",
       "Name: Variable12, dtype: int64"
      ]
     },
     "execution_count": 180,
     "metadata": {},
     "output_type": "execute_result"
    }
   ],
   "source": [
    "test22.Variable12.value_counts().head()"
   ]
  },
  {
   "cell_type": "code",
   "execution_count": 181,
   "metadata": {},
   "outputs": [],
   "source": [
    "#lets impute with 100\n",
    "#imputing the mode value \n",
    "test22['Variable12'].fillna(test22['Variable12'].value_counts().index[0],inplace=True)"
   ]
  },
  {
   "cell_type": "code",
   "execution_count": 182,
   "metadata": {},
   "outputs": [
    {
     "data": {
      "text/plain": [
       "<matplotlib.axes._subplots.AxesSubplot at 0x2b3d007b908>"
      ]
     },
     "execution_count": 182,
     "metadata": {},
     "output_type": "execute_result"
    },
    {
     "data": {
      "image/png": "[encoded data removed]",
      "text/plain": [
       "<Figure size 432x288 with 1 Axes>"
      ]
     },
     "metadata": {
      "needs_background": "light"
     },
     "output_type": "display_data"
    }
   ],
   "source": [
    "test22.Variable18.value_counts().plot(kind=\"bar\",rot = 0)"
   ]
  },
  {
   "cell_type": "code",
   "execution_count": 183,
   "metadata": {},
   "outputs": [],
   "source": [
    "#imputing null with 'N'   ( mode value)\n",
    "test22['Variable18'].fillna('N',inplace=True)"
   ]
  },
  {
   "cell_type": "code",
   "execution_count": 184,
   "metadata": {},
   "outputs": [
    {
     "data": {
      "text/plain": [
       "<matplotlib.axes._subplots.AxesSubplot at 0x2b3cfaed198>"
      ]
     },
     "execution_count": 184,
     "metadata": {},
     "output_type": "execute_result"
    },
    {
     "data": {
      "image/png": "[encoded data removed]",
      "text/plain": [
       "<Figure size 432x288 with 1 Axes>"
      ]
     },
     "metadata": {
      "needs_background": "light"
     },
     "output_type": "display_data"
    }
   ],
   "source": [
    "test22.Variable27.plot(kind='hist', color='green')"
   ]
  },
  {
   "cell_type": "code",
   "execution_count": 185,
   "metadata": {},
   "outputs": [],
   "source": [
    "#imputing na with median\n",
    "test22[['Variable27']] = imputer.fit_transform(test22[['Variable27']])"
   ]
  },
  {
   "cell_type": "code",
   "execution_count": 186,
   "metadata": {},
   "outputs": [],
   "source": [
    "#dropping non predicted feature variable1"
   ]
  },
  {
   "cell_type": "code",
   "execution_count": 187,
   "metadata": {},
   "outputs": [
    {
     "data": {
      "text/html": [
       "<div>\n",
       "<style scoped>\n",
       "    .dataframe tbody tr th:only-of-type {\n",
       "        vertical-align: middle;\n",
       "    }\n",
       "\n",
       "    .dataframe tbody tr th {\n",
       "        vertical-align: top;\n",
       "    }\n",
       "\n",
       "    .dataframe thead th {\n",
       "        text-align: right;\n",
       "    }\n",
       "</style>\n",
       "<table border=\"1\" class=\"dataframe\">\n",
       "  <thead>\n",
       "    <tr style=\"text-align: right;\">\n",
       "      <th></th>\n",
       "      <th>Variable2</th>\n",
       "      <th>Variable3</th>\n",
       "      <th>Variable4</th>\n",
       "      <th>Variable5</th>\n",
       "      <th>Variable6</th>\n",
       "      <th>Variable7</th>\n",
       "      <th>Variable8</th>\n",
       "      <th>Variable9</th>\n",
       "      <th>Variable10</th>\n",
       "      <th>Variable11</th>\n",
       "      <th>...</th>\n",
       "      <th>Variable14</th>\n",
       "      <th>Variable15</th>\n",
       "      <th>Variable17</th>\n",
       "      <th>Variable18</th>\n",
       "      <th>Variable19</th>\n",
       "      <th>Variable22</th>\n",
       "      <th>Variable24</th>\n",
       "      <th>Variable26</th>\n",
       "      <th>Variable27</th>\n",
       "      <th>Variable28</th>\n",
       "    </tr>\n",
       "  </thead>\n",
       "  <tbody>\n",
       "    <tr>\n",
       "      <th>0</th>\n",
       "      <td>ARO-1926</td>\n",
       "      <td>2</td>\n",
       "      <td>APHRNG1692</td>\n",
       "      <td>Apr-16</td>\n",
       "      <td>N</td>\n",
       "      <td>9.601204e+09</td>\n",
       "      <td>Col-6930</td>\n",
       "      <td>PBAL014443</td>\n",
       "      <td>USG2</td>\n",
       "      <td>LOTYPE1000</td>\n",
       "      <td>...</td>\n",
       "      <td>D452</td>\n",
       "      <td>Type-206</td>\n",
       "      <td>MFTRV9754</td>\n",
       "      <td>N</td>\n",
       "      <td>LBAL19777</td>\n",
       "      <td>VAR SULP DI TT3 PS</td>\n",
       "      <td>N</td>\n",
       "      <td>COM1</td>\n",
       "      <td>1150.0</td>\n",
       "      <td>MFTRC322</td>\n",
       "    </tr>\n",
       "    <tr>\n",
       "      <th>1</th>\n",
       "      <td>ARO-4005</td>\n",
       "      <td>3</td>\n",
       "      <td>APFPTV31635</td>\n",
       "      <td>Mar-16</td>\n",
       "      <td>Y</td>\n",
       "      <td>9.388245e+09</td>\n",
       "      <td>Col-4259</td>\n",
       "      <td>PMV0019900</td>\n",
       "      <td>USG1</td>\n",
       "      <td>LOTYPE500</td>\n",
       "      <td>...</td>\n",
       "      <td>B191</td>\n",
       "      <td>Type-206</td>\n",
       "      <td>MOTV11811</td>\n",
       "      <td>N</td>\n",
       "      <td>LMV021548</td>\n",
       "      <td>VAR SULP DI TT3 PS</td>\n",
       "      <td>N</td>\n",
       "      <td>COM1</td>\n",
       "      <td>2000.0</td>\n",
       "      <td>MOTHC256</td>\n",
       "    </tr>\n",
       "    <tr>\n",
       "      <th>2</th>\n",
       "      <td>ARO-3608</td>\n",
       "      <td>3</td>\n",
       "      <td>APHRNG24824</td>\n",
       "      <td>May-16</td>\n",
       "      <td>N</td>\n",
       "      <td>9.833214e+09</td>\n",
       "      <td>Col-4259</td>\n",
       "      <td>PUTK017120</td>\n",
       "      <td>USG4</td>\n",
       "      <td>LOTYPE1000</td>\n",
       "      <td>...</td>\n",
       "      <td>A121</td>\n",
       "      <td>Type-206</td>\n",
       "      <td>MFTRV9754</td>\n",
       "      <td>N</td>\n",
       "      <td>LUTK16458</td>\n",
       "      <td>VAR SULP TT4</td>\n",
       "      <td>N</td>\n",
       "      <td>COM1</td>\n",
       "      <td>1150.0</td>\n",
       "      <td>MFTRC322</td>\n",
       "    </tr>\n",
       "    <tr>\n",
       "      <th>3</th>\n",
       "      <td>ARO-4910</td>\n",
       "      <td>2</td>\n",
       "      <td>APFIL14991</td>\n",
       "      <td>May-16</td>\n",
       "      <td>N</td>\n",
       "      <td>9.560027e+09</td>\n",
       "      <td>Col-3036</td>\n",
       "      <td>PIGB019389</td>\n",
       "      <td>USG1</td>\n",
       "      <td>LOTYPE100</td>\n",
       "      <td>...</td>\n",
       "      <td>D452</td>\n",
       "      <td>Type-206</td>\n",
       "      <td>MFTRV9754</td>\n",
       "      <td>N</td>\n",
       "      <td>LIGB24977</td>\n",
       "      <td>VAR SULP TT4 PS</td>\n",
       "      <td>N</td>\n",
       "      <td>COM1</td>\n",
       "      <td>1500.0</td>\n",
       "      <td>MFTRC322</td>\n",
       "    </tr>\n",
       "    <tr>\n",
       "      <th>4</th>\n",
       "      <td>ARO-1926</td>\n",
       "      <td>3</td>\n",
       "      <td>APFPTV141468</td>\n",
       "      <td>May-16</td>\n",
       "      <td>N</td>\n",
       "      <td>9.641015e+09</td>\n",
       "      <td>Col-4259</td>\n",
       "      <td>PSJ017406</td>\n",
       "      <td>USG1</td>\n",
       "      <td>LOTYPE500</td>\n",
       "      <td>...</td>\n",
       "      <td>D452</td>\n",
       "      <td>Type-206</td>\n",
       "      <td>MFTRV9754</td>\n",
       "      <td>N</td>\n",
       "      <td>LSJB56449</td>\n",
       "      <td>VAR SULP DI TT3 PS</td>\n",
       "      <td>N</td>\n",
       "      <td>COM2</td>\n",
       "      <td>1500.0</td>\n",
       "      <td>MFTRC322</td>\n",
       "    </tr>\n",
       "  </tbody>\n",
       "</table>\n",
       "<p>5 rows × 22 columns</p>\n",
       "</div>"
      ],
      "text/plain": [
       "  Variable2  Variable3     Variable4 Variable5 Variable6     Variable7  \\\n",
       "0  ARO-1926          2    APHRNG1692    Apr-16         N  9.601204e+09   \n",
       "1  ARO-4005          3   APFPTV31635    Mar-16         Y  9.388245e+09   \n",
       "2  ARO-3608          3   APHRNG24824    May-16         N  9.833214e+09   \n",
       "3  ARO-4910          2    APFIL14991    May-16         N  9.560027e+09   \n",
       "4  ARO-1926          3  APFPTV141468    May-16         N  9.641015e+09   \n",
       "\n",
       "  Variable8   Variable9 Variable10  Variable11    ...      Variable14  \\\n",
       "0  Col-6930  PBAL014443       USG2  LOTYPE1000    ...            D452   \n",
       "1  Col-4259  PMV0019900       USG1   LOTYPE500    ...            B191   \n",
       "2  Col-4259  PUTK017120       USG4  LOTYPE1000    ...            A121   \n",
       "3  Col-3036  PIGB019389       USG1   LOTYPE100    ...            D452   \n",
       "4  Col-4259   PSJ017406       USG1   LOTYPE500    ...            D452   \n",
       "\n",
       "  Variable15 Variable17 Variable18 Variable19          Variable22 Variable24  \\\n",
       "0   Type-206  MFTRV9754          N  LBAL19777  VAR SULP DI TT3 PS          N   \n",
       "1   Type-206  MOTV11811          N  LMV021548  VAR SULP DI TT3 PS          N   \n",
       "2   Type-206  MFTRV9754          N  LUTK16458        VAR SULP TT4          N   \n",
       "3   Type-206  MFTRV9754          N  LIGB24977     VAR SULP TT4 PS          N   \n",
       "4   Type-206  MFTRV9754          N  LSJB56449  VAR SULP DI TT3 PS          N   \n",
       "\n",
       "  Variable26 Variable27 Variable28  \n",
       "0       COM1     1150.0   MFTRC322  \n",
       "1       COM1     2000.0   MOTHC256  \n",
       "2       COM1     1150.0   MFTRC322  \n",
       "3       COM1     1500.0   MFTRC322  \n",
       "4       COM2     1500.0   MFTRC322  \n",
       "\n",
       "[5 rows x 22 columns]"
      ]
     },
     "execution_count": 187,
     "metadata": {},
     "output_type": "execute_result"
    }
   ],
   "source": [
    "test22 = test22.drop(labels = \"Variable1\", axis = 1)\n",
    "test22.head()"
   ]
  },
  {
   "cell_type": "code",
   "execution_count": 188,
   "metadata": {},
   "outputs": [
    {
     "data": {
      "text/plain": [
       "Variable2      object\n",
       "Variable3       int64\n",
       "Variable4      object\n",
       "Variable5      object\n",
       "Variable6      object\n",
       "Variable7     float64\n",
       "Variable8      object\n",
       "Variable9      object\n",
       "Variable10     object\n",
       "Variable11     object\n",
       "Variable12    float64\n",
       "Variable13     object\n",
       "Variable14     object\n",
       "Variable15     object\n",
       "Variable17     object\n",
       "Variable18     object\n",
       "Variable19     object\n",
       "Variable22     object\n",
       "Variable24     object\n",
       "Variable26     object\n",
       "Variable27    float64\n",
       "Variable28     object\n",
       "dtype: object"
      ]
     },
     "execution_count": 188,
     "metadata": {},
     "output_type": "execute_result"
    }
   ],
   "source": [
    "test22.dtypes"
   ]
  },
  {
   "cell_type": "code",
   "execution_count": 189,
   "metadata": {},
   "outputs": [
    {
     "data": {
      "text/plain": [
       "Variable1       int64\n",
       "Variable2      object\n",
       "Variable3       int64\n",
       "Variable4      object\n",
       "Variable5      object\n",
       "Variable6      object\n",
       "Variable7     float64\n",
       "Variable8      object\n",
       "Variable9      object\n",
       "Variable10     object\n",
       "Variable11     object\n",
       "Variable12    float64\n",
       "Variable13     object\n",
       "Variable14     object\n",
       "Variable15     object\n",
       "Variable17     object\n",
       "Variable18     object\n",
       "Variable19     object\n",
       "Variable22     object\n",
       "Variable24     object\n",
       "Variable26     object\n",
       "Variable27    float64\n",
       "Variable28     object\n",
       "dtype: object"
      ]
     },
     "execution_count": 189,
     "metadata": {},
     "output_type": "execute_result"
    }
   ],
   "source": [
    "test1.dtypes"
   ]
  },
  {
   "cell_type": "code",
   "execution_count": 190,
   "metadata": {},
   "outputs": [],
   "source": [
    "#converting object to category\n",
    "categorical = list(test22.select_dtypes(include=['object']).columns.values)\n",
    "for cat in categorical:\n",
    "    test22[cat]=test22[cat].astype('str')"
   ]
  },
  {
   "cell_type": "code",
   "execution_count": 169,
   "metadata": {},
   "outputs": [
    {
     "data": {
      "text/plain": [
       "Variable2        int32\n",
       "Variable3        int64\n",
       "Variable4     category\n",
       "Variable5     category\n",
       "Variable6     category\n",
       "Variable7      float64\n",
       "Variable8     category\n",
       "Variable9     category\n",
       "Variable10    category\n",
       "Variable11    category\n",
       "Variable12     float64\n",
       "Variable13    category\n",
       "Variable14    category\n",
       "Variable15    category\n",
       "Variable17    category\n",
       "Variable18    category\n",
       "Variable19    category\n",
       "Variable22    category\n",
       "Variable24    category\n",
       "Variable26    category\n",
       "Variable27     float64\n",
       "Variable28    category\n",
       "dtype: object"
      ]
     },
     "execution_count": 169,
     "metadata": {},
     "output_type": "execute_result"
    }
   ],
   "source": [
    "test22.dtypes"
   ]
  },
  {
   "cell_type": "code",
   "execution_count": 191,
   "metadata": {},
   "outputs": [],
   "source": [
    "#lebel encoding\n",
    "from sklearn.preprocessing import LabelEncoder\n",
    "le=LabelEncoder()"
   ]
  },
  {
   "cell_type": "code",
   "execution_count": 192,
   "metadata": {},
   "outputs": [],
   "source": [
    "for col in test22.columns.values:\n",
    "        #Encoding only categorical variables\n",
    "    if test22[col].dtypes!= 'float64':\n",
    "       # Using whole data to form an exhaustive list of levels\n",
    "       W1_data=data1[col].append(test22[col])\n",
    "       le.fit(W1_data.values)\n",
    "       test22[col]=le.transform(test22[col])"
   ]
  },
  {
   "cell_type": "code",
   "execution_count": 193,
   "metadata": {},
   "outputs": [
    {
     "data": {
      "text/html": [
       "<div>\n",
       "<style scoped>\n",
       "    .dataframe tbody tr th:only-of-type {\n",
       "        vertical-align: middle;\n",
       "    }\n",
       "\n",
       "    .dataframe tbody tr th {\n",
       "        vertical-align: top;\n",
       "    }\n",
       "\n",
       "    .dataframe thead th {\n",
       "        text-align: right;\n",
       "    }\n",
       "</style>\n",
       "<table border=\"1\" class=\"dataframe\">\n",
       "  <thead>\n",
       "    <tr style=\"text-align: right;\">\n",
       "      <th></th>\n",
       "      <th>Variable2</th>\n",
       "      <th>Variable3</th>\n",
       "      <th>Variable4</th>\n",
       "      <th>Variable5</th>\n",
       "      <th>Variable6</th>\n",
       "      <th>Variable7</th>\n",
       "      <th>Variable8</th>\n",
       "      <th>Variable9</th>\n",
       "      <th>Variable10</th>\n",
       "      <th>Variable11</th>\n",
       "      <th>...</th>\n",
       "      <th>Variable14</th>\n",
       "      <th>Variable15</th>\n",
       "      <th>Variable17</th>\n",
       "      <th>Variable18</th>\n",
       "      <th>Variable19</th>\n",
       "      <th>Variable22</th>\n",
       "      <th>Variable24</th>\n",
       "      <th>Variable26</th>\n",
       "      <th>Variable27</th>\n",
       "      <th>Variable28</th>\n",
       "    </tr>\n",
       "  </thead>\n",
       "  <tbody>\n",
       "    <tr>\n",
       "      <th>0</th>\n",
       "      <td>1</td>\n",
       "      <td>2</td>\n",
       "      <td>18</td>\n",
       "      <td>0</td>\n",
       "      <td>0</td>\n",
       "      <td>9.601204e+09</td>\n",
       "      <td>10</td>\n",
       "      <td>29</td>\n",
       "      <td>1</td>\n",
       "      <td>1</td>\n",
       "      <td>...</td>\n",
       "      <td>3</td>\n",
       "      <td>0</td>\n",
       "      <td>4</td>\n",
       "      <td>2</td>\n",
       "      <td>63</td>\n",
       "      <td>10</td>\n",
       "      <td>0</td>\n",
       "      <td>0</td>\n",
       "      <td>1150.0</td>\n",
       "      <td>23</td>\n",
       "    </tr>\n",
       "    <tr>\n",
       "      <th>1</th>\n",
       "      <td>12</td>\n",
       "      <td>3</td>\n",
       "      <td>11</td>\n",
       "      <td>10</td>\n",
       "      <td>1</td>\n",
       "      <td>9.388245e+09</td>\n",
       "      <td>2</td>\n",
       "      <td>131</td>\n",
       "      <td>0</td>\n",
       "      <td>2</td>\n",
       "      <td>...</td>\n",
       "      <td>1</td>\n",
       "      <td>0</td>\n",
       "      <td>11</td>\n",
       "      <td>2</td>\n",
       "      <td>274</td>\n",
       "      <td>10</td>\n",
       "      <td>0</td>\n",
       "      <td>0</td>\n",
       "      <td>2000.0</td>\n",
       "      <td>45</td>\n",
       "    </tr>\n",
       "    <tr>\n",
       "      <th>2</th>\n",
       "      <td>9</td>\n",
       "      <td>3</td>\n",
       "      <td>19</td>\n",
       "      <td>12</td>\n",
       "      <td>0</td>\n",
       "      <td>9.833214e+09</td>\n",
       "      <td>2</td>\n",
       "      <td>257</td>\n",
       "      <td>3</td>\n",
       "      <td>1</td>\n",
       "      <td>...</td>\n",
       "      <td>0</td>\n",
       "      <td>0</td>\n",
       "      <td>4</td>\n",
       "      <td>2</td>\n",
       "      <td>520</td>\n",
       "      <td>13</td>\n",
       "      <td>0</td>\n",
       "      <td>0</td>\n",
       "      <td>1150.0</td>\n",
       "      <td>23</td>\n",
       "    </tr>\n",
       "    <tr>\n",
       "      <th>3</th>\n",
       "      <td>17</td>\n",
       "      <td>2</td>\n",
       "      <td>0</td>\n",
       "      <td>12</td>\n",
       "      <td>0</td>\n",
       "      <td>9.560027e+09</td>\n",
       "      <td>0</td>\n",
       "      <td>81</td>\n",
       "      <td>0</td>\n",
       "      <td>0</td>\n",
       "      <td>...</td>\n",
       "      <td>3</td>\n",
       "      <td>0</td>\n",
       "      <td>4</td>\n",
       "      <td>2</td>\n",
       "      <td>161</td>\n",
       "      <td>14</td>\n",
       "      <td>0</td>\n",
       "      <td>0</td>\n",
       "      <td>1500.0</td>\n",
       "      <td>23</td>\n",
       "    </tr>\n",
       "    <tr>\n",
       "      <th>4</th>\n",
       "      <td>1</td>\n",
       "      <td>3</td>\n",
       "      <td>7</td>\n",
       "      <td>12</td>\n",
       "      <td>0</td>\n",
       "      <td>9.641015e+09</td>\n",
       "      <td>2</td>\n",
       "      <td>207</td>\n",
       "      <td>0</td>\n",
       "      <td>2</td>\n",
       "      <td>...</td>\n",
       "      <td>3</td>\n",
       "      <td>0</td>\n",
       "      <td>4</td>\n",
       "      <td>2</td>\n",
       "      <td>437</td>\n",
       "      <td>10</td>\n",
       "      <td>0</td>\n",
       "      <td>1</td>\n",
       "      <td>1500.0</td>\n",
       "      <td>23</td>\n",
       "    </tr>\n",
       "  </tbody>\n",
       "</table>\n",
       "<p>5 rows × 22 columns</p>\n",
       "</div>"
      ],
      "text/plain": [
       "   Variable2  Variable3  Variable4  Variable5  Variable6     Variable7  \\\n",
       "0          1          2         18          0          0  9.601204e+09   \n",
       "1         12          3         11         10          1  9.388245e+09   \n",
       "2          9          3         19         12          0  9.833214e+09   \n",
       "3         17          2          0         12          0  9.560027e+09   \n",
       "4          1          3          7         12          0  9.641015e+09   \n",
       "\n",
       "   Variable8  Variable9  Variable10  Variable11     ...      Variable14  \\\n",
       "0         10         29           1           1     ...               3   \n",
       "1          2        131           0           2     ...               1   \n",
       "2          2        257           3           1     ...               0   \n",
       "3          0         81           0           0     ...               3   \n",
       "4          2        207           0           2     ...               3   \n",
       "\n",
       "   Variable15  Variable17  Variable18  Variable19  Variable22  Variable24  \\\n",
       "0           0           4           2          63          10           0   \n",
       "1           0          11           2         274          10           0   \n",
       "2           0           4           2         520          13           0   \n",
       "3           0           4           2         161          14           0   \n",
       "4           0           4           2         437          10           0   \n",
       "\n",
       "   Variable26  Variable27  Variable28  \n",
       "0           0      1150.0          23  \n",
       "1           0      2000.0          45  \n",
       "2           0      1150.0          23  \n",
       "3           0      1500.0          23  \n",
       "4           1      1500.0          23  \n",
       "\n",
       "[5 rows x 22 columns]"
      ]
     },
     "execution_count": 193,
     "metadata": {},
     "output_type": "execute_result"
    }
   ],
   "source": [
    "test22.head()"
   ]
  },
  {
   "cell_type": "code",
   "execution_count": 207,
   "metadata": {},
   "outputs": [],
   "source": [
    "# scalling\n",
    "test22_z = scaler.transform(test22)\n"
   ]
  },
  {
   "cell_type": "markdown",
   "metadata": {},
   "source": [
    "### using the above models"
   ]
  },
  {
   "cell_type": "code",
   "execution_count": 233,
   "metadata": {},
   "outputs": [],
   "source": [
    "predicted_labels2 = clf.predict(test22_z)"
   ]
  },
  {
   "cell_type": "code",
   "execution_count": 224,
   "metadata": {},
   "outputs": [],
   "source": [
    "submission=pd.DataFrame(predicted_labels2)"
   ]
  },
  {
   "cell_type": "code",
   "execution_count": 225,
   "metadata": {},
   "outputs": [
    {
     "data": {
      "text/html": [
       "<div>\n",
       "<style scoped>\n",
       "    .dataframe tbody tr th:only-of-type {\n",
       "        vertical-align: middle;\n",
       "    }\n",
       "\n",
       "    .dataframe tbody tr th {\n",
       "        vertical-align: top;\n",
       "    }\n",
       "\n",
       "    .dataframe thead th {\n",
       "        text-align: right;\n",
       "    }\n",
       "</style>\n",
       "<table border=\"1\" class=\"dataframe\">\n",
       "  <thead>\n",
       "    <tr style=\"text-align: right;\">\n",
       "      <th></th>\n",
       "      <th>ID</th>\n",
       "      <th>Class</th>\n",
       "    </tr>\n",
       "  </thead>\n",
       "  <tbody>\n",
       "    <tr>\n",
       "      <th>0</th>\n",
       "      <td>1</td>\n",
       "      <td>0</td>\n",
       "    </tr>\n",
       "    <tr>\n",
       "      <th>1</th>\n",
       "      <td>2</td>\n",
       "      <td>0</td>\n",
       "    </tr>\n",
       "    <tr>\n",
       "      <th>2</th>\n",
       "      <td>3</td>\n",
       "      <td>0</td>\n",
       "    </tr>\n",
       "    <tr>\n",
       "      <th>3</th>\n",
       "      <td>4</td>\n",
       "      <td>0</td>\n",
       "    </tr>\n",
       "    <tr>\n",
       "      <th>4</th>\n",
       "      <td>5</td>\n",
       "      <td>0</td>\n",
       "    </tr>\n",
       "  </tbody>\n",
       "</table>\n",
       "</div>"
      ],
      "text/plain": [
       "   ID  Class\n",
       "0   1      0\n",
       "1   2      0\n",
       "2   3      0\n",
       "3   4      0\n",
       "4   5      0"
      ]
     },
     "execution_count": 225,
     "metadata": {},
     "output_type": "execute_result"
    }
   ],
   "source": [
    "submission=pd.DataFrame(pd.read_csv(\"use.csv\")[\"ID\"])\n",
    "for i in range(0,len(submission)):\n",
    "    submission[\"ID\"][i] = i+1\n",
    "submission[\"Class\"]=predicted_labels2\n",
    "submission.head()"
   ]
  },
  {
   "cell_type": "code",
   "execution_count": 226,
   "metadata": {},
   "outputs": [],
   "source": [
    "submission.to_csv('sub_svc.csv', index=False)"
   ]
  },
  {
   "cell_type": "markdown",
   "metadata": {},
   "source": [
    "#### Of all the modles i've performed ,Random forest gave a best score of 93% accuracy"
   ]
  },
  {
   "cell_type": "code",
   "execution_count": 202,
   "metadata": {},
   "outputs": [],
   "source": []
  },
  {
   "cell_type": "code",
   "execution_count": null,
   "metadata": {},
   "outputs": [],
   "source": []
  }
 ],
 "metadata": {
  "kernelspec": {
   "display_name": "Python 3",
   "language": "python",
   "name": "python3"
  },
  "language_info": {
   "codemirror_mode": {
    "name": "ipython",
    "version": 3
   },
   "file_extension": ".py",
   "mimetype": "text/x-python",
   "name": "python",
   "nbconvert_exporter": "python",
   "pygments_lexer": "ipython3",
   "version": "3.7.0"
  }
 },
 "nbformat": 4,
 "nbformat_minor": 2
}
